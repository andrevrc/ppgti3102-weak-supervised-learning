{
 "cells": [
  {
   "cell_type": "code",
   "execution_count": 2,
   "metadata": {},
   "outputs": [
    {
     "name": "stdout",
     "output_type": "stream",
     "text": [
      "Hello World!\n"
     ]
    }
   ],
   "source": [
    "print(\"Hello World!\")"
   ]
  },
  {
   "cell_type": "code",
   "execution_count": 3,
   "metadata": {},
   "outputs": [
    {
     "name": "stdout",
     "output_type": "stream",
     "text": [
      "total 40068\n",
      "drwxr-xr-x 2 andrevrc andrevrc     4096 Jun 26 17:06 .\n",
      "drwxr-xr-x 3 andrevrc andrevrc     4096 Jun 26 17:03 ..\n",
      "-rw-r--r-- 1 andrevrc andrevrc      701 Jun 26 17:15 projeto_final_review_analysis.ipynb\n",
      "-rw-r--r-- 1 andrevrc andrevrc 41015476 Nov 15  2023 train-00000-of-00001-34e817339f28df45.parquet\n"
     ]
    }
   ],
   "source": [
    "!ls -la"
   ]
  }
 ],
 "metadata": {
  "kernelspec": {
   "display_name": "Python 3",
   "language": "python",
   "name": "python3"
  },
  "language_info": {
   "codemirror_mode": {
    "name": "ipython",
    "version": 3
   },
   "file_extension": ".py",
   "mimetype": "text/x-python",
   "name": "python",
   "nbconvert_exporter": "python",
   "pygments_lexer": "ipython3",
   "version": "3.12.1"
  }
 },
 "nbformat": 4,
 "nbformat_minor": 2
}
