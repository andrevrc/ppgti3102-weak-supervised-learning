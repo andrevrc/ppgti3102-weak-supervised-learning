{
 "cells": [
  {
   "cell_type": "markdown",
   "metadata": {},
   "source": [
    "# Projeto Final\n",
    "\n",
    "Para esse projeto foi considerado a base de dados em Português do Brasil de reviews disponíveis no IMDB.\n",
    "\n",
    "Esse site contém uma ampla variedade de catálogos de filmes em que as pessoas cadastradas podem realizar comentários com suas opiniões.\n",
    "\n",
    "Essa base de dados está disponível em: \n",
    "* https://huggingface.co/datasets/celsowm/imdb-reviews-pt-br"
   ]
  },
  {
   "cell_type": "markdown",
   "metadata": {},
   "source": [
    "## Fazendo Importações Necessárias\n",
    "\n",
    "Para execução do código presente nesse Notebook, será necessário a realização dos imports a seguir. \n",
    "\n",
    "Essa linha deve sempre ser executada primeiro."
   ]
  },
  {
   "cell_type": "code",
   "execution_count": 1,
   "metadata": {},
   "outputs": [
    {
     "data": {
      "text/plain": [
       "'0.10.0'"
      ]
     },
     "execution_count": 1,
     "metadata": {},
     "output_type": "execute_result"
    }
   ],
   "source": [
    "import os\n",
    "\n",
    "os.environ['TOKENIZERS_PARALLELISM'] = \"false\"\n",
    "\n",
    "import snorkel\n",
    "import pandas as pd\n",
    "from snorkel.labeling import (LFAnalysis, PandasLFApplier,filter_unlabeled_dataframe, labeling_function)\n",
    "from snorkel.labeling.model.label_model import LabelModel\n",
    "from snorkel.utils import probs_to_preds\n",
    "\n",
    "snorkel.__version__"
   ]
  },
  {
   "cell_type": "markdown",
   "metadata": {},
   "source": [
    "### Carregando o dataset"
   ]
  },
  {
   "cell_type": "code",
   "execution_count": 3,
   "metadata": {},
   "outputs": [
    {
     "data": {
      "text/html": [
       "<div>\n",
       "<style scoped>\n",
       "    .dataframe tbody tr th:only-of-type {\n",
       "        vertical-align: middle;\n",
       "    }\n",
       "\n",
       "    .dataframe tbody tr th {\n",
       "        vertical-align: top;\n",
       "    }\n",
       "\n",
       "    .dataframe thead th {\n",
       "        text-align: right;\n",
       "    }\n",
       "</style>\n",
       "<table border=\"1\" class=\"dataframe\">\n",
       "  <thead>\n",
       "    <tr style=\"text-align: right;\">\n",
       "      <th></th>\n",
       "      <th>id</th>\n",
       "      <th>texto</th>\n",
       "      <th>sentimento</th>\n",
       "    </tr>\n",
       "  </thead>\n",
       "  <tbody>\n",
       "    <tr>\n",
       "      <th>0</th>\n",
       "      <td>1</td>\n",
       "      <td>Mais uma vez, o Sr. Costner arrumou um filme p...</td>\n",
       "      <td>0</td>\n",
       "    </tr>\n",
       "    <tr>\n",
       "      <th>1</th>\n",
       "      <td>2</td>\n",
       "      <td>Este é um exemplo do motivo pelo qual a maiori...</td>\n",
       "      <td>0</td>\n",
       "    </tr>\n",
       "    <tr>\n",
       "      <th>2</th>\n",
       "      <td>3</td>\n",
       "      <td>Primeiro de tudo eu odeio esses raps imbecis, ...</td>\n",
       "      <td>0</td>\n",
       "    </tr>\n",
       "    <tr>\n",
       "      <th>3</th>\n",
       "      <td>4</td>\n",
       "      <td>Nem mesmo os Beatles puderam escrever músicas ...</td>\n",
       "      <td>0</td>\n",
       "    </tr>\n",
       "    <tr>\n",
       "      <th>4</th>\n",
       "      <td>5</td>\n",
       "      <td>Filmes de fotos de latão não é uma palavra apr...</td>\n",
       "      <td>0</td>\n",
       "    </tr>\n",
       "  </tbody>\n",
       "</table>\n",
       "</div>"
      ],
      "text/plain": [
       "   id                                              texto  sentimento\n",
       "0   1  Mais uma vez, o Sr. Costner arrumou um filme p...           0\n",
       "1   2  Este é um exemplo do motivo pelo qual a maiori...           0\n",
       "2   3  Primeiro de tudo eu odeio esses raps imbecis, ...           0\n",
       "3   4  Nem mesmo os Beatles puderam escrever músicas ...           0\n",
       "4   5  Filmes de fotos de latão não é uma palavra apr...           0"
      ]
     },
     "execution_count": 3,
     "metadata": {},
     "output_type": "execute_result"
    }
   ],
   "source": [
    "df = pd.read_parquet('datasets/train-00000-of-00001-34e817339f28df45.parquet')\n",
    "df.head()"
   ]
  },
  {
   "cell_type": "code",
   "execution_count": 4,
   "metadata": {},
   "outputs": [
    {
     "name": "stdout",
     "output_type": "stream",
     "text": [
      "Assassinatos estão ocorrendo em uma cidade do deserto do Texas. Quem é responsável? Ligeiras novidades de mistério e tensões raciais este último realmente não se encaixa, mas de outra forma estritamente para os fãs de slasher, que irão apreciar a nesga e nudez, que são dois elementos convencionais para estes filmes.Dana Kimmell de Sexta-feira 13ª infâmia estrelas como o malcriado adolescente quase-detetive.1 / 2 da MPAA: Pontuação: R por violência e nesga, nudez e alguma linguagem. - 31656\n",
      "\n",
      "\n",
      "Prós: NothingCons: EverythingPlot resumo: Uma repórter fêmea corre para um caroneiro que conta suas histórias sobre as mortes de pessoas que foram mortas por zumbis. Revisão: Nunca na minha vida eu me deparei com um filme tão ruim quanto The Zombie Chronicles. Filmado em um orçamento do que parece ser cerca de 20 dólares, o TZC é um filme de terror completamente horrível que conta com atores esquecidos e esquecidos que não poderiam agir para salvar suas vidas, o que é mais grosseiro do que assustador. Como um filme como esse é feito? Simplificando, evite TZC como uma doença sexualmente transmissível. Meus últimos 2 centavos: humoristicamente, este filme foi feito por uma empresa de filmes chamada Brain Damage Films. Eles são cérebros devem ter sido realmente danificados para vir para cima com um filme de craptacular como este.Minha avaliação: 1 fora de 10Se fosse até mim, este filme adquiriria a avaliação de bajillion negativo - 25733\n",
      "\n",
      "\n",
      "A primeira imagem falada voltou do esquecimento, e agora você pode ouvir e ver! No outono de 1894, no complexo de laboratórios Edison, em West Orange, Nova Jersey, William Dickson, associado da Thomas Edisons, tentou combinar duas tecnologias existentes, o fonógrafo e o cinetoscópio, para gravar som e imagem juntos. No evento, Dickson foi incapaz de sincronizar a reprodução de som e imagem, então este filme experimental nunca foi lançado para audiências pagas ... e, consequentemente, ao contrário de muitos filmes mudos que Dickson fez para Edison neste momento, não tem nenhum título oficial. A imagem silenciosa gravada a 40 fps está na Biblioteca do Congresso há anos, conhecida por filmar historiadores como uma curiosidade muda. Também se sabia que a trilha sonora tinha sido gravada em um dos cilindros de cera que definhava no Edison National Historic Site ... embora ninguém soubesse qual deles. Mas agora isso mudou. Recentemente, curadores localizaram o cilindro de cera, que havia se partido em vários pedaços. Estes foram remontados: uma reprodução foi obtida e o som foi digitalizado. O editor veterano da trilha sonora de Hollywood, Walter Murch, limpou o ruído de fundo e ajustou a digitalização para fazer com que ela se sincronizasse com a imagem do filme, que Murch comprimira digitalmente a 30 fps. O som e a imagem são sincronizados finalmente! O filme começa com uma chamada de voz do homem fora da tela: O resto de vocês está pronto? Continue! O falante invisível permanece sem identificação, mas provavelmente foi o assistente de Dicksons, Fred Ott. Na tela, Dickson toca violino em um imenso funil montado em um tripé de um dos aparelhos de gravação de som de Edisons, enquanto ao lado dele, à vista da câmera, dois assistentes de laboratório se abraçam para dançar rapidamente no ritmo de Dicksons. O filme dura apenas 17 segundos: apenas o tempo suficiente para nos maravilharmos com essa tecnologia crua antes de sermos provocados a rir ao ver dois homens valsando nos braços um do outro. Falando nisso, aqui está um aviso: um livro de referência bem conhecido, mas extremamente impreciso, The Celluloid Closet, do falecido Vito Russo, inclui uma ampliação de quadro deste filme e o identifica como The Gay Brothers. Isso é incorreto. The Gay Brothers é um filme totalmente diferente, feito por Dickson no laboratório Edison durante esse mesmo período. Os irmãos gays nunca tiveram uma trilha sonora: é um breve filme de ficção sobre dois irmãos que não são gays no sentido de que Russo quis dizer isso. O falecido Sr. Russo, por suas próprias razões, queria que percebêssemos o filme sonoro experimental de Dickson como o primeiro filme musical! como um artefato do homoerotismo do século XIX. Hmm, o que é sobre gays e musicais? Desculpe, mas não há tal conteúdo aqui. Este filme de vital importância merece uma classificação de 10 em 10. Eu sempre sustentei que nenhum filme perdido deveria ser considerado irrecuperável a menos que fosse deliberadamente destruído: Estou muito contente em relatar que este filme é finalmente disponível para o público como seu produtor pretendia, mais de um século depois que foi filmado! - 23066\n",
      "\n",
      "\n",
      "Observando o elenco, recentemente assisti a esse filme no TCM, esperando por uma gema pouco apreciada, já que considero muitos filmes dos anos 30. Esta não é uma jóia - nem mesmo semipreciosa. A roupa anacrônica e a limusine Rolls Royce da década de 1930 o atingem imediatamente. O elenco é estranho também. Mas, na maioria das vezes, há muitos dispositivos de enredo estúpidos e desnecessários. Este filme tem muitos ingredientes bons e um enredo básico que promete, mas os componentes não são misturados de acordo com a receita certa. Ele simplesmente não vem junto como deveria. E isso é uma vergonha. Com algumas alterações bastante óbvias, mas menores, este poderia ter sido um filme muito bom. O filme é sobre uma showgirl americana Jean Harlow procurando um marido britânico rico - de preferência da nobreza. Ela conhece Franchot Tone e seu amigo, que estão em uma cotovia em um Rolls Royce de propriedade de seu empregador buddys. Harlow assume erroneamente que Tone é o Senhor que é dono dos Rolls, e ela se volta para ele. Esta parte inicial do filme é uma comédia leve de nenhuma distinção real. No entanto, Tom involuntariamente descobre o fato de que seu empregador é na verdade um quinto colunista alemão na véspera da Primeira Guerra Mundial, e é quando o filme muda de tom completamente e começa a desmoronar. Tom e Harlow são casados, mas assim que a lua de mel começa, ele é morto a tiros por Benita Hume, do tipo Mata Hari, e Harlow foge do local, com um espectador a acusando de assassinato de Tones. Na verdade, Tone se recupera das feridas. Harlow foge para a França, onde se apaixona novamente - desta vez com um rico cad Cary Grant. Tom, agora no exército, e Harlow são inesperadamente trazidos de volta no quarto de hospital de Grants, onde ele está em reabilitação devido a um acidente de avião. Na cena seguinte, Tone acusa Harlow de abandoná-lo porque ela é essencialmente uma escavadora de ouro. Harlow nunca explica sobre a testemunha acusando-a de assassinato e seu pânico! Essa é uma daquelas irreais quebras de tramas de filme na história. Então Tom também é trazido de volta ao contato com a mulher que atirou nele. Ela está à disposição para assistir seu amante, Grant, testar o novo avião que Tom lhe entregou da Inglaterra. Inacreditavelmente, tanto Hume quanto Tone reconhecem-se fracamente, mas simplesmente não podem partir de onde! Ok, então Tom foi baleado e quase morreu; talvez a memória dele esteja um pouco fora de sintonia. Mas quantos homens Hume atirou que ela esqueceria uma de suas marcas? Ela não parece estar fingindo o lapso de memória. Isso é inexplicável e desnecessário. Hume deveria tê-lo reconhecido absolutamente, mas fingiu quando percebeu que Tom não era capaz de colocá-la. Isso teria sido um tratamento muito melhor dessa questão. O final também é muito insatisfatório. O filme, como feito, tem Tone e Harlow conspirando para preservar a boa reputação do cad, Grant, levando ao seu enterro fraudulento como um herói. Então Harlow e Tom se afastam. É nobre preservar a percepção pública francesa de seu herói de guerra nacional, mas muito insatisfatório como uma história de amor! O que o filme pede é o seguinte: Harlow explica que ela fugiu em pânico diante de acusações de assassinato; Tom a perdoa e discretamente reaviva seu amor por ela; ele então carrega uma tocha para ela, mesmo enquanto a ajuda a manipular o local do acidente para preservar a reputação do Grants. Enquanto isso, Harlow finalmente reconhece Grant pelo caos que ele é. Depois de ter visto Tone para o homem corajoso e nobre que ele é, Harlow também reacende sentimentos por ele. No final dos filmes, os dois se reconciliam enquanto trabalham juntos para manipular a aparência da morte de Grants. Depois do enterro de Grants heros, nós os vemos abraçar e beijar no desvanecimento. Isso teria feito um pequeno filme legal. Para os fãs de Cary Grant, teria sido ainda melhor se Tone interpretasse o cadete francês que é morto e Grant o primeiro marido sofredor, reunido com Harlow. É incompreensível que Franchot Tone seja escalado como o irlandês que vive na Inglaterra, enquanto Cary Grant é escalado como o francês. Este filme teria sido muito melhor se eles tivessem invertido os papéis. Isso também teria sido mais propício para o filme que deveria ter sido ... - 25669\n",
      "\n",
      "\n",
      "Este filme é basicamente uma versão pobre da antiga lenda urbana da babá, que recebe telefonemas pedindo para ela checar as crianças, ela chama a polícia que rastreia as chamadas e encontra lá vindo de dentro da casa. quando um assassino chama tem uma história tão simplista que um garotinho poderia ter escrito. Não há muito suspense, fica claro quem é o assassino na metade do filme. no começo, quando a primeira vítima é morta, parece uma cena fetichista de um site pornô ou algo assim. O que há com isso? o filme é tão típico de slasher com um enredo tão original quanto um show dos Beatles. Mesmo por padrões de baixo orçamento slasher é brega. Não perca seu tempo com isso. nuff disse - 8006\n",
      "\n",
      "\n",
      "Você obtém uma boa parte das ansiedades ambientais de Steven Seagal, e algumas vistas da montanha sem fôlego junto com cenas de cow-boys ou alternativamente usa partes de quaisquer restos do WHISPERER DE CAVALO. Você então adiciona um pedaço grande de vírus OUTBREAK ou atenção similar que deve ser mais letal e pelo menos Biohazard Nível 4 enrolado em torno de um líder do grupo Milícia gorda. Você adiciona uma colher de chá de artes marciais e um zip de explosões e tiros para o gosto. Adicione as ervas indianas vermelhas clássicas para o sabor extra. Sirva imediatamente.Qual é o nome do filme que você recebe ?: O Patriota. Talvez o pior filme de Steven Seagal. Tenho certeza de que Seagal tentou dizer alguma coisa neste filme, exceto o habitual cozinheiro, mas também um selo, mas sua receita era confusa e o sabor era horrível. - 4230\n",
      "\n",
      "\n",
      "James L. Brook é um desses diretores que sempre parece ter uma visão peculiar da vida. Ele não é apenas o produtor de \"Os Simpsons\", ele tem algumas comédias clássicas em seu currículo - \"Broadcast News\" é um deles. Embora não corresponda ao seu esforço posterior \"As Good As It Gets\", \"Broadcast News\" é ainda é um filme muito inteligente, engraçado e espirituoso sobre uma emissora de televisão e todos os problemas que eles sofrem. Há uma grande sequência cômica de humor físico em que Joan Cusack está correndo pelo prédio tentando levar uma fita de notícias para a sala de edição em questão de minutos antes de ser transmitida ao vivo pela TV. Isso não é muito verdadeiro em termos de como estações de transmissão agitadas são operadas, mas também um retrato hábil e honesto dos seres humanos. Um filme discreto e sutil, com boa atuação, especialmente de Hurt, que eu nem sempre gosto muito de uma direção adequada. - 14875\n",
      "\n",
      "\n",
      "As palavras não podem descrever o quão estúpida é essa história e, portanto, esse filme é ruim! Basinger, Del Toro ... o que você estava pensando? Então há um shopping e seu espaço de estacionamento está totalmente cheio. O personagem Basingers entra para comprar uma xícara de chá e algumas embalagens de papel. Quando ela sai, todo o lugar está tão vazio, que ninguém ouve dois tiros disparados nas proximidades ?? Mesmo que ela mora lá, quando ela se afasta dos bandidos, ela vai para o lugar mais remoto e abandonado, em vez da delegacia de polícia mais próxima ou pelo menos um lugar lotado? VAMOS !!! Eu nem vou entrar na infame caixa de ferramentas vermelha, já que outras pessoas já fizeram isso antes. Muito menos como ela mata os bandidos idiotas um por um. Isso é tão estúpido, sem o mínimo de lógica, só posso avisá-lo assistindo, é uma perda total de tempo, honestamente! - 27287\n",
      "\n",
      "\n",
      "Quando eu comecei a assistir \"Surface\" pela primeira vez eu estava viciado.Ele tinha tudo que eu queria em um show de suspense, ação, mistério, grande enredo, e um grande elenco de personagens.Minha família inteira amava assistir ao show.Parece quando há um ótimo programa na TV, a rede normalmente cancela o programa como pareciam fazer com esse programa. Eles usam o sistema de classificação Nielson, o que eu acho que é estúpido, porque há muito lixo que eles parecem assistir, o que as redes mantêm. Se houvesse uma maneira de todo mundo votar em um show, então talvez os bons shows não sejam cancelados. Quando eu assisto TV agora eu só assisto a bons shows então agora mesmo não estou assistindo muita TV. Espero que a rede traz o show de volta, mas quando eles fazem lá em mente com uma decisão estúpida, eles parecem se ater a ele. Eu espero que há um monte de pessoas lá fora que se sentem da mesma maneira. - 14818\n",
      "\n",
      "\n",
      "Sim, por mais inacreditável que seja, em 1968 um musical ganhou o Oscar de melhor filme - e foi o terceiro musical a ganhar o prêmio em cinco anos, sendo o primeiro My Fair Lady em 1964 e depois The Sound. of Music in 1965. A diferença entre My Fair Lady, O Som da Música e Oliver! no entanto é que Oliver! é imensamente melhor! Sem comparação. Os dois primeiros filmes são macarrão molhado insípido em comparação com o incrivelmente robusto Oliver !. A atuação é ótima; as músicas são ótimas; a história é ótima e a dança é ótima. Este filme é dinâmico, atual, relevante para a experiência humana e, ao contrário das gangues exageradas de Nova York, Oliver! oferece um retrato da pobreza na Londres do século 19, na Inglaterra, que evoca simpatia sem ser condescendente. Oliver Reed foi um ótimo ator e ele prova isso em Oliver! Os outros atores e atrizes, especialmente Ron Moody e Shani Wallis, são igualmente maravilhosos e oferecem retratos poderosos de personagens que evocam simpatia e carinho sem serem caricaturas. - 40676\n",
      "\n",
      "\n",
      "Quem lê esses comentários pode achar que temos um ótimo filme. Eu sou português e tenho vergonha que este filme se tornou um blockbuster em Portugal. Não pode chamar isso de cinema. A direção e \"mise-en-scene\" é básica, mesmo Ron Howard faz melhor !; o roteiro é mau e pretensioso um Tarantino muito ruim; o elenco é coberto por estrelas de TV, modelos e reality shows que não fazem nada sobre atuação. Quando você coloca em um filme esses ingredientes, é claro que todos os fãs desse tipo de programa de TV vão ver. Eu também estou surpreso que as pessoas que fazem comentários aqui no IMDb dizem que este filme é uma obra-prima. Eu achava que esse site era só para pessoas que realmente gostam de cinema e entendem um pouco disso. Todos os filmes feitos para serem blockbusters em Portgal sempre usam os mesmos ingredientes e são sempre terríveis. Se você acha que este filme é razoável, por favor, não diga seus filmes de amor e cinema. - 4776\n",
      "\n",
      "\n",
      "Olá a todos! O melhor drama que todos estão agora no Gospel Music Channel! Vá para o site deles para ver a programação e descubra qual é o número do seu cabo ou satélite. Esse foi um dos meus programas favoritos enquanto crescia. Tem tudo que eu quero que um programa de TV seja, um drama limpo e familiar que não me enojeça. A história de um homem que, depois de perder o seu trabalho, decide partir para uma grande aventura de cross country. Ao longo do caminho, eles encontram todos os tipos de pessoas interessantes e encontram-se no meio de todos os tipos de problemas. Este show foi originalmente um spin off de Touched By An Angel, outro show familiar muito bom. Não deixe de conferir! - 21320\n",
      "\n",
      "\n",
      "Um pequeno filme charmoso ambientado no Reino Unido sobre a reunião de uma banda de swing de quase toda a Segunda Guerra Mundial. Um bom elenco de velhos trazem perspectivas alegres sobre a vida para este divertido conto com um desempenho premiado por Dench e Laines sempre grandes \"tubos\". Tempo bem gasto e um relógio divertido para todos. - 43864\n",
      "\n",
      "\n",
      "Nos anos 40, quando os filmes abordavam assuntos ainda não admissíveis na sociedade \"educada\", eles recorreram a códigos que supostamente flutuavam sobre a cabeça da maioria do público, enquanto alertavam os que sabiam o que estava acontecendo. Provavelmente nenhum filme da década foi tão carregado de insinuações quanto o estranhamente obscuro Desert Fury, ambientado em um pequeno oásis de jogo chamado Chuckawalla, em algum lugar no deserto da Califórnia. A proprietária do salão e cassino Purple Sage é a espantosa Mary Astor, de calça e esportiva; na cidade leva sua filha-cheia, Lizabeth Scott, parecendo, em Technicolor, 20 milhões de dólares. Mas ouça o diálogo entre eles, o que sugere uma lésbica mais velha e seu companheiro jovem e inquieto, só se pode imaginar se o A.I. O roteiro original de Bezzerides tornou essa relação explícita. Ainda mais gritante são John Hodiak como um gângster e Wendell Corey como seu torpedo insanamente ciumento. Adicione Burt Lancaster como o xerife da cidade, mexa-se e sente-se. Tanto Lancaster quanto surpreendentemente Hodiak se apaixonam por Scott. Parece, no entanto, que Hodiak não só tem um passado com Astor, como também teve uma esposa que morreu em circunstâncias suspeitas. O sol do deserto aquece estes ingredientes até uma fervura forte, com muitos golpes no rosto e trocas de notas. Não deixe passar este melodrama de estufa, repleto de flores exóticas e arrepiantes, se aparecer no seu caminho; é um filme notável. - 42703\n",
      "\n",
      "\n",
      "Esse cara Schiffer é um verdadeiro gênio! O filme é de excelente qualidade e divertido e educativo. Eu não sabia o que era uma garota do tempo antes de aprender aqui. - 39591\n",
      "\n",
      "\n",
      "Eu gostei muito desse filme. Ele efetivamente combina humor, fantasia e alguns momentos de horror com um esforço sólido de Higuchinsky. Visuais brilhantes e uma história muito original sobre espirais. Minhas únicas reclamações são que teve seus momentos maçantes e não era tão ousado como poderia ter sido. Ainda assim, eu dou a isto um sólido 8 de 10. Os EUA devem tomar nota deste e de outros bons filmes japoneses de horror / fantasia que vieram recentemente e tê-los disponíveis no DVD da Região 1. Na verdade, o cinema asiático em geral, tem alguns dos melhores filmes que foram despercebidos pelo público americano, porque eles são difíceis de encontrar. Recomendo veementemente que as pessoas procurem esses tesouros, pois são difíceis de encontrar, mas, uma vez que você os encontre, ficará contente por ter feito isso. - 20962\n",
      "\n",
      "\n",
      "Eu cresci assistindo Full House quando criança. Parei de assistir por anos, mas há duas semanas comecei a assistir de novo. Agora meus filhos assistem ao show e adoram assisti-lo também. Meus filhos não podem acreditar que DJ, no show, e eu somos da mesma idade.eu realmente amo o show, porque é um show que você pode assistir com sua família. Tem bons ensinamentos que seus filhos podem aprender. Também não há drogas e violência sobre ele. Além disso, quando as crianças, no programa, têm um problema, elas sempre podem se abrir para ajudar a família. Essa é a mensagem que as crianças devem receber da TV hoje em dia, pedir ajuda à sua família, não às drogas. As crianças deveriam estar assistindo mais programas como Full House, em vez de metade da bagunça na TV hoje em dia. Eu também adoro o programa porque isso faz você rir e é à terra. Fala sobre problemas da vida real e assuntos familiares. Há sempre uma lição que você pode aprender com o show. Eu voto no show por 10. - 39285\n",
      "\n",
      "\n",
      "Este DVD tem apenas 30 minutos de duração, e tem entrevistas maçantes que revelam que o Slipknotian médio tem um QI de cerca de 30. Mas esses aspectos são os menos problemáticos aqui. O problema real é que o Slipknot é uma das bandas de metal menos talentosas de todos os tempos. vender mais de 100.000 unidades de sua porcaria. A única razão pela qual eu digo \"um dos\" em vez de \"o\" é porque o System Of A Down é ainda pior. Muito parecido com as namoradas de Ed Geins, essa música de bandas é composta de antigos clichês de metal, que podem ser encontrados tanto em sua imagem quanto em sua música ultra-maçante. De fato, sua imagem é divertida; seus vídeos são como trechos de filmes de terror bregas, portanto, eles cumprem pelo menos algum objetivo como entretenimento. Sua música, no entanto, não consiste em nada de qualidade - apenas um monte de enigmáticos, ouvidos-eles-um-milhão-vezes-antes de serem tocados. Os riffs do colo do violão, que não são de modo algum relacionados entre si e, no entanto, são agrupados aleatoriamente para formar \"canções\" que não têm coesão, nenhum destaque, nada. Mas se os riffs são realmente ruins, então os vocais são ainda piores: o vocalista do Slipknots tem um grunhido \"mal\" estereotipado e desinteressante - o tipo que 90% das bandas de metal têm hoje - mas isso não é nada comparado a quando esse caçador iludido começa a tentar cantar! Ainda assim, o que se poderia esperar? A regra nº 39 do manual \"Nu Metal\" diz claramente: \"Você vai alternadamente rosnar e cantar. Ignore o fato de que os dois estilos não se misturam bem, porque a maioria de seus fãs são tão surdos que eles vão amar você mesmo você no microfone \". Slipknot estão no seu pior absoluto quando o seu \"cantor\" começa a arrotar \"melodias\" .Mas de volta à sua imagem. É roubada, copiada, arrancada, roubada, emprestada, tirada sem pedir nada além de Mr.Bungle. Você nunca ouviu falar deles? Claro que você não. Você só ouve nu-metal, e Mr.Bungle está bem longe disso, e além de qualquer categorização de qualquer maneira. Eles também usavam máscaras - grotescas, horrorosas, semelhantes às do Slipknot, devo acrescentar - no final dos anos 80 e início dos anos 90. Essa banda, cujo vocalista é Mike Patton, da Faith No More, nunca se deu muito bem porque sua música não foi direcionada para os fãs médios, para dizer o mínimo. Então, basicamente, o Slipknot nem é original no departamento de imagens. Eles não têm nada de novo a oferecer, portanto, serão esquecidos em vários anos: uma vez que as máscaras se tornarem entediantes para as legiões de seus fãs, é quando o Slipknot será forçado a competir no mercado musical apenas com sua música genérica. Falando de Mike Patton, é interessante notar que várias bandas de nu-metal frequentemente colocam seu canto como uma grande influência. Previsivelmente - e felizmente - Patton não está lisonjeado com isso e negou estar de alguma forma orgulhoso por ter sido uma influência para um dos piores subgêneros de metal de todos os tempos ... Dito isso, curta este DVD curto e as emoções mais baratas pode dar ao ouvido destreinado e aos olhos entediados ... E depois polir os cartazes do Slipknot, porque em poucos anos ninguém vai cuidar deles, os pobres queridos. Tendo visto Corey no documentário \"Get Thrashed\", eu finalmente entendi por que ele usa uma máscara: ele é um gengibre de olhos azuis, parecendo o irmão mais novo de Dave Mustaines! Não é exatamente assustador.Para mais dos meus discursos no mundo da música, acesse: http://rateyourmusic.com/collection/Fedor8/1Por favor, me castigue muito, muito DURO, clicando em \"não\" abaixo. Isso vai me ensinar ... - 5130\n",
      "\n",
      "\n",
      "Este filme indie analisa a vida de um grupo de pessoas que frequentam uma aula de natação para adultos em Connecticut. O enredo é bastante fino. O que impulsiona o filme são os personagens, excelentemente interpretados por atores em sua maioria desconhecidos. Os destaques do elenco são Brewster como um professor do ensino médio que experimenta problemas conjugais e Weixler como um comerciante de cassinos que faz o luar como stripper. As duas atrizes apresentam performances naturais e trabalham bem juntas. Esta é uma impressionante estreia cinematográfica para o escritor Schechter e o realizador Setton. Este último mantém a narrativa se movendo em um clipe rápido. O título e o pôster do filme sugerem algo atrevido, mas essa é uma pequena comédia dramática maravilhosa. - 40612\n",
      "\n",
      "\n",
      "Eu estou em uma grande minoria aqui. Eu também não me importo muito com o caddyshack original, além da cena duo chase / murray e selecione piadas de Rodney. Ok, decompô-lo: Rodney vs. Jackie - ambos são judaicos e têm um humor parecido. rodneys um nome maior e mais distinto. Jackie tem uma abordagem incidental e mais observacional para suas piadas e é mais seu nesta seqüência. Jackies atitude em relação a tudo é memorável e de certa forma, inspirador! suas linhas rápidas e excesso de confiança me deixaram desejando poder me expressar de tal maneira. Rodney era bom, mas não havia o suficiente dele, e ele estava mais em seu rosto e desdenhoso. jackie, em uma aparência de filme raro, faz um sub perfeito para rodney, um secador de cabelo em forma de arma?!?! realmente, olhe para as pequenas coisas: pilha contra cavaleiro - ambos jogam muito bem yuppies esnobes. Ted Knight, apesar de sua maravilhosa carreira na TV / cinema, meio que mostra sua idade. mas, ele faz as exigências esnobes da parte e queremos vê-lo cair. Ted parece meio fraco e é muito chato, jogando sua raiva e frustração também slapstick, enquanto a pilha é mais incidentalmente sarcástica e vingativa; você realmente o odeia e gosta de vê-lo constantemente falhar. stack win with me.murray vs. aykroyd- bem, ambos tiveram grandes cenas clássicas semelhantes a SNLs com o sempre presente e agradável chevy chase ty webb. Eu gostei muito do Murray / chase. Murray interpreta seu personagem grande, chato e conversador, com habilidades de improvisação óbvias e é adorável - mas irritante. e exatamente o mesmo pode ser dito para aykroyd. ambos ficam irritantes depois de um tempo, mas é um empate. Eu realmente amei a parte 2 sobre o primeiro. eles são dois filmes de humor totalmente diferentes. A primeira parte é mais droga / banheiro / humor sexual com um elenco cheio de grandes nomes. a parte 2 usa o golfe como pano de fundo para um tipo de comédia do tipo pau-para-o-rico que faz a pessoa se sentir melhor em ser da classe trabalhadora. Roteiro dos anos 80? sim. um pouco exagerado? sim, mas não foi o primeiro? um insulto ao esporte do golfe? sim, é um filme. história fina? sim, é uma comédia com humor real - não dança com lobos !! além disso, a parte 2 tem uma trilha sonora muito melhor! POR FAVOR, NÃO ESPERE QUE ESTE SEJA UM SEQUEL PARA PARTE UM !! É 98% SEU PRÓPRIO FILME E NÃO DEVE TER O NOME CADDYSHACK NELA. Dito isto, eu sou um grande fã de caddyshack 2 e é um grande expoente do 80s fluff entretenimento com humor de qualidade. VIVA JACKIE MASON !!! para todos os redutores - iluminar! é uma ótima comédia própria. randy quaid foi maravilhoso, jonathan silverman foi maravilhoso, heck, todos foi !! tudo isso conversando e agora eu sinto vontade de assistir! Acho que vou - 14574\n",
      "\n",
      "\n",
      "Eu assisti esse filme com minha mãe quando eu estava no ensino médio há muitos anos. Eu definitivamente não estava nem um pouco interessado em ópera na época, mas ele mudou meus pontos de vista. Eu gostei muito desse filme e realmente apreciei a ópera desde então. Eu até comprei vários de seus CDs. Quem se importa com suas habilidades de atuação, ele basicamente se divertiu, o que foi adorável. Ele era tão encantador, tão carismático; Eu sinceramente só queria abraçá-lo. Sinto-me muito triste porque tantos o estão criticando tão duramente. Era tão sincero que não aceitava pessoas que o empurravam ou o julgavam por suas ações. Ele merece ser respeitado e admirado por seu talento. Ele definitivamente vai ser perdido !!! - 49181\n",
      "\n",
      "\n",
      "Eu dei-lhe uma classificação de 3 de 10.E o que é triste é, eu fiz questão de procurar o horário do filme para que o canal, então eu não iria sentir falta de vê-lo. Eu queria assistir a esse filme porque é baseado em um livro de uma de minhas autoras favoritas, Barbara Wilson. Como lésbica, eu esperava amar esse filme. Eu não sei como a Sra. Wilson se sentiu sobre o filme, mas eu achei isso uma grande decepção. Deveria ter sido intrigante - era um mistério - definido na Espanha, e o personagem principal Cassandra é uma tradutora linguística que é contatada por uma mulher misteriosa e bonita que oferece a Cassandra uma grande quantia de dinheiro para localizar seu ex-marido, Ben. Existem segredos em abundância revelados, mas por alguma razão isso não importa. Foi como, oh, e daí? Eu não conseguia me envolver com esses personagens, nem me importar com eles, ou sentir por eles. Eu não conseguia nem me identificar com esses personagens. Acho que uma grande parte do fracasso dos filmes foi a atriz interpretando o personagem principal. Ela parecia velha, cansada, desgastada e tão sem graça quanto a água da torneira. Seu cabelo era uma bagunça perpétua, suas roupas folgadas eram chatas, e ela simplesmente não era atraente ou interessante. A melhor parte do filme foi conseguir ouvir uma gravação de Dean Martin, mas mesmo isso foi arruinado pela maquiagem estranha usada por o homem que estava dançando e dublando a música. Acredite em mim - não era nada como ver o bonito e gentil Sr. Martin fazendo isso. O final é tão melado que você gostaria de ter algumas panquecas para acompanhar a calda. - 1520\n",
      "\n",
      "\n",
      "Acabei de ver Hoje você morre. É ruim, quase muito ruim.1 A direção e a edição são horríveis, simplesmente horríveis. Quase me fez desligar o filme, Fauntleroy, o diretor, não tem idéia do que está fazendo, parece estar filmando coisas ao acaso e algumas cenas não fazem sentido algum. Além disso, eu odeio quando a mesma cena é usada novamente no mesmo filme, neste filme algumas cenas foram usadas 3 ou 4 vezes. Muito ruim.2 O diálogo às vezes é bom, às vezes horrível. Eu gosto do fato de que eles queriam fazer o personagem de Seagals e o personagem de Treachs parecer que eles estavam em um relacionamento similar aos personagens da Arma Letal, mas isso não funcionou simplesmente porque alguns dos diálogos NÃO FIZERAM SENSO, e eu falo inglês muito bem, não é que eu não tenha entendido as palavras, foi o fato de que as piadas e as linhas de diálogo não tinham qualquer significado.3 O roteiro é muito ruim. Por que eles sempre tentam complicar os filmes de ação da DTV? Esposa Seagals no filme tem habilidades psíquicas, por quê? É útil para o filme? NÃO. Seagal elimina um monte de pessoas que trabalham para o cara que o traiu e ele conhece essas pessoas sem nunca tê-las conhecido no filme. ESTÚPIDO. A história às vezes sai da pista e os pulos recuam sem qualquer motivo. A história é confusa e sem sentido às vezes. Deveriam ter mantido simples e teria funcionado.4 Em algumas cenas de ação, não é Seagal, é o dublê dele. Você pode dizer porque eles só o filmam por trás e nunca mostram seu rosto. Ele também supera os caras com artes marciais, não os reais como o aikido que Steven conhece. O dublê usa pontapés brutais e socos.5 Steven é bom no filme. 90-95% das linhas são ditas com sua voz real. O resto é dublagem, mas não é tão ruim assim. Essa foi boa. Também Steven parece estar se divertindo no filme e está mais envolvido com a ação que ele estava em Submerged. Ele gosta de Treach como parceiro; pelo menos ele parece não gostar dele. Além disso, ele parece estar em melhor forma do que em alguns de seus filmes recentes. Eu odeio o fato de ele usar roupas para esconder seu corpo, mas nas mesmas roupas que ele usa na capa do DVD ele parece mais do que OK e ele deveria ter usado essas roupas para a maior parte do filme, não o casaco de couro longo e estúpido. realmente acho que Seagal estava disposto a fazer um bom filme. O fato de que ele chegou atrasado e decolou cedo do set ON ON DOIS FILMES dirigido por Fauntleroy não parece uma coincidência para mim. Eu acho que ele percebeu que a tripulação era amadora ou apenas por um dinheirinho rápido e ele não dava a mínima. Nas mãos de uma companhia e tripulação melhor, isso poderia ter sido um ótimo filme de ação para a Seagal. Algo como Out for Justice ou Above the Law. Eu sinceramente acredito nisso. Mas as pessoas que fizeram o filme não são muito boas em seus trabalhos ou não têm dinheiro suficiente para fazer o trabalho corretamente. Muito ruim desde que eu gostei de Steven no filme e Treach foi legal Ice Cool também, mas o resto foi ruim. Ei, pelo menos isso me dá esperança para Black Dawn e Shadows do passado. Eu acho que o Mercenary pode ser mal tratado. Mas ei, Steven parecia estar de volta no mesmo estado em que ele estava enquanto fazia seus melhores filmes e pelo menos isso é motivo suficiente para assistir ao filme. Eu gostei, mas poderia ter sido muito melhor. 4/10 - 11204\n",
      "\n",
      "\n",
      "Este filme direto é baseado em uma história real. Eu não duvido disso. Não significa que seja particularmente interessante, a menos que você seja um dos personagens principais que realmente viveu essa experiência. Uma jovem chamada Angela compra uma casa grande e grande, muito barata. Bem, como todos sabemos ao assistir filmes de terror, quando você compra uma casa grande barata, isso geralmente significa que ela é assombrada de alguma forma ou forma. Na verdade, no segundo em que a casa está sendo entregue a Angela, a espertinha que morava na casa até agora, leva um momento para \"apresentar\" Angela a um dos fantasmas! Cara legal, hein? Angela entra em contato com um especialista psíquico e paranormal e diz a eles que sua casa é assombrada e os convida a vir e ver os fantasmas por si mesmos. Eles vêm a uma festa e com certeza existem fantasmas andando por aí, sentados no sofá, pendurados na garagem e tentando seduzir as pessoas no banheiro. Alguns amigos dormem durante a noite da festa, vêem os fantasmas e prometem nunca mais voltar para casa. Confira a garota que deadpans \"Estou tão assustada. Estou tão assustada.\" totalmente sem emoção. Se ela estava com tanto medo por que ela não se levantou, gire o botão e saia ?! Os fantasmas não fazem nada ameaçador além de aparecerem. E não há nebulosidade ou aura sobre eles. Eles se parecem com pessoas comuns. Eles roubam aipo da cozinha, movem cadeiras em torno de um POLTERGEIST e um fantasma feminino bissexual seduz Angela, que, pegue isso, não parece se importar! Esta cena é como o tipo de pornô soft-core que você vê no canal SPICE. Ummm ... não que eu saiba! Hahaha As atrizes não são suas estrelas pornô típicas. Eles devem ir à praia e ao ginásio mais. Quando Angelass não faz amor com os mortos, ela fica brava com eles e fica sozinha em um quarto gritando \"Por que você não vai embora ?! Esta é a minha casa! Saia!\" Eles não saem. Eu não pude deixar de pensar em todas as vezes que eu ouvi a psíquica Sylvia Brown na TV dizendo que se você tem um fantasma em sua casa você deve calmamente racionalizar com o fantasma e dizer \"Olha, você está morto. É hora de atravessar para o outro lado\". Em outras palavras, saia daqui! \" De acordo com Sylvia Brown, contanto que você não seja hostil e desagradável sobre isso, eles vão sair! Este filme parece custar cerca de US $ 50 para fazer. Tem uma sensação muito barata e má atuação. Eu poderia ter feito esse filme com 5 amigos e uma filmadora. - 12268\n",
      "\n",
      "\n",
      "Imagine isso: um colégio. Exceto seu internato, e as crianças não têm pais por perto. Ah, e é em Malibu. E as crianças são todas magras, brancas e lindas, com a minoria simbólica excepcional ou o garoto gordo para bancar o pária \"estranho\". E não há regras razoáveis, como a coabitação, armas nucleares em seus dormitórios, barracas de café, um sushi bar e um laptop de cortesia por aluno. Lembra a história: uma menina, Zoey Brooks, freqüenta a PCA, uma antiga escola de todos os meninos. Absolutamente perfeita de todas as formas possíveis, ela é inteligente, bonita, magra, atlética, criativa e tudo o que um perfeccionista quer ser. Quase todos os garotos da escola a querem, e toda garota quer ser sua amiga. Ela é aquela a quem todos vêm em busca de conselhos, aquela que salva o dia com um plano simplista e é simplesmente maravilhosa. Que pena, nada disso a torna simpática. Devemos acreditar que, se não chegarmos nem perto da perfeição de Zoey, somos pessoas más? No show, nada é culpa dela, e se alguém a contradiz, eles são retratados como o vilão Logan. Ele pode ser um idiota, mas pelo menos ele tem algum tipo de cérebro que pensa por si mesmo em vez de simplesmente concordar com a princesa toda vez. Seu grupo leal de seguidores cegos é: Chase, a idiota idiota que tem uma paixão secreta por ela. Michael, o cara negro e o único ator decente no set, Lola, uma aspirante a atriz e anoréxica, Quinn, a garota inteligente mas sem noção quando se trata de coisas adolescentes, e Logan, o rico idiota que tem um Lado macio. Sim, esse show basicamente lança estereótipos. O que me incomoda, porém, é que todos eles tentam fingir que são crianças normais. Eles reclamam que Logan recebe muito dinheiro enquanto eles têm que trabalhar eles mesmos, mesmo que eles já tenham ido para um colégio interno muito bom para ser verdade e tenham coisas relativamente agradáveis ​​que muitos adolescentes não podem pagar. Eles bebem café e comem sushi em uma base regular, quase não têm dever de casa e bronzeamento quase todos os dias. Uau, eles têm isso difícil! Algum outro problema? Eu sou muito bonito, rico e livre de estresse! Eu acho que Zoey 101 é o 101, afinal? é Nicks tentar tentar retratar os adolescentes de forma realista. Exceto que eles pegaram um vislumbre da realidade, não gostaram, e decidiram dar às crianças vidas como as bundas em The Hills. Mas, pelo menos, os cenários são bonitos. - 5394\n",
      "\n",
      "\n",
      "Eu paguei US $ 2,00 por essa porcaria, quero meu dinheiro de volta. é filme de terror de anúncio que não é tão legalHá muitos andares nesse filme, incluindo a atuação, a falta de horror, a falta de nudez que, além do figurino pornô da Enfermeira e do flash de cadáver nu ainda respirando, não há nenhum A trilha sonora talvez seja a melhor coisa, porque tem alguns riffs e faixas de guitarra meio badalados.Há seus típicos personagens típicos, o atleta, a mulher dos atletas, o cara nerd que mais parece um atleta, o policial novato que tem a maior lacuna em seus dentes, eu queria colocar algumas moedas de dólar naquela lacuna ... ou ir para um gol de campo, o cara misterioso e a garota Pura. A maquiagem era lamentável com vistas laterais do helicóptero dr mostrando um claro \"make\". up line \"e tons de pele naturais, a arte da capa do DVD é claramente photoshop / enhanced para tornar a capa mais atraente como Dr Chopper parece um velho\" plopper \"As mulheres scraggy que ficam por perto Dr chopper não são explicadas e ou parecem convincentes como o resto deste filme. O enredo twis Era MUITO previsível e a abundância de membros de FAKE de má aparência era risível, o que eles pensavam, .... um joga alguns membros ao redor e um pouco de sangue falso e você tem um filme de terror. O próprio helicóptero é o personagem mais estúpido criado Ive visto em um tempo, embora original eu acredito que o criador deste filme foi tenso por idéias e, possivelmente, tentou usar a rima Doctor e bicicleta chopper e pensei que \"bingo\" mal fazer um filme de baixa qualidade sobre isso.Ver visto pior antes ... .. mas isso é simplesmente ruim .. tudo sobre isso é ruim ... a falta de suspense ... a falta de real horror ou desenvolvimento de caráter ... a falta de um enredo decente ... a única coisa boa sobre este filme foi quando terminou. Este filme não se enquadra na categoria \"tão ruim que é bom\" para mim também / Geral 2/10 o diretor / escritor / editor deve saber melhor. - 7208\n",
      "\n",
      "\n",
      "Creep - \"Sua jornada termina aqui\". Algumas cenas muito gráficas e ... bem, sim, é sobre tudo para este filme. Nenhum enredo real, nenhum enredo. Nenhum personagem simpático, bem, personagens não é correto, considerando que você não tem idéia de quem realmente é. Quero dizer, eles estão sendo perseguidos por alguma coisa estranha nos esgotos que é essa coisa? Por que ele está lá? Isso é bem assustador, mas eu realmente me importo? Não, não sei. Por que eu não? Porque eu não tenho a menor ideia de quem são essas pessoas e não sei se quero que elas morem ou morram. Sua unidimensional e depende de gore e efeitos sonoros para assustar você, o que raramente faz.Este filme não tem qualquer significado, qualquer finalidade. Parece que eu adormeci e perdi os 45 minutos de construir. Ele pula direto para a ação. Basicamente, algumas mulheres e suas amigas ficam presas no metrô de Londres, são perseguidas por uma criatura esquisita, então elas eventualmente escapam dela. O Creep tem seus momentos que fazem você pular, a arte é boa, a localização é excelente e os sons são OK, mas isso não é o que faz um filme de terror decente, então infelizmente tudo isso vai para o lixo. Não é nada novo. Outro horror moderno previsível, onde Kate o personagem principal consistentemente faz o estúpido \"ei, eu conheço muito você sentado em casa acho que eu deveria fazer a coisa sensata nessa situação, mas, oooh não! Eu vou fazer o oposto porque eu sou um \"coisa loira burra. Eu gostaria que eles não fizessem isso, é feito tantas vezes, é chato e previsível. Na verdade, eu estou muito chateada que a mulher boba não foi esfaqueada pela criatura cinzenta, parecida com um alienígena. \"Sua jornada termina aqui\" é o slogan dos filmes. Bem, a viagem de Creeps termina apenas um pouco no filme. Se você comeu algumas cervejas, trouxe alguns amigos de volta ao seu, então, claro, assista a todos. Mas se você quiser algo original e inteligente, evite. - 32679\n",
      "\n",
      "\n",
      "Eu esperava muito deste filme. Kinda gosta de Lee como um personagem Naustradamous como mas em vez disso tudo que eu consegui foi uma perda de tempo e um filme chato. Eu não posso nem explicar este filme. Tinha escrita de madeira, roteiro terrível de peças da Bíblia como furacões, maremotos e terremotos. Mas isso foi no final! O resto eu tive que esperar e esperar que algo significativo acontecesse, mas não aconteceu. Este filme é sobre um casal que tenta descobrir as mudanças que estão acontecendo no mundo, como lugares na China, onde houve um terremoto e acabar em um convento dirigido por oito freiras e um padre. O convento acaba sendo a chave para as falhas. O filme todo é errado e chato. Um dos Lees pior. - 25013\n",
      "\n",
      "\n",
      "Isto é, por diferentes razões, um filme de ação muito ruim. Primeiro de tudo, Seagal está terrivelmente fora de forma. Ele parece velho e gordo, joga como se ele tivesse que cumprir uma obrigação irritante e suas cenas de luta exigem edição criativa ou simples substituição. Em segundo lugar, o seu adversário é um vilão muito fraco. Trata-se de um masterbrain inteligente e malvado e Chestnut não entrega. Então, e a ação? Bem, as duas partes filmam-se permanentemente em diferentes locais da prisão de Alcatraz. Eles atiram selvagem e mal, porque em comparação com a quantidade de munição necessária, o peso do corpo é bastante baixo. Não há nada para salvar este filme. Não há uma única linha boa e nem uma única boa piada. O pequeno interlúdio psicológico com 49er One e o juiz McPherson é ridículo. Então, o que isso tem? Bem, os helicópteros Bell habituais, silhuetas movendo-se em luz azul e câmera lenta, portas crivadas de balas e luzes de 1000 watts brilhando através dos buracos, personagens saltando pelo ar enquanto disparam, montes de armas vindo do nada, um longo casaco preto contendo um negrito e uma caixa de madeira fina contendo 25 toneladas de ouro. A dor continua até o último take, uma abordagem sem esperança para aliviar os créditos finais. O marinheiro californiano Don Michael Paul estava escrevendo e dirigindo. Pelo menos essa montanha de tédio vem de apenas uma mente simples. - 596\n",
      "\n",
      "\n",
      "Ainda outra versão da mãe de todos os filmes de gângster, o clássico \"Padrinho\" e ainda outro caso de exagero devido ao circo da mídia. Sarkar, o 13o filme Hindi de Ram Gopal Varma como diretor também é o mais fraco em sua trilogia Underworld, incluindo os outros dois sendo o excelente Satya and Company. O Carisma, a persona magnética dos dois Bachchans interpretando a dupla pai-filho na tela pela primeira vez, é definitivamente um deleite a ser observado. Não apenas performances fortes, mas sua química perfeita é o maior ponto de pontuação para o qual Varma deveria ser aplaudido. No entanto, a mesma equação da dupla está faltando com os outros personagens do filme. Razão, os outros personagens se parecem mais com caricaturas de papelão esp. os vilões representam os vilões típicos de Bollywood. Um personagem que atrai a atenção é o filho mais velho interpretado por Kaykay, mas, novamente, não consegue segurar devido à caracterização incompleta. . O drama e o conflito são trazidos à tona pelo uso excessivo de Close-shots, que trouxe um efeito claustrofóbico justamente necessário para construir um ambiente. A assombrosa partitura Amar Mohile e o som Kunal Mehta, Parikshit Lalwani e Anup Dev, juntamente com um fundo sombrio e escuro sobreposto por imagens poderosas de camerawork de Amit Roy, contribuem para o visual tão típico do estilo Ramus. Mas há um uso excessivo da Música, embora felizmente não haja músicas no filme. Mas pode o interesse da audiência de hoje \"crescer de forma inteligente\" ser sustentada apenas nos ombros de dois artistas e visuais fortes? Acho que não. Certamente, o público \"maangey mais\" e aqui o filme não consegue entregar. Em qualquer adaptação, a fim de adicionar uma nova dimensão, o maior pré-requisito é o Roteiro, que é lento aqui, não sendo nítido em lugares e, portanto, o ritmo diminui com bastante frequência. O que finalmente o público é submetido é um drama altamente previsível, muito comum, com muito poucos elementos surpresa. O diretor de Top Stunt, Allan Amin Ghani, também não está em sua melhor forma. Algumas cenas que exigem um tratamento diferente incluem: um ministro está falando mal de Sarkar e o filho está escutando; um tiroteio muito amadorístico na cadeia em Sarkar, Sarkar Jr. escapa das garras de seus inimigos, um filho facilmente motivado para matar seu próprio pai, um filho está entrando secretamente no quarto de seu pai para matá-lo, um comissário de polícia batendo em Sarkar Jr -tudo isso requer uma abordagem mais realista e contundente, que é o back-bone para criar o conflito necessário. Os diálogos são fracos por exemplo. olhe para uma linha amadora onde um CM diz a Sarkar Jr. \"Wo jo Comissário de Polícia tha na usay maine hata diya\" .. O pessoal de mulheres assumem o trabalho de Sarkars é completamente ignorado. As negociações ininterruptas sobre atividades criminosas enquanto Sarkar está com sua família também parecem um pouco fora de lugar. Na verdade, o filme segue um gráfico bastante semelhante ao da produção própria de Ramus - Ab Tak Chhappan. Ao descrever a batalha entre o bem e o mal, o outro lado da vida - a lei, a polícia, a administração e a política é completamente ignorado. Certamente, mais é esperado no conteúdo. Aqui o filme definitivamente fica aquém e não pode subir acima de uma tarifa média. Caro Ramu, concordou que agora você está rindo até o banco, você definitivamente precisa tomar algumas medidas drásticas na sua fábrica de produção de filmes, antes que seja tarde demais. - 2758\n",
      "\n",
      "\n",
      "A sabedoria convencional é que uma sequência raramente é tão boa quanto o filme original. Existem exceções ocasionais, mas esta não é uma delas. A Disney deveria ter desistido enquanto eles estavam na frente. Este foi um verdadeiro desapontamento depois de um 101 divertido dálmatas razoavelmente divertido. - 28992\n",
      "\n",
      "\n",
      "Hitchcock ficaria orgulhoso deste filme. Mesmo quando nada acontece, é de suspense. O diretor David Lynch usa alguns truques baratos aqui e ali, mas ele os intercala com outras técnicas cinematográficas para evitar que ele se torne obtuso. De toda forma surreal, esse filme é como acordar e lembrar de um sonho, mas não o suficiente para torná-lo sensato. . Eu ainda estou tentando descobrir tudo e provavelmente vou ter que ver de novo para pegar coisas que eu perdi e que podem me ajudar a entender melhor. É um enredo muito detalhado que vem muito lentamente, então você deve ser paciente e prestar atenção. Tire sua viagem do banheiro antes que comece. E ainda, o enredo é ofuscado pelo tema, o humor, o desenvolvimento do personagem e as técnicas de filmagem. Os dois papéis da atriz principal, Naomi Watts, mostram seu enorme talento. Isto é, quando eu poderia tirar meus olhos de sua co-estrela. Que par de atuações.Lynch surpreende ao longo do filme com ângulos de câmera incomuns, a duração / duração dos cortes de edição, indo e voltando entre as cenas. Combinado com o uso inteligente de música e sons, tudo ajuda a criar suspense em nossas mentes, sem dúvida, um dos principais objetivos do diretor. Bem, ele me manteve na beirada do meu lugar, até me fez falar com os atores para ter cuidado aqui, e não ser tão ingênua lá. Você sabe, o tipo de coisa que você quer bater seus filhos para fazer no cinema. - 23254\n",
      "\n",
      "\n",
      "Naked City: JWAB faz um bom trabalho em equilibrar suas duas histórias A - B, embora eu não goste tanto de vários filmes de enredo. E Scott Glen e Courtney B. Vance fazem uma ótima dupla na tela. No entanto, não tenho certeza do tipo de mensagem que um filme envia quando duas garotas de campo podem sair livres de assassinatos, roubo e, ainda por cima, ganhar um vôo grátis para casa na primeira classe - pelo menos da aparência de seus trajes de qualquer maneira. Puxa, eu acho que a parede azul do silêncio ainda é bastante pensar! - 19458\n",
      "\n",
      "\n",
      "Eu não posso acreditar como alguém pode fazer uma comédia sobre uma questão como a falta de moradia. Claro, Brooks não fez uma comédia sobre pessoas realmente desabrigadas. Nenhuma menção de drogas, prostituição ou violência nessas ruas. As pessoas que encontramos neste filme estão desabrigadas na terra da fantasia, então a única diferença entre eles e nós é que eles não comem tão frequentemente. Os filmes de Brooks se tornaram cada vez pior ao longo dos anos. Este é apenas mais um prego no caixão. - 29536\n",
      "\n",
      "\n",
      "Bottom-of-the-barrel stinker é tão ruim é além engraçado. O \"enredo\" é sobre um mercenário americano, interpretado por Reb Brown no filme que ele chama de \"conselheiro militar\", mas não está muito claro se ele é militar ou não americano, ajudando o exército de um país latino-americano a combater guerrilheiros acaba se juntando aos guerrilheiros quando o governo o vira, aprisiona e tortura. Shannon Tweed é uma \"vendedora de equipamentos esportivos\" que ele pega em um bar que é pego em todas as intrigas. Essa descrição realmente faz o filme soar melhor do que é, porque é realmente um fedor de proporções quase bíblicas. Quão ruim é isso? Bem, Shannon Tweed transforma no trabalho de atuação mais profissional do cinema. Se isso não é uma indicação do que é um pedaço de lixo de segunda categoria, nada é De efeitos sonoros incompatíveis a uma partitura que soa como a de um filme de terror de 1940 com a letra \"Z\" e pode muito bem ser A mesma filmagem ou seja, veículos blindados que seguem o mesmo caminho da selva reutilizados constantemente em algumas das cenas de \"ação\" mais inaptamente memorizadas na memória recente, essa festa de ludíbrio de uma hora por minuto tem que ser vista como desacreditada. Tweed parece entediado, Brown parece estar de ressaca, e quando esta coisa terminar - se você pode durar tanto tempo; Eu não poderia - você saberá exatamente como eles se sentem. Embora haja um monte de explosões e tiroteios, isso não pode ser considerado uma imagem de \"ação\" por qualquer trecho da imaginação. É chato uma cena na traseira de um caminhão onde todos apenas olham um para o outro por três ou quatro minutos, repetitivos, os mesmos \"rebeldes\" e \"soldados\" sendo mortos repetidamente, ilógicos quando um grupo de rebeldes é pego em um caminhão. campo aberto por um helicóptero de guerra do governo, em vez de fugir para a cobertura eles apenas estão lá olhando para ele, soldados ineptos e rebeldes caindo \"mortos\" quando não são ouvidos tiros, uma batalha dentro de uma casa onde combatentes de pé contra as paredes são máquinas- atirado mas milagrosamente as paredes escapam intactas previsíveis quando o \"Governador\" diz oferecer uma recompensa pela captura de Browns porque \"alguém\" pode entregá-lo, você sabe exatamente quem aquele \"alguém\" será, e acaba sendo exatamente quem você pensei que era e simplesmente estúpido praticamente tudo na foto. Inepto, sem cérebro e estúpido além da crença. Não perca seu tempo. - 1170\n",
      "\n",
      "\n",
      "Definido em um futuro pós-apocalíptico, o novo highlander é um twerp efeminado chamado Quentin MacLeod, que está sendo orientado por um novo Ramirez, enquanto sua irmã mais nova marca em sua busca para contrariar um overlord imortal do mal. Para fazê-lo, Quentin deve absorver todo o conhecimento de outros imortais antes que este soberano, Korton, o faça. Resumindo, isso é puro lixo, muito parecido com as sequências dos Highlanders. Quentin é um personagem bastante estúpido, constantemente choramingando e gemendo e reclamando de um modo \"ai de mim, porque eu sou um herói relutante\", e ele nunca percebe que ele é um imortal e não pode ser morto, pelo menos não facilmente. Ramirez teria feito melhor em abandoná-lo e frustrar o próprio Korton. - 8545\n",
      "\n",
      "\n",
      "Uma história de fantasmas chinesa estrela o falecido e grandioso Leslie Cheung como Ling Choi Sin, um coletor de impostos sem dinheiro que decide passar a noite em um templo deserto, onde conhece e se apaixona por uma mulher bonita chamada Tsing Joey Wang. Quando Ling descobre que Tsing é na verdade um fantasma que foi forçado a seduzir as vítimas por um espírito maligno que se alimenta da força vital do chi, ele decide tentar libertar a garota dando a ela um enterro apropriado. Contando com a ajuda de Swordsman Yin Wu ma, um louco monge taoísta, Ling derrota com sucesso o espírito da árvore, mas também deve lutar no inferno contra o malvado Lord Black, a quem Tsing deve se casar. O primeiro filme de Hong Kong que eu viu que não era uma ação puramente de artes marciais, Uma História de Fantasmas Chinesa abriu meus olhos para o incrível mundo do terror de fantasia asiática, um reino mágico habitado por belas mulheres fantasmas, heróis inocentes, monges taoístas empunhando espadas, espíritos monstruosos e senhores negros submundo; Eu instantaneamente me apaixonei pela exuberância dos filmes, energia, humor, inventividade e excelência visual.Duas décadas depois, e esse filme incrível ainda continua sendo um dos melhores exemplos de seu gênero que eu vi - uma obra de arte sumptuosa e deslumbrante que combina brilhantemente horror, comédia, fantasia e romance. Com excelente direção de Siu-Tung Ching, excelente edição de David Wu, cinematografia impressionante e uma enorme quantidade de efeitos especiais imaginativos, incluindo uma língua assassina enorme, um monstro de muitos tentáculos e várias cabeças voadoras !, Uma história de fantasmas chinesa é um completamente experiência inesquecível e muito agradável do início ao fim. - 39653\n",
      "\n",
      "\n",
      "E você sabe porque? Porque eles pensaram ou pelo menos fizeram os fãs de terror pensarem que um bando de adolescentes desagradáveis, de boca suja e gritando, alguns demônios estúpidos De onde eles vêm? Qual é o propósito deles? Quem sabe? e uma mansão escura é tudo que você precisa para fazer um filme de terror. Escusado será dizer que eles estavam errados. Você também precisa de um script, alguma lógica, algumas regras e alguma invenção. Este filme tem uma cena que faz jus à sua reputação, a cena do batom, é claro, e um par de momentos engraçados que os irmãos irmãos descrevem sobre os biscoitos de sua mãe, Linnea Quigleys \"não olhe para mim\" na cena. Ele também tem mais palavrões do que qualquer filme que eu assisti desde a última vez que vi \"Reservoir Dogs\". Literalmente, cada quarta ou quinta palavra é um \"f\" ou um \"b\". Então, novamente, quando um filme começa com quatro sustos falsos em seus primeiros 5 minutos, você não deve esperar nada parecido com um bom filme. 1/2 - 4756\n",
      "\n",
      "\n",
      "Agradável, divertido e encantador. A melhor parte são os números do swing, especialmente a versão do My Buddy, por mais parcial que possa ter sido. A atuação foi um pouco exagerada nas áreas, mas o humor de Wilder é tão agradável que é difícil não gostar desse filme. - 47579\n",
      "\n",
      "\n",
      "\"Uma jovem involuntariamente se torna parte de um plano de seqüestro envolvendo o filho de um produtor de cinema que ela é babá. Os seqüestradores são ex-parceiros de negócios do pai dos filhos e estão procurando se vingar dele. Nossa babá deve esperar o tempo dela. e esperar para ver o que será do filho e de si mesma, enquanto os seqüestradores começam a discutir entre si, colocando as vítimas do sequestro em grande perigo \", de acordo com a sinopse das capas de DVD. O aclamado diretor René Clemente pode ser responsável por este thriller de crime casual é o verdadeiro choque. Apesar de começar com a aparência de ter sido editado em uma máquina de lavar roupa, o filme desenvolve um enredo linear. Uma vez que você descobriu o que está acontecendo, a envolvente Maria Schneider como Michelle e o carinhoso John Whittington como Boots pode ajudá-lo no filme. Há algumas cenas de nudez femininas, que se encaixam bem no enredo. Procurado: Babá 10/15/75 René Clemente ~ Maria Schneider, John Whittington, Vic Morrow - 26533\n",
      "\n",
      "\n",
      "Houve alguns grandes momentos de realidade retratando a vida moderna não apenas no Japão, mas em todos os lugares. Isso mostra como a cultura pode ser sufocante e querer sair do molde que ela criou para você. A dança era apenas um veículo para dizer \"faça o que você ama mesmo que seja contra a norma\". Bastante Billy Elliot como eu diria. Eu gostei desse filme também. O humor foi bem cronometrado, e os momentos tocantes pareciam tão reais, você podia sentir o constrangimento entre Sugiyama e sua esposa, as birras no salão de dança. Eu amava Aoki - ele e essa peruca e seu excesso na pista de dança me fez simplesmente uivar! Todos os atores fizeram um trabalho maravilhoso, a história foi bem escrita. Eu assisti uma segunda vez e peguei algumas pequenas nuances que eu perdi na primeira visualização. Bom entretenimento! - 40854\n",
      "\n",
      "\n",
      "Coxo, coxo, coxo !!! Uma festa de 90 minutos que dura 89 minutos a mais. Um cenário cheio de atmosfera e possibilidade de um convento abandonado ser desperdiçado por um fedor de um roteiro repleto de diálogos desajeitados e estúpidos que estão se esforçando para ser descolados. Principalmente, é apenas embaraçoso, e as tentativas de horror gonzo cair uma amostra deste diálogo filmes: depois de demonstrar sua artilharia, dolly rápido tiro a um close-up de barbaceas personagem vigilante ela: `qualquer pergunta? hyuck hyuck hyuck. Piadas ruins, idiotas, homofóbicas e a julgar pelos efeitos das criaturas, parece que os diretores assistiram 'The Evil Dead' muitas vezes. Eu devo muito tempo a meus amigos para alugar este peru e sujeitá-los a noventa minutos desperdiçados que eles nunca receberão de volta. Que bosta - 25709\n",
      "\n",
      "\n",
      "Um drama altamente politicamente carregado que, apesar de tendencioso, é extremamente bem tratado e um dos filmes mais inteligentes já feitos. Ele não contém quase nenhuma pregação, mas segue um ingênuo repórter de TV que gradualmente percebe a ameaça apresentada pelas usinas nucleares, não por causa de um perigo inerente, mas porque os provedores estão mais interessados ​​na linha de fundo do que na segurança daqueles Muitos odiavam o filme porque o viam como um panfleto político feito por ultraliberais como Jane Fonda e Michael Douglas, mas se você o vê simplesmente como um drama, é emocionante, excitante, cheio de personagens distintos e bem desenvolvidos. Em última análise, um suspense contemporâneo verdadeiramente cheio de suspense que chega perto de casa.Nota histórica: Para alguns, especialmente aqueles da indústria de energia e habitantes da área metropolitana de Harrisburg, PA, talvez seja um pouco perto de casa, já que menos de um Uma semana depois que este filme foi lançado, ocorreu a explosão devastadora na instalação nuclear de Three Mile Island. Atualização, 08/04/2007: Em quase uma década desde que escrevi esta crítica pela primeira vez, eu ouvi muitos comentários sobre o filme. filme. Uma coisa que eu realmente preciso notar é que este filme não é o discurso anti-nuclear \"ultraliberal\" que é frequentemente rotulado como sendo. Enquanto os criadores e as estrelas são ou eram notáveis ​​\"liberais do establishment de Hollywood\", o que é este filme? ataques não são a própria ideia de poder nuclear, mas sim a idéia de ganância, corrupção e falibilidade humanas questionando os riscos potenciais de algo que a natureza já tornou perigosa. Ninguém que aceita a realidade pode argumentar que a exposição humana ao nuclear a radiação é pelo menos bastante provável de ser fatal. Amigos íntimos que trabalharam em uma usina nuclear por vários anos até me contaram sobre a política oficial de seus empregadores quanto aos níveis máximos de exposição \"segura\" com os quais seus funcionários poderiam lidar. Você não precisa acreditar que as corporações são inerentemente más para aceitar isso. indivíduos, em busca de riqueza e poder, são gananciosos e freqüentemente corruptos. E mesmo se você refutar essa afirmação, você não pode contestar que todos os seres humanos são propensos a cometer erros. Quando se trata de expor pessoas inocentes à radiação nuclear, não podemos nos dar ao luxo de cometer erros, e que, mais do que qualquer outra coisa, é o argumento que este filme procura fazer.Concluir se for necessário, mas tente ter uma pequena perspectiva. Estavam atualmente engajados em uma guerra cujos resultados contínuos são bem diferentes daqueles originalmente previstos, uma guerra incrivelmente cara sem fim à vista. E se você acha que a guerra era necessária para combater o terrorismo global, não pode contestar a realidade de que a duração, o custo financeiro e, mais importante, a perda da vida humana superaram em muito os níveis que os \"especialistas\" nos asseguraram. em 2003. Então, mesmo que ninguém envolvido seja ganancioso ou corrupto, \"erros foram cometidos\" e erros de uma magnitude bastante séria, para começar. O mesmo tipo de erros sérios, se permitido surgir na indústria nuclear, poderia tornar grande parte da superfície da Terra inabitável. - 23024\n",
      "\n",
      "\n",
      "O Mummys Curse é o último da série dos filmes de múmia de Kharis, e parece que a criatividade tinha corrido um pouco seca no momento em que eles fizeram este. Kharis e sua companheira Ananka acabam na baía da Louisiana e, em sua ressurreição, ele procura sua amada princesa. Como eles acabam em Louisiana não é feito totalmente claro, mas com várias pessoas tentando encontrá-los, o espectador pode ter certeza de alguns assassinatos de múmia. A maldição de Mummys era assistível, mas realmente não era nada de especial. Eu tive a sensação durante todo o filme que eu vi isso antes. Francamente, além do original A Múmia com Boris Karloff, os filmes da Mamãe não são meus favoritos entre os horrores da Universal. Eles não são ruins, mas eles ficam um pouco repetitivos.Há algumas cenas ótimas no filme, a cena com Ananka ganhando vida no pântano, por exemplo, mas no geral isso não fez muito para mim.Isso vale a pena ver se você quer ser mais completo e ver todos os filmes de múmia, mas caso contrário, você pode querer passar este. - 1615\n",
      "\n",
      "\n",
      "Existem muitos filmes ruins por aí. Sintonize-se no Canal 5 todas as noites da semana e você poderá se deparar com um esforço diário e chocante de um cineasta ou outro. Há, possivelmente, filmes que me causaram mais dor - eram mais difíceis de entender - do que isso, mas em termos de escrita, atuação, direção, cinematografia e os conceitos básicos do cinema Inbetweeners é um esforço verdadeiramente terrível e deve ser evitado em todos os custos. A única risada que me deu foi no documentário dos bastidores do DVD, em que o diretor do filme, Darren Fisher, explica como foi seu roteiro que atraiu o talento para o projeto! Nunca subestime o poder da auto-ilusão.Darren Fisher - Britains responder a Edward D. Wood Jr.! - 949\n",
      "\n",
      "\n",
      "Puta merda! Que terrível e terrível suspense espanhol! Eu tive isso por cerca de quatro anos e finalmente comecei na outra noite. Eu assisti uma hora ou mais antes de ir para a cama. Fiquei muito intrigado com a coisa toda. Eu terminei na noite passada e não conseguia acreditar onde eu parei na noite anterior. Literalmente, eu parei no segundo antes do filme ser completamente descendo. Como eu disse, eu estava bastante intrigado e curioso sobre onde esse mistério estava indo, mas parei quando Simon recebeu o pacote no bar. Eu peguei quando ele abre o pacote para revelar uma arma laser e, em seguida, joga um jogo \"ameaçador\" de laser tag. Ufa! Então a grande revelação é que a coisa toda é uma trama terrorista de nerds de RPG. Que! Você pode dizer que a indústria espanhola foi definitivamente atrás do diretor Mateo Gil co-autor de Amenabars dois grandes sucessos anteriores. Há uma excelente pontuação e ótima fotografia. Mas este cenário cheira a tolice. Como alguém sentou nos últimos 40 minutos com uma cara séria está além de mim. - 30656\n",
      "\n",
      "\n",
      "Quem escreveu o roteiro desse filme obviamente nunca consultou nenhum livro sobre Lucille Ball, especialmente sua autobiografia. Eu nunca vi tantos erros em um filme biográfico, desde seus primeiros anos em Celoron e Jamestown até seus últimos anos com Desi. Eu poderia escrever uma lista completa de erros factuais, mas continuaria por páginas. Ao todo, acredito que Lucille Ball é uma daquelas pessoas inimigas que simplesmente não podem ser retratadas por ninguém além de si mesmas. Se eu fosse Lucie Arnaz e Desi Jr., ficaria irado com quantos erros foram cometidos neste filme. Os cineastas tentaram com afinco, mas o filme parece terrivelmente desleixado para mim. - 3425\n",
      "\n",
      "\n",
      "Eu não podia acreditar como isso era inútil e inútil. Basicamente não há nada para se rir no filme, dificilmente qualquer cena para você se interessar pelo resto do filme. Este filme trouxe algumas estrelas enormes, mas elas foram todas desperdiçadas na minha opinião. Eu acho que Keanu Reeves deve ter tomado algumas lições de atuação alguns anos depois desse filme antes de ele encarar The Matrix. Uma Thurman parecia muito simples e humilde. Felizmente eu tenho esse filme por um preço muito baixo, porque certamente não é um filme para lembrar por quaisquer boas razões. Eu não vou escrever nada sobre a história do filme, mas como você deve saber, ela deve ser a caroneira mais famosa em toda a América por causa de seu enorme polegar. Eu daria a este filme um 2 / 10. Antes de assistir este filme eu estava me perguntando por que esse filme só tem um 4.0 / 10, e agora eu sei o porquê. Um filme muito decepcionante. Não comprá-lo, mesmo se você vê-lo por menos de US $ 5. - 28746\n",
      "\n",
      "\n",
      "O primeiro mistério é adivinhar como era o filme original de Welles. Isso torna essa uma verdadeira aventura - ver um esqueleto incompleto e usar a perícia cinematográfica, imagine a linda mulher que ela já apoiou. Se fizer isso, você verá e experimentará um dos melhores mistérios de filmes de todos os tempos. Como os mistérios vão, a narrativa é bastante comum: um simples desvio, um marido ciumento como arenque vermelho. O que é um tanto miraculoso é Welles colocar a história em um olho artificial, vendo um mundo escuro e multifacetado. O primeiro verdadeiro noir, mas ainda mais sombrio. Não é um mundo obviamente distorcido, a menos que você pense na câmera. O que podemos ver em primeira mão é alguém criando um vocabulário que mais tarde se tornaria comum.Para toda a celebração, Kane foi um sucesso por causa do grande drama e história. O olho da câmera era chocante, mas experimental. Welles partiria daí para explorar a narrativa de mistério e a auto-referência de Shakespeare com esse olhar. Otelo e Macbeth são ambos iniciados neste período, e eu os considero parte de uma única visão com isso. A sensação do noir aqui depende da noção de que as pessoas não estão no comando de suas vidas, nem mesmo um pouco - elas são manipuladas por fatores aleatórios no ambiente. Então, ao contar essa história, Welles precisa transformar o ambiente em um personagem. Vários personagens como suspeitos no mistério.Assim, temos a famosa iluminação, bloqueio e ângulos que conhecemos e desde então vi inúmeras vezes. E nós temos os conjuntos deliberadamente fechados: o parque, iate, área de piquenique, aquário, doca, sala de audiências, teatro chinês e funhouse. Tenho certeza de que o que foi cortado pelos bárbaros foi muita e muita narrativa externa, que não lida com o personagem, mas com esses ambientes estranhos. Minha própria solução para o mistério é que o Funhouse fez isso, entre outros ambientes de personagens apresentados como suspeitos. Em outras palavras, a manipulação do irlandês negro que conhecemos a partir de notas e uma cena digitando no salão do sindicato foi um aspirante a romancista não era: uma força de conspiração humana o parque ou a versão civilizada, o tribunal nem da natureza o piquenique ou o versão civilizada, o aquário.Em vez disso, era uma questão de capricho deliberado pelos deuses para diversão. É claro que isso é uma auto-referência ao que Welles está fazendo: colocar essas pessoas incluindo-se ao inferno para o nosso próprio capricho, uma questão ressaltada pela Ópera de Pequim com Welles dopado. E, claro, levando para a casa de diversões, onde o ambiente interfere diretamente com a percepção. Mais sobre a auto-referência: certamente há um comentário consciente sobre sua relação com o seu logo a ser exwife. Mas eu acredito que há um forte comentário subconsciente por conta própria, provocando o ambiente em que ele trabalhava, o ambiente do estúdio. Com certeza, Welles estava tão envolvido com isso e da mesma maneira que seu personagem. E essa transa assumiu a forma do assassinato deste filme, deixando o cadáver apodrecido mencionado no início deste comentário. Que a pobre Rita vem da China amarra a coisa toda, o teatro chinês, o estupro esperado de cima, a perda de a mulher. O investimento no meio ambiente além de tudo. - 39534\n",
      "\n",
      "\n",
      "Jack Black e Kyle Gass se unem para promover sua banda Tenacious D neste Rock Classic chamado Tenacious D em The Pick Of Destiny. Jack Black e Kyle Gass inventam sua própria Rock Opera ... era como uma Ópera do Rock N Roll. Alguns dos eventos mais distorcidos aconteceram naquele filme ... a parte do pé grande ... a parte do cogumelo ... e no final quando eles fizeram a pedra contra o Diabo. Um clássico formado em Tenacious D .... um dos melhores filmes que eu vi em muito tempo. As últimas coisas que eu vi no teatro foram idiotas ... mas esse filme balança. Isso realmente me fez rir muito. Toda a base é Jack Black corre para encontrar seu parceiro de rock em Los Angeles. Seu parceiro é Kyle Gass e homem que sempre foi careca. Eles trabalham juntos para encontrar essa escolha mágica que pode fazer o músico mais terrível tocar muito. Eles finalmente chegam ao Museu Rock N Roll e roubam a picareta. No caminho, eles encontram The Stranger, interpretado por Tim Robbins. Eles chegam ao clube para ganhar o prêmio quando o dono pega a escolha e o tempo todo ele é o diabo e ele enfrenta o D em um Rock Off. O D não ganha, mas o chifre do Diabo cai, mandando-o de volta para o inferno. Portanto, viver ao longo do D !!!!!!!!!! - 23750\n",
      "\n",
      "\n"
     ]
    }
   ],
   "source": [
    "# Indicando o random_state apenas para conseguir refazer com os mesmos resultados.\n",
    "for row in df.sample(50, random_state=1).itertuples():\n",
    "    print(f\"{row.texto} - {row.id}\")\n",
    "    print('\\n')"
   ]
  },
  {
   "cell_type": "markdown",
   "metadata": {},
   "source": [
    "## Transformando o texto para letras minúsculas\n",
    "\n",
    "Essa transformação facilitará os posteriores processamentos que serão realizados."
   ]
  },
  {
   "cell_type": "code",
   "execution_count": 5,
   "metadata": {},
   "outputs": [
    {
     "data": {
      "text/html": [
       "<div>\n",
       "<style scoped>\n",
       "    .dataframe tbody tr th:only-of-type {\n",
       "        vertical-align: middle;\n",
       "    }\n",
       "\n",
       "    .dataframe tbody tr th {\n",
       "        vertical-align: top;\n",
       "    }\n",
       "\n",
       "    .dataframe thead th {\n",
       "        text-align: right;\n",
       "    }\n",
       "</style>\n",
       "<table border=\"1\" class=\"dataframe\">\n",
       "  <thead>\n",
       "    <tr style=\"text-align: right;\">\n",
       "      <th></th>\n",
       "      <th>id</th>\n",
       "      <th>texto</th>\n",
       "      <th>sentimento</th>\n",
       "    </tr>\n",
       "  </thead>\n",
       "  <tbody>\n",
       "    <tr>\n",
       "      <th>0</th>\n",
       "      <td>1</td>\n",
       "      <td>mais uma vez, o sr. costner arrumou um filme p...</td>\n",
       "      <td>0</td>\n",
       "    </tr>\n",
       "    <tr>\n",
       "      <th>1</th>\n",
       "      <td>2</td>\n",
       "      <td>este é um exemplo do motivo pelo qual a maiori...</td>\n",
       "      <td>0</td>\n",
       "    </tr>\n",
       "    <tr>\n",
       "      <th>2</th>\n",
       "      <td>3</td>\n",
       "      <td>primeiro de tudo eu odeio esses raps imbecis, ...</td>\n",
       "      <td>0</td>\n",
       "    </tr>\n",
       "    <tr>\n",
       "      <th>3</th>\n",
       "      <td>4</td>\n",
       "      <td>nem mesmo os beatles puderam escrever músicas ...</td>\n",
       "      <td>0</td>\n",
       "    </tr>\n",
       "    <tr>\n",
       "      <th>4</th>\n",
       "      <td>5</td>\n",
       "      <td>filmes de fotos de latão não é uma palavra apr...</td>\n",
       "      <td>0</td>\n",
       "    </tr>\n",
       "    <tr>\n",
       "      <th>...</th>\n",
       "      <td>...</td>\n",
       "      <td>...</td>\n",
       "      <td>...</td>\n",
       "    </tr>\n",
       "    <tr>\n",
       "      <th>49454</th>\n",
       "      <td>49456</td>\n",
       "      <td>como a média de votos era muito baixa, e o fat...</td>\n",
       "      <td>1</td>\n",
       "    </tr>\n",
       "    <tr>\n",
       "      <th>49455</th>\n",
       "      <td>49457</td>\n",
       "      <td>o enredo teve algumas reviravoltas infelizes e...</td>\n",
       "      <td>1</td>\n",
       "    </tr>\n",
       "    <tr>\n",
       "      <th>49456</th>\n",
       "      <td>49458</td>\n",
       "      <td>estou espantado com a forma como este filme e ...</td>\n",
       "      <td>1</td>\n",
       "    </tr>\n",
       "    <tr>\n",
       "      <th>49457</th>\n",
       "      <td>49459</td>\n",
       "      <td>a christmas together realmente veio antes do m...</td>\n",
       "      <td>1</td>\n",
       "    </tr>\n",
       "    <tr>\n",
       "      <th>49458</th>\n",
       "      <td>49460</td>\n",
       "      <td>o drama romântico da classe trabalhadora do di...</td>\n",
       "      <td>1</td>\n",
       "    </tr>\n",
       "  </tbody>\n",
       "</table>\n",
       "<p>49459 rows × 3 columns</p>\n",
       "</div>"
      ],
      "text/plain": [
       "          id                                              texto  sentimento\n",
       "0          1  mais uma vez, o sr. costner arrumou um filme p...           0\n",
       "1          2  este é um exemplo do motivo pelo qual a maiori...           0\n",
       "2          3  primeiro de tudo eu odeio esses raps imbecis, ...           0\n",
       "3          4  nem mesmo os beatles puderam escrever músicas ...           0\n",
       "4          5  filmes de fotos de latão não é uma palavra apr...           0\n",
       "...      ...                                                ...         ...\n",
       "49454  49456  como a média de votos era muito baixa, e o fat...           1\n",
       "49455  49457  o enredo teve algumas reviravoltas infelizes e...           1\n",
       "49456  49458  estou espantado com a forma como este filme e ...           1\n",
       "49457  49459  a christmas together realmente veio antes do m...           1\n",
       "49458  49460  o drama romântico da classe trabalhadora do di...           1\n",
       "\n",
       "[49459 rows x 3 columns]"
      ]
     },
     "execution_count": 5,
     "metadata": {},
     "output_type": "execute_result"
    }
   ],
   "source": [
    "df[\"texto\"] = df[\"texto\"].str.lower()\n",
    "df"
   ]
  },
  {
   "cell_type": "markdown",
   "metadata": {},
   "source": [
    "Também precisaremos remover a coluna sentimento. Nos processamentos que iremos fazer, não precisamos dessa coluna. Assim como vai ser interessante embaralharmos as linhas."
   ]
  },
  {
   "cell_type": "code",
   "execution_count": 16,
   "metadata": {},
   "outputs": [
    {
     "data": {
      "text/html": [
       "<div>\n",
       "<style scoped>\n",
       "    .dataframe tbody tr th:only-of-type {\n",
       "        vertical-align: middle;\n",
       "    }\n",
       "\n",
       "    .dataframe tbody tr th {\n",
       "        vertical-align: top;\n",
       "    }\n",
       "\n",
       "    .dataframe thead th {\n",
       "        text-align: right;\n",
       "    }\n",
       "</style>\n",
       "<table border=\"1\" class=\"dataframe\">\n",
       "  <thead>\n",
       "    <tr style=\"text-align: right;\">\n",
       "      <th></th>\n",
       "      <th>id</th>\n",
       "      <th>texto</th>\n",
       "    </tr>\n",
       "  </thead>\n",
       "  <tbody>\n",
       "    <tr>\n",
       "      <th>0</th>\n",
       "      <td>1</td>\n",
       "      <td>mais uma vez, o sr. costner arrumou um filme p...</td>\n",
       "    </tr>\n",
       "    <tr>\n",
       "      <th>1</th>\n",
       "      <td>2</td>\n",
       "      <td>este é um exemplo do motivo pelo qual a maiori...</td>\n",
       "    </tr>\n",
       "    <tr>\n",
       "      <th>2</th>\n",
       "      <td>3</td>\n",
       "      <td>primeiro de tudo eu odeio esses raps imbecis, ...</td>\n",
       "    </tr>\n",
       "    <tr>\n",
       "      <th>3</th>\n",
       "      <td>4</td>\n",
       "      <td>nem mesmo os beatles puderam escrever músicas ...</td>\n",
       "    </tr>\n",
       "    <tr>\n",
       "      <th>4</th>\n",
       "      <td>5</td>\n",
       "      <td>filmes de fotos de latão não é uma palavra apr...</td>\n",
       "    </tr>\n",
       "    <tr>\n",
       "      <th>...</th>\n",
       "      <td>...</td>\n",
       "      <td>...</td>\n",
       "    </tr>\n",
       "    <tr>\n",
       "      <th>49454</th>\n",
       "      <td>49456</td>\n",
       "      <td>como a média de votos era muito baixa, e o fat...</td>\n",
       "    </tr>\n",
       "    <tr>\n",
       "      <th>49455</th>\n",
       "      <td>49457</td>\n",
       "      <td>o enredo teve algumas reviravoltas infelizes e...</td>\n",
       "    </tr>\n",
       "    <tr>\n",
       "      <th>49456</th>\n",
       "      <td>49458</td>\n",
       "      <td>estou espantado com a forma como este filme e ...</td>\n",
       "    </tr>\n",
       "    <tr>\n",
       "      <th>49457</th>\n",
       "      <td>49459</td>\n",
       "      <td>a christmas together realmente veio antes do m...</td>\n",
       "    </tr>\n",
       "    <tr>\n",
       "      <th>49458</th>\n",
       "      <td>49460</td>\n",
       "      <td>o drama romântico da classe trabalhadora do di...</td>\n",
       "    </tr>\n",
       "  </tbody>\n",
       "</table>\n",
       "<p>49459 rows × 2 columns</p>\n",
       "</div>"
      ],
      "text/plain": [
       "          id                                              texto\n",
       "0          1  mais uma vez, o sr. costner arrumou um filme p...\n",
       "1          2  este é um exemplo do motivo pelo qual a maiori...\n",
       "2          3  primeiro de tudo eu odeio esses raps imbecis, ...\n",
       "3          4  nem mesmo os beatles puderam escrever músicas ...\n",
       "4          5  filmes de fotos de latão não é uma palavra apr...\n",
       "...      ...                                                ...\n",
       "49454  49456  como a média de votos era muito baixa, e o fat...\n",
       "49455  49457  o enredo teve algumas reviravoltas infelizes e...\n",
       "49456  49458  estou espantado com a forma como este filme e ...\n",
       "49457  49459  a christmas together realmente veio antes do m...\n",
       "49458  49460  o drama romântico da classe trabalhadora do di...\n",
       "\n",
       "[49459 rows x 2 columns]"
      ]
     },
     "execution_count": 16,
     "metadata": {},
     "output_type": "execute_result"
    }
   ],
   "source": [
    "df_reviews = df.drop(\"sentimento\", axis = 1)\n",
    "df_reviews \n",
    "\n",
    "df_copy_reviews = df_reviews\n",
    "df_copy_reviews"
   ]
  },
  {
   "cell_type": "code",
   "execution_count": 7,
   "metadata": {},
   "outputs": [
    {
     "data": {
      "text/html": [
       "<div>\n",
       "<style scoped>\n",
       "    .dataframe tbody tr th:only-of-type {\n",
       "        vertical-align: middle;\n",
       "    }\n",
       "\n",
       "    .dataframe tbody tr th {\n",
       "        vertical-align: top;\n",
       "    }\n",
       "\n",
       "    .dataframe thead th {\n",
       "        text-align: right;\n",
       "    }\n",
       "</style>\n",
       "<table border=\"1\" class=\"dataframe\">\n",
       "  <thead>\n",
       "    <tr style=\"text-align: right;\">\n",
       "      <th></th>\n",
       "      <th>id</th>\n",
       "      <th>texto</th>\n",
       "      <th>sentimento</th>\n",
       "    </tr>\n",
       "  </thead>\n",
       "  <tbody>\n",
       "    <tr>\n",
       "      <th>0</th>\n",
       "      <td>1</td>\n",
       "      <td>mais uma vez, o sr. costner arrumou um filme p...</td>\n",
       "      <td>0</td>\n",
       "    </tr>\n",
       "    <tr>\n",
       "      <th>1</th>\n",
       "      <td>2</td>\n",
       "      <td>este é um exemplo do motivo pelo qual a maiori...</td>\n",
       "      <td>0</td>\n",
       "    </tr>\n",
       "    <tr>\n",
       "      <th>2</th>\n",
       "      <td>3</td>\n",
       "      <td>primeiro de tudo eu odeio esses raps imbecis, ...</td>\n",
       "      <td>0</td>\n",
       "    </tr>\n",
       "    <tr>\n",
       "      <th>3</th>\n",
       "      <td>4</td>\n",
       "      <td>nem mesmo os beatles puderam escrever músicas ...</td>\n",
       "      <td>0</td>\n",
       "    </tr>\n",
       "    <tr>\n",
       "      <th>4</th>\n",
       "      <td>5</td>\n",
       "      <td>filmes de fotos de latão não é uma palavra apr...</td>\n",
       "      <td>0</td>\n",
       "    </tr>\n",
       "    <tr>\n",
       "      <th>...</th>\n",
       "      <td>...</td>\n",
       "      <td>...</td>\n",
       "      <td>...</td>\n",
       "    </tr>\n",
       "    <tr>\n",
       "      <th>49454</th>\n",
       "      <td>49456</td>\n",
       "      <td>como a média de votos era muito baixa, e o fat...</td>\n",
       "      <td>1</td>\n",
       "    </tr>\n",
       "    <tr>\n",
       "      <th>49455</th>\n",
       "      <td>49457</td>\n",
       "      <td>o enredo teve algumas reviravoltas infelizes e...</td>\n",
       "      <td>1</td>\n",
       "    </tr>\n",
       "    <tr>\n",
       "      <th>49456</th>\n",
       "      <td>49458</td>\n",
       "      <td>estou espantado com a forma como este filme e ...</td>\n",
       "      <td>1</td>\n",
       "    </tr>\n",
       "    <tr>\n",
       "      <th>49457</th>\n",
       "      <td>49459</td>\n",
       "      <td>a christmas together realmente veio antes do m...</td>\n",
       "      <td>1</td>\n",
       "    </tr>\n",
       "    <tr>\n",
       "      <th>49458</th>\n",
       "      <td>49460</td>\n",
       "      <td>o drama romântico da classe trabalhadora do di...</td>\n",
       "      <td>1</td>\n",
       "    </tr>\n",
       "  </tbody>\n",
       "</table>\n",
       "<p>49459 rows × 3 columns</p>\n",
       "</div>"
      ],
      "text/plain": [
       "          id                                              texto  sentimento\n",
       "0          1  mais uma vez, o sr. costner arrumou um filme p...           0\n",
       "1          2  este é um exemplo do motivo pelo qual a maiori...           0\n",
       "2          3  primeiro de tudo eu odeio esses raps imbecis, ...           0\n",
       "3          4  nem mesmo os beatles puderam escrever músicas ...           0\n",
       "4          5  filmes de fotos de latão não é uma palavra apr...           0\n",
       "...      ...                                                ...         ...\n",
       "49454  49456  como a média de votos era muito baixa, e o fat...           1\n",
       "49455  49457  o enredo teve algumas reviravoltas infelizes e...           1\n",
       "49456  49458  estou espantado com a forma como este filme e ...           1\n",
       "49457  49459  a christmas together realmente veio antes do m...           1\n",
       "49458  49460  o drama romântico da classe trabalhadora do di...           1\n",
       "\n",
       "[49459 rows x 3 columns]"
      ]
     },
     "execution_count": 7,
     "metadata": {},
     "output_type": "execute_result"
    }
   ],
   "source": [
    "df"
   ]
  },
  {
   "cell_type": "markdown",
   "metadata": {},
   "source": [
    "O próximo trecho de código, será um conjunto de funções que servirá para remover e tratar ainda mais as informações do texto, removendo aquilo que não é necessário.\n",
    "\n",
    "Podemos citar mais de um espaço em branco, acentuações e pontuações."
   ]
  },
  {
   "cell_type": "code",
   "execution_count": 11,
   "metadata": {},
   "outputs": [],
   "source": [
    "import re\n",
    "import unicodedata\n",
    "\n",
    "def remove_espacos_excessivos(text: str) -> str:\n",
    "    # \\s+ matches one or more whitespace characters\n",
    "    # ' ' replaces the matched string with a single space\n",
    "    # strip() removes leading and trailing spaces\n",
    "    return re.sub(r'\\s+', ' ', text).strip() \n",
    "\n",
    "def remove_caracteres_repetidos_nao_palavras(text: str) -> str:\n",
    "    # \\W matches any non-word character (equivalent to [^a-zA-Z0-9_ ])\n",
    "    # \\1+ matches one or more occurrences of the same character\n",
    "    # r'\\1' replaces the matched string with a single occurrence of the character\n",
    "    # strip() removes leading and trailing spaces\n",
    "    return re.sub(r'(\\W)\\1+', r'\\1', text).strip()\n",
    "\n",
    "def remove_letras_repetidas(text: str, n_repeat: int = 4) -> str:\n",
    "    # ([a-z]) matches a lowercase letter\n",
    "    # \\1{'+str(n_repeat)+',}' matches n_repeat or more occurrences of the same letter\n",
    "    # r'\\1' replaces the matched string with a single occurrence of the letter\n",
    "    # strip() removes leading and trailing spaces\n",
    "    return re.sub(r'([a-z])\\1{'+str(n_repeat)+',}', r'\\1', text).strip()\n",
    "\n",
    "def remove_acentos(text: str) -> str:\n",
    "    # normalize() converts the text to the NFKD form\n",
    "    # encode() converts the text to bytes, ignoring non-ASCII characters\n",
    "    # decode() converts the bytes back to a string, ignoring errors\n",
    "    return unicodedata.normalize('NFKD', text).encode('ascii', 'ignore').decode('utf-8', 'ignore')"
   ]
  },
  {
   "cell_type": "code",
   "execution_count": 13,
   "metadata": {},
   "outputs": [],
   "source": [
    "from sklearn.pipeline import Pipeline \n",
    "from sklearn.preprocessing import FunctionTransformer \n",
    "\n",
    "\n",
    "pipeline_limpeza_texto = Pipeline([\n",
    "    ('remove_acentos', FunctionTransformer(remove_acentos)),\n",
    "    ('remove_espacos_excessivos', FunctionTransformer(remove_espacos_excessivos)),\n",
    "    ('remove_letras_repetidas', FunctionTransformer(remove_letras_repetidas)),\n",
    "    ('remove_caracteres_repetidos_nao_palavras', FunctionTransformer(remove_caracteres_repetidos_nao_palavras)),\n",
    "])"
   ]
  },
  {
   "cell_type": "code",
   "execution_count": 17,
   "metadata": {},
   "outputs": [
    {
     "name": "stdout",
     "output_type": "stream",
     "text": [
      "(49459, 2)\n",
      "(49459, 2)\n"
     ]
    }
   ],
   "source": [
    "print(df_reviews.shape)\n",
    "df_reviews.dropna(subset=['texto'], inplace=True)\n",
    "print(df_reviews.shape)"
   ]
  },
  {
   "cell_type": "code",
   "execution_count": 18,
   "metadata": {},
   "outputs": [],
   "source": [
    "df_reviews['texto'] = df_reviews['texto'].apply(pipeline_limpeza_texto.transform)"
   ]
  },
  {
   "cell_type": "code",
   "execution_count": 20,
   "metadata": {},
   "outputs": [
    {
     "name": "stdout",
     "output_type": "stream",
     "text": [
      "(49045, 2)\n"
     ]
    }
   ],
   "source": [
    "df_reviews.drop_duplicates(subset=['texto'], inplace=True)\n",
    "print(df_reviews.shape)"
   ]
  },
  {
   "cell_type": "code",
   "execution_count": 21,
   "metadata": {},
   "outputs": [
    {
     "name": "stdout",
     "output_type": "stream",
     "text": [
      "(49045, 2)\n"
     ]
    }
   ],
   "source": [
    "df_reviews.drop_duplicates(subset=['id'], inplace=True)\n",
    "print(df_reviews.shape)"
   ]
  },
  {
   "cell_type": "code",
   "execution_count": 23,
   "metadata": {},
   "outputs": [
    {
     "data": {
      "text/plain": [
       "count    49045.000000\n",
       "mean      1281.264533\n",
       "std        887.186845\n",
       "min         30.000000\n",
       "5%         354.000000\n",
       "10%        503.000000\n",
       "25%        713.000000\n",
       "50%        981.000000\n",
       "75%       1580.000000\n",
       "80%       1803.000000\n",
       "90%       2505.000000\n",
       "95%       3210.800000\n",
       "98%       4036.240000\n",
       "99%       4485.680000\n",
       "99.9%     5126.956000\n",
       "max       5333.000000\n",
       "Name: texto, dtype: float64"
      ]
     },
     "execution_count": 23,
     "metadata": {},
     "output_type": "execute_result"
    }
   ],
   "source": [
    "df_reviews['texto'].str.len().describe([0.05, 0.1, 0.25, 0.5, 0.75, 0.8, 0.9, 0.95, 0.98, 0.99, 0.999])"
   ]
  },
  {
   "cell_type": "code",
   "execution_count": 24,
   "metadata": {},
   "outputs": [
    {
     "name": "stdout",
     "output_type": "stream",
     "text": [
      "[ 503.   4485.68]\n",
      "(43642, 2)\n"
     ]
    }
   ],
   "source": [
    "# keep only reviews between the 10th and 99th percentile\n",
    "quantils = df_reviews['texto'].str.len().quantile([0.1, 0.99]).values\n",
    "df_reviews = df_reviews[df_reviews['texto'].str.len() > quantils[0]]\n",
    "df_reviews = df_reviews[df_reviews['texto'].str.len() <= quantils[1]]\n",
    "print(quantils)\n",
    "print(df_reviews.shape)"
   ]
  },
  {
   "cell_type": "code",
   "execution_count": 26,
   "metadata": {},
   "outputs": [
    {
     "data": {
      "text/plain": [
       "(43642, 2)"
      ]
     },
     "execution_count": 26,
     "metadata": {},
     "output_type": "execute_result"
    }
   ],
   "source": [
    "df_reviews.shape"
   ]
  },
  {
   "cell_type": "markdown",
   "metadata": {},
   "source": [
    "# Divisão da base de dados\n",
    "\n",
    "Precisamos dividir o conjunto de dados que possui mais de 43 mil linhas em 3 conjuntos:\n",
    "- Conjunto de treinamento\n",
    "- Conjunto de desenvolvimento\n",
    "- Conjunto de testes\n",
    "\n",
    "Para isso, é importante considerar um tamanho bom e de dados aleatórios, com reviews positivas e negativas."
   ]
  },
  {
   "cell_type": "code",
   "execution_count": 28,
   "metadata": {},
   "outputs": [
    {
     "data": {
      "text/plain": [
       "43642"
      ]
     },
     "execution_count": 28,
     "metadata": {},
     "output_type": "execute_result"
    }
   ],
   "source": [
    "len(df_reviews)"
   ]
  },
  {
   "cell_type": "markdown",
   "metadata": {},
   "source": [
    "O nosso dataset usado de reviews do IMDb, possui 43642 linhas de reviews. Assim, vamos usar para esse momento, uma amostra com 95% de grau de confiança e 5% de margem de erro."
   ]
  },
  {
   "cell_type": "code",
   "execution_count": 29,
   "metadata": {},
   "outputs": [
    {
     "name": "stdout",
     "output_type": "stream",
     "text": [
      "Tamanho da amostra: 385\n"
     ]
    }
   ],
   "source": [
    "import math\n",
    "n = 43642 # Total de reviews\n",
    "z = 1.96 # Valor tabelado de Z para 95% confidence level\n",
    "p = 0.5 # Expected proportion of positive reviews. We assume 50%, which is the worst case scenario/\n",
    "e = 0.05 # Margin of error\n",
    "\n",
    "tamanho_amostra = math.ceil((z**2 * p * (1-p)) / e**2)\n",
    "print(f\"Tamanho da amostra: {tamanho_amostra}\")"
   ]
  },
  {
   "cell_type": "markdown",
   "metadata": {},
   "source": [
    "Após embaralharmos o dataset, precisamos de 2 * 385 samples, metade para o conjunto de teste e outra metade para o conjunto de desenvolvimento. Por facilidade, vamos considerar que cada amostra deve conter 400."
   ]
  },
  {
   "cell_type": "code",
   "execution_count": 30,
   "metadata": {},
   "outputs": [
    {
     "name": "stdout",
     "output_type": "stream",
     "text": [
      "Original dataset size:  43642\n",
      "Train set size: 42842\n",
      "Dev/Test set size: 800\n"
     ]
    }
   ],
   "source": [
    "df_reviews = df_reviews.sample(frac=1.0, random_state=314)\n",
    "\n",
    "amostra_desejada = 400\n",
    "\n",
    "df_dev_test = df_reviews[:amostra_desejada * 2]\n",
    "df_train = df_reviews[amostra_desejada * 2:]\n",
    "\n",
    "print('Original dataset size: ', len(df_reviews))\n",
    "print(f\"Train set size: {len(df_train)}\")\n",
    "print(f\"Dev/Test set size: {len(df_dev_test)}\")\n"
   ]
  },
  {
   "cell_type": "code",
   "execution_count": 31,
   "metadata": {},
   "outputs": [],
   "source": [
    "df_train.to_parquet('datasets/train.parquet', index=False)\n",
    "df_dev_test.to_parquet('datasets/dev_test.parquet', index=False)"
   ]
  },
  {
   "cell_type": "code",
   "execution_count": 33,
   "metadata": {},
   "outputs": [
    {
     "name": "stdout",
     "output_type": "stream",
     "text": [
      "          id                                              texto\n",
      "26729  26731  este remake de tv de 1973 do classico de billy...\n",
      "12976  12978  eu vi esse filme no galway film fleadh no ano ...\n",
      "14667  14669  este filme e baseado na historia real da dona ...\n",
      "48435  48437  eu me lembrei disso como sendo um dos meus liv...\n",
      "42277  42279  outra entrada na categoria \"horror de ferias\" ...\n",
      "          id                                              texto\n",
      "3059    3061  o impensavel aconteceu. tendo assistido pela p...\n",
      "36357  36359  ei pessoal . realmente nao ha muito a dizer so...\n",
      "35301  35303  eu achei que isso fosse uma total perda de tem...\n",
      "1204    1205  e dificil escrever 10 linhas de copia sobre es...\n",
      "3314    3316  fiquei tao ofendido com esse filme que tive qu...\n"
     ]
    }
   ],
   "source": [
    "print(df_train.head())\n",
    "print(df_dev_test.head())"
   ]
  },
  {
   "cell_type": "markdown",
   "metadata": {},
   "source": [
    "A partir daqui, como geramos os dados de treinamento, desenvolvimento e testes, não precisaremos mais usar as células anteriores. Podemos apenas usar a partir daqui.\n",
    "\n",
    "Precisamos apenas executar a célula inicial de importação e remover o caracter underline (\"_\") usado para não haver conflito com o processo feito anteriormente, caso esteja executando a primeira vez."
   ]
  },
  {
   "cell_type": "code",
   "execution_count": 7,
   "metadata": {},
   "outputs": [
    {
     "name": "stdout",
     "output_type": "stream",
     "text": [
      "      id                                              texto\n",
      "0  26731  este remake de tv de 1973 do classico de billy...\n",
      "1  12978  eu vi esse filme no galway film fleadh no ano ...\n",
      "2  14669  este filme e baseado na historia real da dona ...\n",
      "3  48437  eu me lembrei disso como sendo um dos meus liv...\n",
      "4  42279  outra entrada na categoria \"horror de ferias\" ...\n",
      "      id                                              texto\n",
      "0   3061  o impensavel aconteceu. tendo assistido pela p...\n",
      "1  36359  ei pessoal . realmente nao ha muito a dizer so...\n",
      "2  35303  eu achei que isso fosse uma total perda de tem...\n",
      "3   1205  e dificil escrever 10 linhas de copia sobre es...\n",
      "4   3316  fiquei tao ofendido com esse filme que tive qu...\n"
     ]
    }
   ],
   "source": [
    "df_ = pd.read_parquet('datasets/train-00000-of-00001-34e817339f28df45.parquet')\n",
    "# df.head()\n",
    "df_train_ = pd.read_parquet('datasets/train.parquet')\n",
    "df_dev_test_ = pd.read_parquet('datasets/dev_test.parquet')\n",
    "print(df_train_.head())\n",
    "print(df_dev_test_.head())"
   ]
  },
  {
   "cell_type": "markdown",
   "metadata": {},
   "source": [
    "# Recuperando os valores dos sentimentos anotados para os ids específicos no dataset original.\n",
    "\n",
    "Como temos na nossa base original valores de sentimentos, precisaremos de um valor específico de valores para usar no nosso conjunto de dados de validação e teste.\n",
    "\n",
    "Assim, precisaremos fazer uma rotina para recuperar os dados do dataframe original e posteriormente colocá-los no nosso conjunto."
   ]
  },
  {
   "cell_type": "markdown",
   "metadata": {},
   "source": [
    "Para facilitar as operações, vamos primeiramente construir um dataframe que possui apenas o id e o rótulo específico da linha."
   ]
  },
  {
   "cell_type": "code",
   "execution_count": 8,
   "metadata": {},
   "outputs": [
    {
     "data": {
      "text/html": [
       "<div>\n",
       "<style scoped>\n",
       "    .dataframe tbody tr th:only-of-type {\n",
       "        vertical-align: middle;\n",
       "    }\n",
       "\n",
       "    .dataframe tbody tr th {\n",
       "        vertical-align: top;\n",
       "    }\n",
       "\n",
       "    .dataframe thead th {\n",
       "        text-align: right;\n",
       "    }\n",
       "</style>\n",
       "<table border=\"1\" class=\"dataframe\">\n",
       "  <thead>\n",
       "    <tr style=\"text-align: right;\">\n",
       "      <th></th>\n",
       "      <th>id</th>\n",
       "      <th>sentimento</th>\n",
       "    </tr>\n",
       "  </thead>\n",
       "  <tbody>\n",
       "    <tr>\n",
       "      <th>0</th>\n",
       "      <td>1</td>\n",
       "      <td>0</td>\n",
       "    </tr>\n",
       "    <tr>\n",
       "      <th>1</th>\n",
       "      <td>2</td>\n",
       "      <td>0</td>\n",
       "    </tr>\n",
       "    <tr>\n",
       "      <th>2</th>\n",
       "      <td>3</td>\n",
       "      <td>0</td>\n",
       "    </tr>\n",
       "    <tr>\n",
       "      <th>3</th>\n",
       "      <td>4</td>\n",
       "      <td>0</td>\n",
       "    </tr>\n",
       "    <tr>\n",
       "      <th>4</th>\n",
       "      <td>5</td>\n",
       "      <td>0</td>\n",
       "    </tr>\n",
       "    <tr>\n",
       "      <th>5</th>\n",
       "      <td>6</td>\n",
       "      <td>0</td>\n",
       "    </tr>\n",
       "    <tr>\n",
       "      <th>6</th>\n",
       "      <td>7</td>\n",
       "      <td>0</td>\n",
       "    </tr>\n",
       "    <tr>\n",
       "      <th>7</th>\n",
       "      <td>8</td>\n",
       "      <td>0</td>\n",
       "    </tr>\n",
       "    <tr>\n",
       "      <th>8</th>\n",
       "      <td>9</td>\n",
       "      <td>0</td>\n",
       "    </tr>\n",
       "    <tr>\n",
       "      <th>9</th>\n",
       "      <td>10</td>\n",
       "      <td>0</td>\n",
       "    </tr>\n",
       "  </tbody>\n",
       "</table>\n",
       "</div>"
      ],
      "text/plain": [
       "   id  sentimento\n",
       "0   1           0\n",
       "1   2           0\n",
       "2   3           0\n",
       "3   4           0\n",
       "4   5           0\n",
       "5   6           0\n",
       "6   7           0\n",
       "7   8           0\n",
       "8   9           0\n",
       "9  10           0"
      ]
     },
     "execution_count": 8,
     "metadata": {},
     "output_type": "execute_result"
    }
   ],
   "source": [
    "df_rotulado = df.drop(\"texto\", axis = 1)\n",
    "df_rotulado.head(10)"
   ]
  },
  {
   "cell_type": "markdown",
   "metadata": {},
   "source": [
    "A seguir, faremos um merge apenas da intersecção existente entre o conjunto de dados de teste e validação com a nossa base original rotulada."
   ]
  },
  {
   "cell_type": "code",
   "execution_count": 9,
   "metadata": {},
   "outputs": [
    {
     "data": {
      "text/html": [
       "<div>\n",
       "<style scoped>\n",
       "    .dataframe tbody tr th:only-of-type {\n",
       "        vertical-align: middle;\n",
       "    }\n",
       "\n",
       "    .dataframe tbody tr th {\n",
       "        vertical-align: top;\n",
       "    }\n",
       "\n",
       "    .dataframe thead th {\n",
       "        text-align: right;\n",
       "    }\n",
       "</style>\n",
       "<table border=\"1\" class=\"dataframe\">\n",
       "  <thead>\n",
       "    <tr style=\"text-align: right;\">\n",
       "      <th></th>\n",
       "      <th>id</th>\n",
       "      <th>texto</th>\n",
       "      <th>sentimento</th>\n",
       "    </tr>\n",
       "  </thead>\n",
       "  <tbody>\n",
       "    <tr>\n",
       "      <th>0</th>\n",
       "      <td>3061</td>\n",
       "      <td>o impensavel aconteceu. tendo assistido pela p...</td>\n",
       "      <td>0</td>\n",
       "    </tr>\n",
       "    <tr>\n",
       "      <th>1</th>\n",
       "      <td>36359</td>\n",
       "      <td>ei pessoal . realmente nao ha muito a dizer so...</td>\n",
       "      <td>0</td>\n",
       "    </tr>\n",
       "    <tr>\n",
       "      <th>2</th>\n",
       "      <td>35303</td>\n",
       "      <td>eu achei que isso fosse uma total perda de tem...</td>\n",
       "      <td>0</td>\n",
       "    </tr>\n",
       "    <tr>\n",
       "      <th>3</th>\n",
       "      <td>1205</td>\n",
       "      <td>e dificil escrever 10 linhas de copia sobre es...</td>\n",
       "      <td>0</td>\n",
       "    </tr>\n",
       "    <tr>\n",
       "      <th>4</th>\n",
       "      <td>3316</td>\n",
       "      <td>fiquei tao ofendido com esse filme que tive qu...</td>\n",
       "      <td>0</td>\n",
       "    </tr>\n",
       "    <tr>\n",
       "      <th>5</th>\n",
       "      <td>22608</td>\n",
       "      <td>\"the phenix city story\" e um docudrama brutal ...</td>\n",
       "      <td>1</td>\n",
       "    </tr>\n",
       "    <tr>\n",
       "      <th>6</th>\n",
       "      <td>39178</td>\n",
       "      <td>a historia gira em torno de antonio scarface m...</td>\n",
       "      <td>1</td>\n",
       "    </tr>\n",
       "    <tr>\n",
       "      <th>7</th>\n",
       "      <td>19793</td>\n",
       "      <td>na linha de fogo nos da um grande jogo de gato...</td>\n",
       "      <td>1</td>\n",
       "    </tr>\n",
       "    <tr>\n",
       "      <th>8</th>\n",
       "      <td>23202</td>\n",
       "      <td>eu nunca li um romance de jacqueline susann, m...</td>\n",
       "      <td>1</td>\n",
       "    </tr>\n",
       "    <tr>\n",
       "      <th>9</th>\n",
       "      <td>16309</td>\n",
       "      <td>os primeiros minutos deste filme nao fazem jus...</td>\n",
       "      <td>1</td>\n",
       "    </tr>\n",
       "  </tbody>\n",
       "</table>\n",
       "</div>"
      ],
      "text/plain": [
       "      id                                              texto  sentimento\n",
       "0   3061  o impensavel aconteceu. tendo assistido pela p...           0\n",
       "1  36359  ei pessoal . realmente nao ha muito a dizer so...           0\n",
       "2  35303  eu achei que isso fosse uma total perda de tem...           0\n",
       "3   1205  e dificil escrever 10 linhas de copia sobre es...           0\n",
       "4   3316  fiquei tao ofendido com esse filme que tive qu...           0\n",
       "5  22608  \"the phenix city story\" e um docudrama brutal ...           1\n",
       "6  39178  a historia gira em torno de antonio scarface m...           1\n",
       "7  19793  na linha de fogo nos da um grande jogo de gato...           1\n",
       "8  23202  eu nunca li um romance de jacqueline susann, m...           1\n",
       "9  16309  os primeiros minutos deste filme nao fazem jus...           1"
      ]
     },
     "execution_count": 9,
     "metadata": {},
     "output_type": "execute_result"
    }
   ],
   "source": [
    "df_dev_test_rotulado = df_dev_test.merge(df_rotulado, on = \"id\", how = \"inner\")\n",
    "df_dev_test_rotulado.head(10)"
   ]
  },
  {
   "cell_type": "markdown",
   "metadata": {},
   "source": [
    "Para evitar perdas, vamos salvar essa base de testes e validação rotulada."
   ]
  },
  {
   "cell_type": "code",
   "execution_count": 10,
   "metadata": {},
   "outputs": [],
   "source": [
    "df_dev_test_rotulado.to_parquet(\"datasets/dev_test_rotulado.parquet\")"
   ]
  },
  {
   "cell_type": "code",
   "execution_count": 12,
   "metadata": {},
   "outputs": [
    {
     "data": {
      "text/plain": [
       "(800, 3)"
      ]
     },
     "execution_count": 12,
     "metadata": {},
     "output_type": "execute_result"
    }
   ],
   "source": [
    "df_dev_test_rotulado.shape"
   ]
  },
  {
   "cell_type": "markdown",
   "metadata": {},
   "source": [
    "Agora, vamos separar o nosso conjunto de dados rotulados, nos conjuntos de desenvolvimento e testes propriamente dito."
   ]
  },
  {
   "cell_type": "code",
   "execution_count": 13,
   "metadata": {},
   "outputs": [],
   "source": [
    "from sklearn.model_selection import train_test_split\n",
    "\n",
    "df_test, df_dev = train_test_split(df_dev_test_rotulado, test_size=0.5, random_state=314, stratify=df_dev_test_rotulado.sentimento)"
   ]
  },
  {
   "cell_type": "code",
   "execution_count": 14,
   "metadata": {},
   "outputs": [
    {
     "name": "stdout",
     "output_type": "stream",
     "text": [
      "(400, 3)\n",
      "(400, 3)\n"
     ]
    }
   ],
   "source": [
    "print(df_test.shape)\n",
    "print(df_dev.shape)"
   ]
  },
  {
   "cell_type": "markdown",
   "metadata": {},
   "source": [
    "Para ver agora a distribuição de classes entre cada um."
   ]
  },
  {
   "cell_type": "code",
   "execution_count": 16,
   "metadata": {},
   "outputs": [
    {
     "name": "stdout",
     "output_type": "stream",
     "text": [
      "sentimento\n",
      "0    0.505\n",
      "1    0.495\n",
      "Name: proportion, dtype: float64\n"
     ]
    }
   ],
   "source": [
    "print(df_test.sentimento.value_counts(normalize=True))"
   ]
  },
  {
   "cell_type": "code",
   "execution_count": 17,
   "metadata": {},
   "outputs": [
    {
     "name": "stdout",
     "output_type": "stream",
     "text": [
      "sentimento\n",
      "0    0.5075\n",
      "1    0.4925\n",
      "Name: proportion, dtype: float64\n"
     ]
    }
   ],
   "source": [
    "print(df_dev.sentimento.value_counts(normalize=True))"
   ]
  },
  {
   "cell_type": "code",
   "execution_count": 18,
   "metadata": {},
   "outputs": [
    {
     "name": "stdout",
     "output_type": "stream",
     "text": [
      "(42842, 2) (400, 3) (400, 3)\n",
      "(42842, 2) (400, 3) (400, 3)\n",
      "(42842, 2) (400, 3) (400, 3)\n"
     ]
    }
   ],
   "source": [
    "print(df_train.shape, df_dev.shape, df_test.shape)\n",
    "\n",
    "df_train.drop_duplicates(subset=['id', 'texto'], inplace=True)\n",
    "df_dev.drop_duplicates(subset=['id', 'texto'], inplace=True)\n",
    "df_test.drop_duplicates(subset=['id', 'texto'], inplace=True)\n",
    "\n",
    "print(df_train.shape, df_dev.shape, df_test.shape)\n",
    "\n",
    "df_train = df_train.query('id not in @df_dev.id or id not in @df_test.id')\n",
    "df_dev = df_dev.query('id not in @df_train.id or id not in @df_test.id')\n",
    "df_test = df_test.query('id not in @df_train.id or id not in @df_dev.id')\n",
    "\n",
    "print(df_train.shape, df_dev.shape, df_test.shape)"
   ]
  },
  {
   "cell_type": "code",
   "execution_count": 19,
   "metadata": {},
   "outputs": [],
   "source": [
    "df_train.reset_index(drop=True, inplace=True)\n",
    "df_dev.reset_index(drop=True, inplace=True)\n",
    "df_test.reset_index(drop=True, inplace=True)"
   ]
  },
  {
   "cell_type": "code",
   "execution_count": 22,
   "metadata": {},
   "outputs": [
    {
     "data": {
      "text/plain": [
       "((42842, 2), (400, 3), (400, 3))"
      ]
     },
     "execution_count": 22,
     "metadata": {},
     "output_type": "execute_result"
    }
   ],
   "source": [
    "# Save all files for later use\n",
    "df_test.to_parquet('datasets/processados/test.parquet', index=False)\n",
    "df_dev.to_parquet('datasets/processados/dev.parquet', index=False)\n",
    "df_train.to_parquet('datasets/processados/train.parquet', index=False)\n",
    "\n",
    "df_train.shape, df_test.shape, df_dev.shape"
   ]
  },
  {
   "cell_type": "markdown",
   "metadata": {},
   "source": [
    "# Pipeline de Supervisão Fraca"
   ]
  },
  {
   "cell_type": "markdown",
   "metadata": {},
   "source": [
    "Agora, temos os nossos conjuntos de testes, desenvolvimento ou validação e treinamento. Podemos então passar para a nossa pipeline de supervisão fraca em que o objetivo será rotular a nossa base de treinamento."
   ]
  },
  {
   "cell_type": "markdown",
   "metadata": {},
   "source": [
    "**Obs: Para casos em que estamos continuando daqui, podemos apenas executar a próxima linha que realiza a importação dos conjuntos de dados de testes, desenvolvimento e treinamento.**"
   ]
  },
  {
   "cell_type": "code",
   "execution_count": 2,
   "metadata": {},
   "outputs": [],
   "source": [
    "df_treinamento = pd.read_parquet(\"datasets/processados/train.parquet\")\n",
    "df_dev = pd.read_parquet(\"datasets/processados/dev.parquet\")\n",
    "df_test = pd.read_parquet(\"datasets/processados/test.parquet\")"
   ]
  },
  {
   "cell_type": "code",
   "execution_count": 3,
   "metadata": {},
   "outputs": [
    {
     "name": "stdout",
     "output_type": "stream",
     "text": [
      "(42842, 2) (400, 3) (400, 3)\n"
     ]
    }
   ],
   "source": [
    "print(df_treinamento.shape, df_dev.shape, df_test.shape)"
   ]
  },
  {
   "cell_type": "code",
   "execution_count": 4,
   "metadata": {},
   "outputs": [
    {
     "data": {
      "text/html": [
       "<div>\n",
       "<style scoped>\n",
       "    .dataframe tbody tr th:only-of-type {\n",
       "        vertical-align: middle;\n",
       "    }\n",
       "\n",
       "    .dataframe tbody tr th {\n",
       "        vertical-align: top;\n",
       "    }\n",
       "\n",
       "    .dataframe thead th {\n",
       "        text-align: right;\n",
       "    }\n",
       "</style>\n",
       "<table border=\"1\" class=\"dataframe\">\n",
       "  <thead>\n",
       "    <tr style=\"text-align: right;\">\n",
       "      <th></th>\n",
       "      <th>id</th>\n",
       "      <th>texto</th>\n",
       "    </tr>\n",
       "  </thead>\n",
       "  <tbody>\n",
       "    <tr>\n",
       "      <th>0</th>\n",
       "      <td>26731</td>\n",
       "      <td>este remake de tv de 1973 do classico de billy...</td>\n",
       "    </tr>\n",
       "    <tr>\n",
       "      <th>1</th>\n",
       "      <td>12978</td>\n",
       "      <td>eu vi esse filme no galway film fleadh no ano ...</td>\n",
       "    </tr>\n",
       "    <tr>\n",
       "      <th>2</th>\n",
       "      <td>14669</td>\n",
       "      <td>este filme e baseado na historia real da dona ...</td>\n",
       "    </tr>\n",
       "    <tr>\n",
       "      <th>3</th>\n",
       "      <td>48437</td>\n",
       "      <td>eu me lembrei disso como sendo um dos meus liv...</td>\n",
       "    </tr>\n",
       "    <tr>\n",
       "      <th>4</th>\n",
       "      <td>42279</td>\n",
       "      <td>outra entrada na categoria \"horror de ferias\" ...</td>\n",
       "    </tr>\n",
       "  </tbody>\n",
       "</table>\n",
       "</div>"
      ],
      "text/plain": [
       "      id                                              texto\n",
       "0  26731  este remake de tv de 1973 do classico de billy...\n",
       "1  12978  eu vi esse filme no galway film fleadh no ano ...\n",
       "2  14669  este filme e baseado na historia real da dona ...\n",
       "3  48437  eu me lembrei disso como sendo um dos meus liv...\n",
       "4  42279  outra entrada na categoria \"horror de ferias\" ..."
      ]
     },
     "execution_count": 4,
     "metadata": {},
     "output_type": "execute_result"
    }
   ],
   "source": [
    "df_treinamento.head()"
   ]
  },
  {
   "cell_type": "code",
   "execution_count": 5,
   "metadata": {},
   "outputs": [
    {
     "data": {
      "text/html": [
       "<div>\n",
       "<style scoped>\n",
       "    .dataframe tbody tr th:only-of-type {\n",
       "        vertical-align: middle;\n",
       "    }\n",
       "\n",
       "    .dataframe tbody tr th {\n",
       "        vertical-align: top;\n",
       "    }\n",
       "\n",
       "    .dataframe thead th {\n",
       "        text-align: right;\n",
       "    }\n",
       "</style>\n",
       "<table border=\"1\" class=\"dataframe\">\n",
       "  <thead>\n",
       "    <tr style=\"text-align: right;\">\n",
       "      <th></th>\n",
       "      <th>id</th>\n",
       "      <th>texto</th>\n",
       "      <th>sentimento</th>\n",
       "    </tr>\n",
       "  </thead>\n",
       "  <tbody>\n",
       "    <tr>\n",
       "      <th>0</th>\n",
       "      <td>41792</td>\n",
       "      <td>\"the kennel murder case\" comeca em uma corrida...</td>\n",
       "      <td>1</td>\n",
       "    </tr>\n",
       "    <tr>\n",
       "      <th>1</th>\n",
       "      <td>47040</td>\n",
       "      <td>victor nunez impregna esse relato nao sentimen...</td>\n",
       "      <td>1</td>\n",
       "    </tr>\n",
       "    <tr>\n",
       "      <th>2</th>\n",
       "      <td>17237</td>\n",
       "      <td>um filme incrivel, eu acabei de ver e ja quero...</td>\n",
       "      <td>1</td>\n",
       "    </tr>\n",
       "    <tr>\n",
       "      <th>3</th>\n",
       "      <td>20163</td>\n",
       "      <td>angustiante serie sobre a vida em oz - uma pri...</td>\n",
       "      <td>1</td>\n",
       "    </tr>\n",
       "    <tr>\n",
       "      <th>4</th>\n",
       "      <td>36150</td>\n",
       "      <td>este deve ser um dos piores filmes suecos ja f...</td>\n",
       "      <td>0</td>\n",
       "    </tr>\n",
       "  </tbody>\n",
       "</table>\n",
       "</div>"
      ],
      "text/plain": [
       "      id                                              texto  sentimento\n",
       "0  41792  \"the kennel murder case\" comeca em uma corrida...           1\n",
       "1  47040  victor nunez impregna esse relato nao sentimen...           1\n",
       "2  17237  um filme incrivel, eu acabei de ver e ja quero...           1\n",
       "3  20163  angustiante serie sobre a vida em oz - uma pri...           1\n",
       "4  36150  este deve ser um dos piores filmes suecos ja f...           0"
      ]
     },
     "execution_count": 5,
     "metadata": {},
     "output_type": "execute_result"
    }
   ],
   "source": [
    "df_dev.head()"
   ]
  },
  {
   "cell_type": "markdown",
   "metadata": {},
   "source": [
    "## Passo 1 - Escrever funções de rotulagem (ou labeling functions - LFs)\n",
    "\n",
    "// TO DO\n",
    "... DESCREVER O CONCEITO E O QUE SÃO FUNÇÕES DE ROTULAGEM ..."
   ]
  },
  {
   "cell_type": "markdown",
   "metadata": {},
   "source": [
    "### 1.1 - Explorando o dataset\n",
    "\n",
    "É importante realizar esse passo para conhecer melhor os nossos dados. As funções de rotulagem são específicas de cada problema. Assim, ao saber minimamente informações sobre os dados, será possível escrever funções que poderão ter um melhor desempenho na tarefa."
   ]
  },
  {
   "cell_type": "code",
   "execution_count": 6,
   "metadata": {},
   "outputs": [
    {
     "name": "stdout",
     "output_type": "stream",
     "text": [
      "quando eu soube que eles estavam fazendo isso, eu fiquei feliz, considerando que o primeiro filme foi muito bom, embora um pouco curto. mas entao me lembrei de alguns dos desastres da sequela da disney que eu ja assisti olhando para voce. pequena sereia 2.anyway eu assisti e, infelizmente, fiquei muito decepcionado. a melhor coisa e que a animacao e excelente. realmente tem aquele polimento especial que os filmes \"apropriados\" da disney tem. alem disso, o resto e decepcionante. o enredo e serio em todo o lugar. um momento e sobre algo, entao muda completamente para outro enredo e depois muda para outro enredo completamente diferente. isso me lembrou de como o filme family guy era como tres episodios separados, transformados em um filme. eu ri talvez uma vez no maximo. kronk foi muito engracado no filme original, mas nisso ele nao e nada engracado. fique longe deste filme, a menos que alguem lhe empreste gratuitamente.4 / 10\n",
      "\n",
      "ride with the devil dirigido por ang leecrouching o tiger e outra preciosidade neste belo bone de diretores. para aqueles que nao estao familiarizados com a historia das guerras de fronteira kansas-missouri durante a guerra civil americana. veja este filme e voce visitara uma triste peca de americana. alem de algumas cenas de acao soberbas bastante sangrentas as vezes. esta e uma historia de amor e devocao entre homens e uma dama em particular. e estrelado toby maguire, skeet ulrich jeffrey wright e como a jovem senhora jewel, eu nunca ouvi ou a vi antes, eu quero ver mais dela.a atuacao e de primeira qualidade, excelentes valores de producao, muito bem escrito adaptado de um romance esta e um filme longo de 128 minutos, mas vale a pena ver. minha classificacao e submetida respectivamentejay harris\n",
      "\n",
      "um deve ver! eu vi whipped em uma selecao de imprensa e foi hilario. estavam falando risos sem parar. isso faz com que alguma coisa pareca um drama sinuoso. amanda peet grita qualidade de estrela com sua combinacao vencedora de beleza, inteligencia e habilidade de atuacao seria. peter cohen, o diretor, fez um filme de vanguarda que mostra a essencia dos egos mens no mundo dos encontros urbanos. para toda a sua comedia, whipped sucede com sua inteligencia. que e tao raro para um diretor pela primeira vez, especialmente com uma comedia romantica. ele e um grande talento. judah domke, brian van holt, jonathan abrahams e zorie barber completam o elenco com profundidade e performances muito fortes como os homens ladys. voce tem que ver esses caras irem trabalhar e serem pegos na web de peets. confira o trailer em whipped.com, vale a pena o download de 3 minutos.\n",
      "\n",
      "estou um pouco em conflito sobre isso. o show e, por um lado, horrivel, a atuacao e terrivel mesmo quando recebemos atores de nome como brad pitt e bill moseley em um episodio, o dialogo e imbecil e a premissa / moral de cada episodio parece algo tirado de um programa educacional dos anos 50. curto. nao ha como voce se assustar por um momento com qualquer um desses episodios, e as aparicoes de robert englunds sao curtas, sem sentido e bregas em uma especie de bob saget no americas amigavel. de qualquer forma, este e um dos episodios. coisas mais engracadas para sempre estar na televisao. a moda dos anos 80, o foco suave faz os atores parecerem seus no set de the view em todos os momentos, as premissas emprestam o material mais a auto-parodia do que sustos, entao ficaram com um episodio em que um garoto do ensino medio tem medo se ele falha seu sats sua namorada vai despeja-lo e seus pais o deserdam, outro tem medo de ser preso na prisao porque ela e uma mae precaria seu marido e jogado por brad pit, outro tem medo de que todos os pais do mundo estao na liga contra ele quando ele foge de casa, outro tem medo de ser confundido com seu gemeo socialmente retardado, outro tem medo se ele nao acabar com sua mae e seu padrasto morto por ter uma festa em sua casa. a lista continua indefinidamente. como esses sao sonhos, suponho que voce possa olhar alem dos pontos e dispositivos ludicos da trama, mas eles sao tao fora do campo da esquerda que nao ha oportunidades para os escritores realmente assustar o publico. voce tem personagens vestidas como algo de um pesadelo com tema dos anos 80 vagando por entregar dialogos ruins de uma forma muito antiquada e tomando decisoes ilogicas que nao servem a nenhum outro proposito senao mover a historia para o proximo enredo esquisito tipicamente observando como um personagem periferico faz algo nao e caracteristico de uma pessoa sa, enquanto o nosso personagem principal olha horrorizado e chocado demais para fazer qualquer coisa sobre isso. se voce esta procurando por algo que assusta voce ficar longe. se voce esta procurando, por outro lado, para uma das coisas mais engracadas sair dos anos 80 de sempre. ele vem mostrando na chiller tv ultimamente praticamente todos os dias e eu tenho assistido, mais cedo por curiosidade morbida, e agora so para que eu possa dar uma boa risada a cada dia. com arrested development e extras fora do ar esta e oficialmente a coisa mais engracada da televisao agora.\n",
      "\n",
      "que maravilha. ainda outro filme sobre a america por alguem que visitou aqui, provavelmente, uma meia duzia de vezes, um dia uma peca, e acredita-se ser um \"especialista\" no pais. sheesh eu deveria fazer uma viagem a alemanha por uma semana e depois voltar e fazer um filme sobre a alemanha como a \"terra dos nazistas\" ou algo assim. wim il boy, voce deve se reunir com lars von trier e fazer o filme ultimate sobre os americanos. e claro que todos nos sabemos que e preciso um pretensioso europeu de esquerda, \"somos o mundo\", para fazer um filme \"real\" sobre os estados unidos. para um continente que iniciou nao apenas uma, mas duas guerras mundiais, a europa certamente tem muitas opinioes sobre a \"politica externa\" das americas. nao se preocupe, wim il garoto, ha muitos uc-berkeley americanos que adoram o seu filme. claro, estas sao as mesmas pessoas que pensam que george w. bush e pior do que hitler, e que uma pintura de uma lata de sopa e \"pura genialidade\" !\n",
      "\n",
      "daniel day-lewis e o ator mais versatil do mundo. ingles aristocratico esnobe em a room with a view, ladrao irlandes apaixonado em em nome do pai, um carniceiro impudente, violento em gangues de nova york em uma performance dez vezes mais forte do que adrian brodys no pianista e como a ultrajante cristy brown com paralisia cerebral no meu pe esquerdo so para citar alguns. seus papeis todos influenciam um ao outro, mas cada um e separado e absolutamente unico. ele muda completamente, com cada personagem que ele assume. e estou comecando a acreditar que ele pode agir como qualquer coisa. qualquer coisa.como cristy brown ele e deslumbrante. ele nao ridiculariza o personagem e nao tem pena do personagem. uma conquista dificil. e cristy brown vem a vida. um homem inteligente. um homem escandaloso. human.this filme, apesar de pequenas falhas de transicao de cena e afins, e uma inspiracao. sim, e previsivel. mas e estupidamente sentimental? nao, eu ri. eu chorei. nem um unico momento de queijo. prova de que este nao e um filme de hollywood. minha cena favorita e a cena no restaurante, quando cristy esta discutindo pintores com eileen, peter e seus amigos. heres onde daniel day-lewis atinge um climax de atuacao. \"vou te chutar na unica parte da sua anatomia que e animada.\" \"saia do aleijado!\" e seu desempenho nunca diminui, nunca falha e e lindo. simplesmente. ele tem muito tempo de tela aqui. eu assisto de novo, e eu nunca me canso dos olhos perspicazes de cristys, discursos agitados e guturais. um must-see. fo sho, yo!\n",
      "\n",
      "desculpe este filme nao me assustou apenas me incomodou. foi tao frustrante quando eu vi o potencial e isso, tudo isso, caiu no esquecimento. as criancas! o pai! a premonicao! teve muito potencial e ziltch! zero, nada! eu ja ouvi tudo isso antes. assustador! nao! eu posso me assustar sozinha, aqui onde eu sento, do que eles poderiam no filme. ha homens escrevendo essa figura que as mulheres deveriam ser tao irritantes? ha? este filme foi bastante atmosferico. ou pelo menos poderia ter sido, se o diretor / escritor tivesse se dado ao trabalho de faze-lo. poderiamos ter tido uma boa musica que tambem aumentaria a tensao se alguem fizesse o esforco. o que eu realmente quero saber e por que eles recebem o dinheiro? apenas de para mim e salve todos os problemas. abandonado? . nao, nos onde traidos\n",
      "\n",
      "ah, o canal de ficcao cientifica. quantas vezes voce me decepciona? muitas vezes eu penso: voce ja mostrou bons filmes? ok, voce me deu os grandes herois e o razoavelmente bom the lost room, mas eles sao series, e quanto ao filme, nao ha nada de positivo a dizer. ma atuacao, ma direcao, personagens terriveis e uma historia superficial, e isso e so para comecar. eu verifiquei o diretor allan a goldstien e nao fiquei surpreso em encontrar nada de interesse em seu curriculo na verdade eu estou meio pensando que este e um nome falso. as instalacoes de quatro motociclistas em um parque nacional quando um deles tem um acidente que precisa de um guarda do parque para resgata-los apenas para serem pegos em um incendio florestal e fraco e previsivel que voce saiba cada batida antes acontece. o lider bryan genesse, o guarda do parque, e tao ruim que e terrivel. elenco como o heroi de acao menino de artes marciais nas pegadas de tantos outros que esse cara faz seagal e van damme se parecem com de nero. o elenco de apoio esta um pouco melhor e bem antes do final, esperando que o fogo envolva todos eles, entao a equipe de filmagem. evite a todo custo\n",
      "\n",
      "este foi um dos mais engracados e maiores sitcom para bater a televisao nacional. e lamentavel que o show nao seja colocado entre grandes sitcoms onde realmente pertence. os atores fizeram um excelente trabalho e as temporadas de um a seis foram o show em seu ponto mais alto. embora a setima temporada nao tenha sido tao boa quando comparada as seis anteriores, ainda assim foi engracado. a oitava temporada foi o verdadeiro problema. sem a graca de topher ou ashton kutcher, o show simplesmente se desfez. nao muito dizer, os outros atores nao eram otimos se algum dos 2 personagens principais tivesse saido, como danny masterson, wilder valderamma kurtwood smith, debra jo rupp, mila kunis e laura prepon don starks e tommy chong tambem foram otimos. o mesmo efeito. e a inclusao de randy josh meyers tambem nao ajudou porque ele nao foi bem recebido pelos fas do programa. eu acredito que se o show terminasse um ano atras, certamente teria entrado para a historia como um dos grandes sucessos da sitcom. a 8a temporada foi um pouco aborrecida, mas o final foi excelente. eu vou sentir falta do show, eu so espero que eu acorde um dia para descobrir que o show esta de volta como no show dos anos 80 com o mesmo elenco, porque eu vou sentir falta do inferno.\n",
      "\n",
      "este filme tipifica o inicio dos anos oitenta, bem como diversao ! eu me lembro de assistir esse filme na hbo quando eu era pequeno e era o meu filme favorito. desde que foi ha um tempo, ninguem que eu ja conheci sabia o que era. entao, sobre o tempo que minha colega de quarto disse que ela tinha visto tambem, e que era o seu favorito, eles comecaram a imprimi-lo novamente ! por sorte, eu tenho uma copia agora ! se alguem quiser ver a maior cacada de queijos que provavelmente foram as ideias iniciais de trote para frats, esse filme e isso ! watcher - tem que ter um amor serio por filmes do tipo 80s bregas !\n",
      "\n",
      "eu vi pela primeira vez all the rivers run na tv quando eu era crianca e adorei. foi otimo ver uma mini-serie que foi filmada e filmada em um lugar tao perto de casa. vivendo bastante perto de echuca, eu adorava ir ao porto historico para ver os barcos a vapor. o primeiro em que eu ja montei foi o pevensy filadelfia no filme. eu amo como leva tempo para deixar os eventos se desenrolarem. nada parece apressado como a maioria dos filmes sao hoje. a atuacao foi fantastica. todo o rivers run foi perfeitamente lancado e eu adoro a equipe da filadelfia. mac e sempre divertido para assistir com seu sanduiche de cebola crua marca depois de uma grande noite fora. facilmente merece um 10 de 10 e e uma das minhas mini-series favoritas de todos os tempos junto com a dynasty dirtwater.\n",
      "\n",
      "eu vi uma serie de \"horrores do rock dos anos 80\" ao longo dos anos, desde lixo como \"terror on tour\" ate joias ridiculamente divertidas como \"slumber party massacre 2\". de alguma forma, eu consegui manter isso, o que e estranho porque e provavelmente o mais popular e bem recebido. bem, eu finalmente pego com isso e e facilmente o melhor deste principalmente horrivel, mas quase sempre cativante! subgenero. o enredo que foi praticamente levantado no filme \"black roses\" diz respeito a um desajustado chamado eddie, que foi ridicularizado por todos em sua escola por seu gosto musical. ele adora o metal dos anos 80, especialmente seu idolo sammi curr, interpretado pelo falecido tony fields. depois que sammi e morto, o dj de radio favorito de eddie lhe da a gravacao final de sammis. uma vez que eddie toca o album de tras para frente, ele descobre que ele e um pouco mais dificil, e coisas ruins comecam a acontecer para aqueles que o insultam. a musica de sammis e possuida? \"trick or treat\" e bem feito e uma piada total. os efeitos especiais sao impressionantes, apesar de apresentar os tipicos feixes de laser dos anos 80. eu cresci nos anos 80, e enquanto eu nao era fa de heavy metal, eu me lembro da lenda urbana sobre tocar um disco para tras ouvindo os sons de satanas adorando. haha! eu tambem me lembro de meus irmaos e vizinhos mais velhos que tanto o kiss quanto o ozzy adoravam a satanas, entao e muito divertido ver ambos fazerem aparicoes como um inofensivo dj de radio e um padre anti-rock. se eu tivesse visto esse filme quando crianca! embora o filme pareca zombar da conexao popular dos anos 80 entre a suposta adoracao do diabo e o heavy metal, o espectador nunca descobre porque sammi curr esta de volta dos mortos, criando estragos e matando quem quer que esteja em seu caminho. este e o ponto mais fraco dos filmes, mas se voce pode ignorar isso, e muito divertido.\n",
      "\n",
      "um filme muito assistivel, e um que foi ansiosamente aguardado tendo visto o trailer varias vezes. a coisa toda parece soberba, dos esforcos ridiculos da classe alta enfraquecida para se distanciar da mediocridade, para a escoria de classe baixa apenas tentando mantenham suas cabecas acima da imundicie, o filme captura brilhantemente o espirito do seculo xviii. jon lee miller interpreta maclean extremamente bem, embora a parte nao o estique exatamente, e robert carlyle parece um pouco desperdicado em plunkett, colega de rodovias miller. verdadeira estrela do show foi, sem duvida, ken stott, que interpreta o sr. chance uma especie de chefe de policia de 1740 com uma alegria mal que o colocou fora do resto do elenco.um grande filme, e quem gosta da cor e estilo de peter os filmes de greenaways vao adorar a aparencia, embora a magreza do enredo se torne aparente antes das 2 horas estarem em alta.\n",
      "\n",
      "doggerel ridiculo e nauseante com atuacao terrivel; inepta, superficial e condescendente, vasculhando todos os cliches mais banais sobre a toscana e a italia, o divorcio e a meia-idade. o ator principal nervosamente faz uma careta atraves do filme, esforcando-se para retratar o nivel apropriado de autopiedade presuncosa e autocongratulatoria pelo apelo inutil do personagem e do roteiro. tenho certeza de que o livro foi ruim, mas nao pode ter sido tao ruim assim! a camera esta permanentemente equipada com um filtro de lentes amarelo-toscano \"toscano\", talvez o sol da toscana nao fosse toscano o suficiente ?, que eles esqueceram de remover quando a cena muda para roma e como e imaginativa! a costa amalfitana. voce nunca viu o marmore branco do monumento de roma vittorio emmanuelle parecendo tao amarelo . quero dizer toscano. um dos piores filmes de todos os tempos e, portanto, vale a pena dar uma olhada.\n",
      "\n",
      "este filme foi completamente obsoleto e sem inspiracao. a premissa central deste filme era basicamente um monte de pessoas negras estereotipadas sentadas em torno de uma barbearia trocando uma replica dolorosamente sem graca. eu nao ri uma vez durante todo o filme. eu poderia ter sentado em qualquer barbearia nos estados unidos e ter ouvido essa brincadeira banal, e talvez ate ter saido com um corte de cabelo decente. nao consigo entender por que essa bagunca recebeu criticas favoraveis, muito menos por que tantas pessoas perderam dinheiro com isso. nenhum dos personagens aqui era engracado ou merecia ser importado. eu realmente nao me importava se a barbearia rival do outro lado da rua faria com que nappy cutz saisse do negocio. nao desperdice seu dinheiro com isso, pessoal, ja que e a unica maneira de fazer com que hollywood pare de produzir esses pedacos caoticos de lixo. 1 de 5\n",
      "\n",
      "eu recomendo altamente este filme para todos. meu filho e eu lemos o livro primeiro e depois vimos o filme. enquanto o livro foi melhor na minha opiniao, o filme ainda era otimo. meu filho e eu concordamos que, embora gostemos mais da versao do livro, gostamos mais do final do filme do que do final do livro. o cenario e tremendo e a trilha sonora e obrigatoria. o fato de jimmy buffett ter um pequeno papel e fornecer musica e uma vantagem adicional. luke wilson faz um trabalho decente em seu papel de diretor delinko e e praticamente o que eu imaginava mentalmente que delinko seria quando eu lesse o livro. estou surpreso que isso nao fez melhor nos cinemas, e eu estarei esperando o dvd sair.\n",
      "\n",
      "cara, eu estou feliz por poder deixar feedback para esta brincadeira de 10 minutos. eu amo isso. depois de nao ver isso em anos, eu me deparei com ele no outro dia e assisti mais e mais. pare de balancar os olhos e agitar uma banda de rock and roll e parar de serrar a mesa sao linhas classicas. a arte e deliciosamente cru. o dialogo e esparso e maravilhoso. apenas encontre e ame. nao posso recomendar isso o suficiente. obrigada professora de arte do ensino medio, sra. kogan, por nos mostrar isso repetidas vezes. obrigado nfb por deixar isso ser feito. obrigado mts para mostra-lo gratuitamente no momento, pelo menos.eu quero uma t-shirt big snit agora. eu adoraria uma celula de animacao, mas a 440.00 um pop, que nao vai acontecer. encontre este filme, e assista.\n",
      "\n",
      "eu achava que o filme era bom em algumas partes. o comeco foi empolgante. os primeiros 30 minutos do filme foram bons. os angulos de camera nos primeiros 30 minutos eram estranhos e eu nao gostava porque eles nao estavam cobrindo os atores inteiramente. eu acho que os ultimos 25 minutos do filme nao foram realmente tao bons, dos quais esperamos muito no caso de tais filmes. as dialoques nao faziam sentido e eu nao acho que elas fossem muito espirituosas. eu senti como se elas estivessem tentando copiar. filmes como phonebooth em termos de dialogos, mas falharam miseravelmente. parecia que muitas das cenas entre os atores eram colocadas em pratica e nao faziam sentido para a historia. o filme inteiro apresenta apenas o direito e o caine. nao acho que foi uma perda de tempo, e um filme bom, mas nao gr8\n",
      "\n",
      "esta e a melhor versao de gypsy que foi filmada. bette midler e simplesmente soberba como mama rose. ela tem a voz, os gestos, o visual e, acima de tudo, uma capacidade de atuacao suprema para realizar o papel e torna-la personagem vem vivo.seu canto e, simplesmente colocar: magnifico! ela brilha especialmente em dois numeros - \"everythings coming up roses\" e \"roses turn\". os outros atores tambem estao bem, particularmente christine ebersoll como tessie. tambem e bom peter riegert, sua interpretacao de herbie e representada com grande estilo e credibilidade. a direcao deste filme e muito, muito boa. nao ha uma nota falsa ou gafe em toda a producao. este filme e uma grande melhoria em relacao a versao de roz russell, filmada em 1962. desde que o vi novamente, posso afirmar que as tres maiores mama roses sao: ethel merman, bette midler e angela lansbury. veja este filme. voce sera feliz que voce fez.\n",
      "\n",
      "uma joia de um desenho animado da epoca silenciosa - foi re-descoberta pela rede dos desenhos animados, e foi transmitida provavelmente pela primeira vez em decadas, se e que o fez. o que torna isso tao agradavel sao as variadas aparicoes . douglas fairbanks e atacado por mosquitos gigantes; will hays faz uma visita como chefe da static studios; bem como aparicoes de chaplin, keaton e william s. hart. a imagem da goma de mascar dizimando os sapatos da populacao uma ideia de fazer dinheiro para felixs, que quase nao pode ser descrito, deve ser vista. uma excelente joia cultural.\n",
      "\n",
      "o late shift e um otimo livro, eu li o livro ha varios anos, e fiquei paralisado com a libertinagem cruel que aconteceu quando johnny carson se aposentou e jay leno e johnny carson tentaram agarrar seu lugar. quando o filme saiu, eu peguei uma copia em vhs do filme e, depois de reler o livro recentemente, e dificil dizer que gosto mais, porque sao bastante iguais na quantidade de informacao transmitida. os dois protagonistas, john michael higgins, e daniel roebuck, dois atores dos quais nunca ouvi falar antes, e de quem ja ouvi falar, interpretam leno e letterman de maneira convincente, apesar de lettermans considerar que seu retrato e ruim. eles tocam muito bem as partes, apesar de muitas pessoas procurarem uma imitacao das duas. eu nao estava tao interessado nisso. a historia e o que conta. e isso me leva a kathy bates. kathy bates, interpretando helen kushnick, e este filme. ela interpreta essa vadia malvada de um personagem tao ameacadoramente que voce percebe como essa mulher pode se controlar, muito menos um programa de tv nacional. yikes! deveria haver uma sequela !\n",
      "\n",
      "se voce ja viu um filme de bollywood, voce sabe que eles sao mais longos do que a maioria dos filmes, devido as multiplas rotinas de musica e danca que cada um tem mais de cinco minutos. felizmente, este tem menos rotinas de musica e danca e se encaixa na duracao do filme \"padrao\". nao me interpretem mal, eu gosto de filmes de bollywood, mas tendem a avancar rapidamente atraves das partes de musica e danca. eu comprei este dvd porque sou fa de ian bohen. embora seu papel nao fosse tao grande quanto eu esperava, ele ainda tinha uma boa quantidade de tempo na tela. e seu personagem era muito diferente de seus outros papeis. em geral, este foi um bom filme. como a maioria dos filmes de bollywood, ha pelo menos um elemento de controversia / conflito da cultura tradicional indiana. mas o amor verdadeiro triunfa sobre a adversidade e um final feliz e tido por todos.\n",
      "\n",
      "spencer tracy e katherine hepburn rolariam em seus tumulos se soubessem que esse filme foi na verdade nos cinemas. junto com sidney poitier e katherine houghton, esses quatro atores brilhantes fizeram uma grande declaracao cultural com a obra-prima do diretor stanley kramers em 1967. este dia de hoje e uma piada. entao, um cara branco de uma familia italiana excessivamente estereotipada em rhode island traz sua namorada afro-americana para casa insert gasp aqui para o funeral de seu grande pai. as reacoes de seus familiares foram, naturalmente, . previsiveis. este filme foi tao dolorosamente telegrafado do comeco ao fim que minha namorada realmente comecou a fingir ronco para sinalizar para mim que ela queria ir embora. faca um favor e alugue o original. de uma olhada no wake.\n",
      "\n",
      "do excelente desempenho de um elenco extremamente impressionante, ao roteiro inteligentemente escrito e muito citavel, da cinematografia luxuosa a bela trilha sonora de carter burwell, rob roy oferece uma raridade em experiencias de cinema: uma que e quase impossivel encontrar falhas com em qualquer area.houve varias comparacoes feitas com braveheart, que saiu no mesmo ano. com todo o credito devido a mel gibson, braveheart me pareceu um epico de autoconsciencia e pregacao para competir com rob roy como o tipo de filme que eu gostaria de ver mais de uma vez. enquanto braveheart trabalha duro para ser um epico serio, rob roy apenas agarra voce e absorve voce em sua narrativa bem editada. nem uma unica cena e desperdicada. robert roy contem o equilibrio perfeito de tensao dramatica, acao e ate mesmo humor ocasional. os personagens sao bem carinhosos, transmitindo perfeitamente vernaculos e maneirismos que os ancoram em seu autentico cenario de epoca. alem disso, eles nao sao caricaturas do bem e do mal como todos nos muitas vezes observamos em filmes modernos. por exemplo, enquanto esperamos o heroico rob roy prevalece, percebemos que suas dificuldades sao produtos de seu proprio orgulho e senso de honra. tim roth interpreta um dos bandidos mais odiosos da historia do cinema, mas ha momentos em que podemos entender como os eventos de sua vida o moldaram para se tornar o que ele e. rob roy emprega um nivel de desenvolvimento de personagem que torna a sua historia ainda mais credivel e emocionante.rob roy e um tesouro encantador, apresentando uma das maiores lutas de espadas ja coreografadas e um final climatico digno de toda a antecipacao tensa.\n",
      "\n",
      "eu nao sei porque, mas eu pensei que eu ja vi esse filme antes. talvez fosse o nome, talvez fosse o jeito que o poster parecia, eu nao sei. de qualquer forma, foi bastante promissor no comeco. e mesmo durante toda a apresentacao, houve alguns momentos brilhantes. talvez seja porque eu nao sou um grande fa dos horrores, e eu nao assisto muito, mas este realmente parecia fresco as vezes. mas o resto nao e tao bom. risivel as vezes. o filme e lento, as vezes voce vai ficar tao entediado que vai esquecer sobre o que foi a historia. personagens tambem nao sao otimos. todos eles. o acougueiro esta bem, parece esquisito e louco o suficiente. embora eu nao tenha conseguido o que eram aquelas coisas esquisitas em seu peito, aquela cena toda parecia falsa e meio fora de azul, e por que ele estava colecionando aquelas em frascos em casa? o principal lead e simples. seu personagem e realmente dificil de acreditar e muito pouco desenvolvido. mas eu acho que isso e culpa dos scenarists. como por que ele chorou quando ele estava tirando fotos de sua namorada? o elenco lateral tambem e ruim. mas a principal coisa que eu odiei nesse filme foi a garota. meu deus, quando as mulheres em filmes de terror terao algum cerebro? e ridiculo. a garota descobre que um maniaco levou sua camera de namorado, tenta ir a policia, que falha, e entao ela pensa na melhor ideia de todos os tempos. por que nao vamos apenas pegar! eu sei onde o maniaco mora! sim! isso e otimo! e entao olhe para a camera no banheiro! por que nao? e entao ande no quarto, veja uma bolsa que nao estava la antes, e apenas olhe para dentro. talvez a camera esteja la? nao esta la. mas muitas coisas interessantes. brilhante. mmmm perceber que a bolsa significa que o acougueiro voltou e muito dificil para o cerebro minusculo. entao, e claro, o interminavel truque \"caindo enquanto foge\", que realmente fez com que parecesse ruim. entao, para colocar a unha final no personagem, no final do filme, ela entra na carruagem cheia de cadaveres pendurados nos pes, grita \"noooo\" como se ela tivesse acabado de rasgar sua bolsa gucci e entrar na carroca. . eita vamos. ninguem mais pensa que e justo, bem, estupido? simplesmente horrivel. se seu personagem nao fosse tao ruim, talvez o filme recebesse outra estrela ou duas de mim. e eu ate perdoaria personagens mmt que podem levar um golpe na cabeca com um martelo de aco que dude no trem que o maestro matou, coletes de acougueiro que podem proteger de balas, estranhos e baratos monstros olhando no final eu nao li clive barkers romance, entao eu nao tenho ideia de onde esses monstros vieram, o fato de que ninguem se importava que centenas julgando sobre os esqueletos na masmorra desapareceu na cidade, e personagem principal que nao sangrou ate a morte quando ele teve sua lingua arrancada ele mal notei que eu acho. ah, e o final previsivel. droga, eu sabia que o final era meio decepcionante. a unica razao pela qual eu ainda estou dando algum credito para os fabricantes, e que o filme em geral parece melhor do que a maioria dos horrores que eu assisti nos ultimos meses. o estilo visual e legal, algumas fotos foram realmente legais e boas cgi que fizeram as mortes parecerem realmente brutais. embora o sangue nao parecesse real, acho que algumas pessoas vao gostar, algumas, como eu, vao assistir se nao houver mais nada para assistir, algumas vao odiar.\n",
      "\n",
      "focus e outro grande filme estrelado por william h. macy. eu descobri macy em fargo e eu vi alguns de seus filmes e ele ainda nao me enganou. macy e o arquetipico \"cara legal com algo a esconder\". em foco, ele interpreta o papel de lawrence newman, um fiel e trabalhador, que abriga sua mae deficiente em casa. a cena e definida apos a segunda guerra mundial, no auge do macarthismo. newman e o chefe de recursos humanos de uma empresa basicamente anti-semita. depois que ele acidentalmente contrata uma mulher de ascendencia judaica, ele e solicitado a comprar um par de oculos, para melhorar sua visao fracassada. inacreditavelmente, o simples ato de comprar oculos tem grandes repercussoes em sua vida e de gertrude hart, sua esposa interpretada por uma otima laura dern. enquanto o filme se desenrola, newman comecara a ver um mundo completamente diferente, onde ser judeu e semelhante a ser um animal. o filme e perturbador na maneira como mostra que ser racista era algo bastante normal. o pensamento arrepiante e que, em alguns lugares, provavelmente ainda e.\n",
      "\n",
      "como qualquer um com idade suficiente sabe, a africa do sul sofreu por muito tempo sob a opressao vil e racista do apartheid, que subjugou completamente a populacao negra. um dos mais famosos ativistas anti-apartheid foi steve biko, que foi assassinado na cadeia. apos o assassinato, o reporter donald woods tentou levar a mensagem do bikos para o mundo. em \"cry freedom\", woods kevin kline se torna amigo de biko denzel washington antes de ser preso por acusacoes forjadas. quando woods tenta espalhar a palavra bikos, ele e sua familia comecam a viver sob ameaca de ataque, e eles sao finalmente forcados a fugir do pais. a ultima cena mostra a policia atirando contra os manifestantes. como um dos dois filmes junto com \"a world apart\" que ajudou a galvanizar o movimento anti-apartheid, \"cry freedom\" se destaca como possivelmente o melhor trabalho de todos os envolvidos.\n",
      "\n",
      "eu amo ver uma protagonista feminina, neste filme o nome dela era rose. rose trouxe muitas perguntas interessantes em sua jornada de realizacao. e possivel alcancar a paz e a realizacao interna por meios externos? nossa sociedade ensina isso? pode alguem ser uma vitima da memoria que pode levar a vitimizar os outros? um e responsavel por ser um produto do meio ambiente? ate que ponto pode-se controlar ou controlar o ambiente? como e um humano \"tipico\" ou diferente de rose? por fim, o resultado ou a historia mudaria se fosse de outro pais como a franca ou a italia? eu adorava que este filme provocasse todas essas perguntas em mim, enquanto entretinha, estimulava e me mantinha adivinhando ate o fim! toda vez que eu assisti, eu aprendi mais sobre o filme e sobre mim mesmo.\n",
      "\n",
      "evidentemente, eu nao sei nada sobre beisebol, nem sou fa do esporte, mas isso nao me impediu de apreciar o filme mais recente dos irmaos farrelly, fever pitch, uma comedia romantica encantadora e irreverente. o filme nao e realmente sobre beisebol; em vez disso, e realmente sobre relacionamentos e a desconexao emocional que muitas vezes pode ocorrer. jimmy fallen? dando o seu melhor desempenho ate a data? estrelas como ben, uma professora de escola nerd e levemente nerd. ben e uma especie de homem-menino, que infelizmente nunca cresceu realmente, e promove um vicio quase fanatico ao time de beisebol red sox. ben dedicou sua vida ao sox e faz de tudo, desde a peregrinacao a florida para treinamento na primavera ate a decoracao de cada centimetro quadrado de seu apartamento em parafernalia de equipe.um dia, enquanto levava sua aula de geometria para uma visita a seu escritorio ben encontra o lindsey drew barrymore. lindsey e uma garota corporativa, voltada para a carreira, mas ela tem uma especie de fofura que ben acha totalmente cativante. hes inicialmente hesitante em convida-la para sair, pensando que ela esta fora de sua \"aula\" e, lindsey nao ve imediatamente um parceiro em potencial em ben. seu primeiro encontro comeca num comeco desastroso quando lindsey e atingida por um caso grave de comida. envenenamento? e seu vomito ressonante fornece a primeira pista de que estamos, de fato, assistindo a um filme dos irmaos farrelly. em vez de aceitar o pedido de lindsey - bastante urgente - de reprogramar, ben fica por perto para ser enfermeiro, ordeiro e zelador. entao ben esfrega o banheiro e os dentes do cachorro, enquanto seu interesse amoroso e desmaiado com um balde ao lado de sua cama. quando lindsey acorda de manha e o encontra dormindo em seu sofa, ela inicia o longo e incisivo processo de desmantelar o teia de ansiedade e ambicao de status, ela chegou a pensar em seus padroes. logo eles estao se apaixonando, com lindsey alegremente aceitando a devocao fanatica de bens ao seu esporte. tendo herdado bilhetes de temporada escolhidos de seu amado tio, ben organizou sua vida em torno da temporada? ele nunca perdeu um jogo. mas o relacionamento deles, que progrediu sem problemas durante o inverno, atinge um obstaculo no inicio da temporada. lovsey quer que ben faca outras coisas, como passar ferias com os pais e a festa com as amigas, mas ben comeca a ter problemas para modular seu interesse em encontrar lindsey no meio do caminho. lindsey pode consentir em sua devocao irracional aos garotos do verao para fazer seu relacionamento funcionar? ela realmente pode acomodar a paixao de bens com esportes? pode um fa do red sox teimoso e nerd encontrar amor verdadeiro depois de tudo? e claro que lindsey e ben vem com um sortimento colorido de amigos empunhando opinioes. lindsys, o mais rigoroso amigo robin kadee strickland, insiste que deve haver algo errado com o cara se ele ainda estiver solteira aos 30 anos. no entanto, sarah marissa jaret winokur e molly ione skye, de cabelo encaracolado, fornecem uma proposta mais otimista. e uma visao positiva da excentricidade de ben.bens poderia ser aplicada a praticamente qualquer fa de esportes obsessivo, enquanto as frustracoes de lindsays poderiam ser representativas de qualquer mulher voltada para a carreira que estivesse em ascensao. fallon e fantastico como ben, exibindo o potencial real da tela grande, superando o desafio nao insignificante de impedir ben de ser antipatico. barrymore, por sua vez, e igualmente charmosa como a viciada em trabalho lindsey, particularmente ao se esforcar para aceitar ben como ele e, sem perder de vista suas proprias necessidades. fever pitch realmente funciona, e apesar de haver muitos momentos comicos inspirados, o filme e abordando tambem o grave problema do vicio em esportes e o quao dificil pode ser para os casais negociarem este territorio fragil. muito do filme foi filmado no bostons fenway park, o que acrescenta um bom senso de autenticidade ao processo, bem como a ambiencia do esporte. os jogos, embora apreciem plenamente o que aconteceu com a equipe, provavelmente estarao limitados aos aficionados por beisebol. mesmo assim, fever pitch e abencoado com um roteiro tao elaborado e inteligentemente engracado que mesmo os novatos fas de beisebol vao encontrar muito com o qual se conectar. mike leonard 05 de setembro.\n",
      "\n",
      "se voce pode acreditar, outro grupo de adolescentes volta para outra cabana a beira do lago tres anos depois de outro daqueles acidentes fatais ter sido um deles. baixo e eis que um psicopata que usava uma mascara de hoquei padronizada, com uma aparencia barata, acaba por desperdica-los um por um. esta mecanica sexta-feira a 13 knock off ganhou ligeira notoriedade como um dos primeiros recursos de tiro digital, mas e ai que os fatos interessantes terminam e tudo o que resta e uma producao amadora previsivel com performances abaixo da media e uma intrusao de boom-mic recorrente. uma reviravolta no ultimo segundo faz pouco para levantar os espiritos, e o memorial day e algo melhor jogado em um lago e esquecido. um para colecionadores de slasher insanos somente.\n",
      "\n",
      "nem o desastre total que os criticos do reino unido reivindicaram nem a obra-prima incompreendida que seus poucos fanboys insistem, o revolver e, no minimo, uma tentativa admiravel de guy ritchie de adicionar um pouco de substancia aos seus travessos conman. mas, entao, nada e mais desprezado do que um filme ambicioso que morde mais do que pode mastigar, especialmente um usando a estrutura do filme gangster / con-artista. como pode ser esperado do nome luc besson nos creditos como produtor, ha um elemento definido do cinema de olhar para ele: definido em uma especie de mundo de fantasia realista onde america e gra-bretanha se sobrepoem, parece otimo, tem um par de soberbamente editado e concebeu sequencias de acao e estilo oozes, todos os quais marcam como um entretenimento descartavel. mas ritchie claramente quer fazer mais do que simplesmente refazer seus proprios filmes para ganhar dinheiro rapido, e ele passou muito tempo pensando e lendo sobre a vida, o universo e tudo mais. se alguma coisa, o problema e que ele esta tentando influenciar demais um pouco de maquiavel, uma pitada de godard, muitos principios do xadrez, motivos e tecnicas, cobrindo a tela com citacoes: o filme originalmente tinha a intencao de terminar com tres minutos de epigramas sobre fotos de cadaveres de vitimas da mafia, e as vezes parece que ele nunca leu um biscoito da sorte que nao queria transformar em um filme. ao inves de um comercial para o cabalismo, e realmente uma mistura dos principios sobrepostos do comercio, do xadrez e da trapaca da confianca que, na maior parte, tira o dificil truque de tornar a teosofia acessivel, enquanto oculta os filmes centrais de alguma forma metafisica. e onde a maioria dos problemas pode ser encontrada, como jason statham enfrenta o inimigo literalmente com muito ambicioso, mas nem sempre inteiramente bem-sucedido dentro do quadro para contrastar as bravatas exteriores das pessoas com seu medo e raiva interior, mas tem muito a ver tudo a mesma coisa. nao vale a pena comecar uma nova religiao, mas estou surpreso que nao conseguiu um distribuidor dos eua. talvez eles tenham achado ray liottas intencionalmente fake bronzeado simplesmente muito assustador?\n",
      "\n",
      "eu li o livro de james hawes. foi muito legal, nao e otimo, mas divertido o suficiente. sem ter lido o livro, eu nao teria a menor ideia do que estava acontecendo, e ainda era um exagero com esse conhecimento. de maneira literal, todos os elementos desse filme sao abismais de maneiras que nao tenho a capacidade de descrever. peixe meio digerido poderia ter feito um filme melhor com palitos de fosforo e batom dayglo. nunca antes ou desde entao, como um filme me fez sentir tao zangado. as sequelas do colchao foram as que mais se aproximaram, mas nem chegaram a um nivel de apatia tao repulsivo e nauseante que esse porao fez. desde que desperdicaram 90 minutos de minha vida testemunhando essa praga em humanos, nao consigo sequer olhar para qualquer livro de james hawes. sentindo raiva. essa e a profundidade do odio que tenho por este pedaco de sangue. nao, isso e injusto. deixe-me pedir desculpas a toda a materia fecal por compara-lo ao mal do outro mundo que e o rancid aluminium.plain e simplesmente um cancer no mundo do cinema.\n",
      "\n",
      "tendo visto anteriormente este curta em fita vhs com o recurso summer stock, acabei de reintegrar todos os domingos no site do tcm. o filme marcou a estreia no cinema de deanna durbin, de 15 anos, e de judy garland, de 14 anos, do lado de fora de suas duas irmas mais velhas. estes dois adolescentes mostram seus talentos musicais com um solo de deanna de \"il bacio\", depois um de judy de \"waltz with a swing\" antes do climax com \"americana\". o enredo ligeiro deste filme de 11 minutos diz respeito ao possivel desemprego do primeiro nome real de ednas durbins, que e a forma como ela e abordada aqui avos realizando trabalho no parque por causa da baixa frequencia. com as duas garotas ajudando, voce provavelmente pode adivinhar o que acontece a partir dai! os contrastes sao marcados nao apenas pela escolha musical de garlands e durbins, mas tambem pela sua altura, equilibrio e movimento. apesar de tudo isso, eles se saem bem no final e e quase surpreendente que a mgm tenha escolhido garland, enquanto durbin ja estava contratada na universal, mas foi brevemente permitida de volta desde sua estreia no longa-metragem three smart girls. . a propria judy faria seu primeiro longa-metragem, pigskin parade, na 20th century-fox, quando a mgm estava decidindo qual seria o proximo filme dela. seria a broadway melody de 1938, onde faria o numero do programa \"dear mr. gable you made me\". vos amo\". mas voltando a este curto, every sunday fornece um vislumbre quente e maravilhoso de dois cantores estrelas no inicio de suas carreiras lendarias sem saber o que o futuro reserva para eles .\n",
      "\n",
      "robin williams e um tesouro nacional, especialmente quando ele solta e poe de lado sua abordagem piegas do drama. ele consegue animar o ritmo contido habitual de barry levinson, e ha momentos neste filme quando ele realmente brilha. como o presidente eleito americano engracado em \"homem do ano\" williams recaptura a hilaridade e escandalo que costumava ser associado com ele. o que o torna tao atraente e a sua humanidade e simpatia. aqui esta um homem que pode atacar seu publico, mas tambem os ama de verdade. seu humor e como arame farpado e, no entanto, e catartico. e o que o torna muito atraente para as pessoas no filme e na vida real. laura linney e mais uma vez retratando uma mulher inteligente em perigo. ela e uma artista fabulosa e muito talentosa, mas acho que ela encaixou em um estereotipo e, infelizmente, teria sido mais interessante ter um artista menos reconhecivel neste caso. walken praticamente anda por seu papel ingrato, e a cena climatica no snl esquece mal acima da agua. entre por alguns momentos hilarios, e esses sao inestimaveis. divirta-se com williams e esqueca alguns dos momentos mais profundos que retardam esse filme que de outra forma seria divertido.\n",
      "\n",
      "um . um filme serio sobre adolescentes problematicos em cingapura, um pais sobre o qual eu nao tenho muito conhecimento, mas tenho a impressao anterior de que todas as criancas sao altamente disciplinadas e controladas por sua familia e governo. bem, eu acho que estou errado, assim como outras cidades / paises, eles tambem tem seus adolescentes problematicos que tambem lideram o modo de vida rebelde nao tao surpreendente de drogas, brigas, linguagem ruim, e . muitos outros sinais obvios de sendo um menino mau. a parte surpreendente deste filme nao e realmente sobre como essas criancas correm por ai causando a si e aos outros problemas, mas sim a homossexualidade sutil escondida por tras de sua chamada lealdade entre eles. o vinculo entre esses \"irmaos\" pode muito bem ter se originado de uma tendencia gay inconsciente dentro desses meninos. embora nao seja incomum que os caras da str8 tenham uma amizade muito proxima, mas assistam a esse filme de perto, ele deveria estar entrando em todos os tipos de festivais de filmes gays e eu nao ficaria surpreso se ele ganhasse muito mais premios nessa direcao !\n",
      "\n",
      "_waterdance_ explora uma ampla variedade de aspectos da vida do ferido na coluna com habilidade. desde os pequenos tormentos de luzes fluorescentes defeituosas, passando pela sexualidade, masculinidade e depressao, a experiencia da deficiencia e exposta. a diversidade dos personagens centrais ressalta a complexidade do material examinado - joel, o escritor, raymond, o homem negro. com um passado obscuro, e bloss, o ciclista racista. a principio, esses homens nao estao unidos por nada alem da natureza de seus ferimentos, mas mantem seu espirito competitivo. com o passar do tempo, a experiencia compartilhada, tanto boa quanto ruim, os une como amigos para apoiar uns aos outros. a mais obvia das transformacoes e aquela experimentada por joel, que inicialmente se distancia de seus colegas pacientes com oculos de sol, fones de ouvido e cortinas. quando ele aceita as mudancas que a incapacidade fez em sua vida, joel descarta esses aderecos e comeca a envolver-se nas lutas dos homens com quem compartilha a ala. a danca mencionada no titulo e uma referencia a esse cotidiano. lutar para manter a cabeca acima da agua; desistir da danca e rejeitar a vida. _waterdance_ e um filme comovente e poderoso em muitos niveis, e nao hesito em recomenda-lo.\n",
      "\n",
      "gracas a este filme, eu agora posso responder a pergunta: \"qual e o pior filme que voce ja viu?\" eu nao posso nem pensar em um segundo proximo, e eu vi alguns filmes muito ruins. absolutamente nada funciona neste filme. nomeie um unico elemento de qualquer filme de terror e esse filme falhara. honestamente, eu ja vi melhor no youtube. aqui esta algum dialogo tipico: \"steve?\" \"steve?\" \"steve, e voce?\" \"steve, eu nao estou brincando\" \"steve, isso nao e engracado!\" \"steve, voce esta ai?\" \"steve?\" \"steve?\" \"steve?\" \"arghgh ! ah ! no!\"\n",
      "\n",
      "houve uma epoca em que joel schumacher estava bem no topo da minha lista de diretores favoritos. no final dos anos 80 e inicio dos anos 90, quando seu nome foi anexado a varios grandes filmes como \"the lost boys\", \"flatliners\" e \"falling down\", ele realmente era um dos diretores mais talentosos de hollywood. entao vieram as estupidas sequencias de \"batman\", infelizmente, e depois disso parecia que todo roteiro potencialmente sublime se transformava em uma bagunca gigantesca nas maos de schumacher. tanto \"8mm\" quanto \"phone booth\" poderiam ter sido filmes muito melhores e ate mesmo o incrivelmente imbecil conceito de \"the number 23\" deveria ter sido processado em um filme um pouco mais atraente e divertido. literalmente do comeco ao fim, \"the number 23\" tenta desesperadamente ser um thriller misterioso e misterioso e, portanto, usa todos os cliches terriveis do grande livro da historia do cinema, incluindo narracao de voz pesada, flashbacks, estrutura desordenada, personagens com varias personalidades, inumeras reviravoltas que crescem configuracoes de asilo cada vez mais absurdas e sinistras. nada ajuda, no entanto, simplesmente devido a pura tolice da formula basica e ao envolvimento claramente nao inspirado do elenco e da equipe. por mais que voce tente se associar com o protagonista e tenha a mente aberta em relacao as teorias insanas, isso ainda continua sendo um filme sobre um numero de dois digitos e numeros de dois digitos nao assustadores. walter sparrow jim carrey em um raro papel nao-comico e um cacador de animais entediado cuja esposa agatha lhe da um livro bizarro em seu aniversario. o livro fala sobre todos os tipos de teorias diabolicas e coincidencias estranhas que estao ligadas ao numero 23. walter quase prontamente identifica-se com o protagonista de livros um detetive desprezivel investigando um caso sombrio de suicidio e comeca a identificar exemplos copiosos do enigma 23 em seu propria vida privada. fiz algumas pesquisas no google e na wikipedia e, aparentemente, todo esse absurdo da numerologia de fato existe e certas pessoas acreditam honestamente que a maioria das catastrofes e acidentes estao diretamente ligadas a esse numero maligno. bem, isso e apenas? louco! mas ei, eu nao estou aqui para julgar as crencas e os medos das pessoas, independentemente de quao dementes elas sao, e so posso compartilhar minha humilde opiniao em um filme baseado em um enigma frenetico. \"the number 23\" nao e de suspense, apesar de varios cenarios sombrios e efeitos desagradaveis de maquiagem, e nunca em um ponto consegue fazer voce pensar sobre o papel dos numeros em sua propria vida. todos os membros do elenco tiveram um desempenho abaixo de suas capacidades normais, mas ainda assim foi uma alegria ver a adoravel sra. virginia madsen em uma producao relativamente grande novamente. definitivamente nao e recomendado no caso voce esta procurando uma noite solida e assustadora de thriller divertido, mas suportavel e nao inteiramente sem merito.\n",
      "\n",
      "\"sa som in himmelen\" foi provavelmente um dos 3 filmes mais bonitos que ja vi na minha vida. que nao ganhou o oscar, nao vou derramar uma lagrima. este filme esta em uma especie de classe propria, que uma vitoria do oscar teria possivelmente prejudicou isso ! meu querido amigo anders nyberg, voce fez uma verdadeira magnificencia com sua caneta aqui! kay pollak, com sua criacao, e todos contribuindo, todos voces deram um presente de amor ao nosso mundo. entre os pontos de entrar neste nosso mundo, entao saindo - voce realmente pode dizer que voce fez melhor! um agradecimento pessoal especial da minha alma a todos voces, que voce trouxe de volta algumas memorias preciosas da segunda decada da minha vida. eu cresci na suecia, e minha mente jovem e presente beingness foi formada e moldada por muitas influencias suecas bonitas, individuos, tradicoes, musica e natureza. minhas bencaos com gratidao a todos voces. com amor e luz, george-gabriel berkovits soulhealer, joanesburgo, africa do sul\n",
      "\n",
      "a novela weapon, que serve de base para essa atroz peca de lixo, e um dos melhores techno-thrillers para descer a ludica em muito tempo. o personagem de solo, que nao deveria se parecer com um humano, e um maravilhoso criacao e foi simplesmente horrivel ve-lo reduzido a apenas mais um clone terminator com mario van peebles horrendamente tentando \"agir\" como um robo. nao ha nada que valha a pena sobre este filme. por que hollywood insiste em abocanhar os direitos de romances excelentes e depois massacra-los? ha tantas coisas erradas na solo que lista-las parece tao injusto quanto convidar um homem sem pernas para um jogo rapido de amarelinha. evite este filme horrivel e procure os 2 romances de robert mason que caracterizam o incrivel personagem de solo. os livros sao o weapon e uma excelente sequela solo.mas nao prestem atencao a esse terrivel filme.\n",
      "\n",
      "eu nao sou geralmente um fa de filmes estritamente romanticos, mas ouvi isso foi bom. eu fiquei chocado. facilmente a coisa mais romantica que eu ja vi na minha vida. impressionante. brilhante, doce, engracado e cheio de coracao. a quimica e impecavel como e a escrita e direcao. ethan hawke e julie delphy sao tao naturais e doces juntos que voce realmente acha que eles sao um casal. os filmes agarram voce imediatamente e nao soltam. voce nao pode desviar o olhar nem pode parar de ouvi-los. mesmo os pequenos momentos apenas derreter seu coracao. isso saltou para as fileiras de um dos meus favoritos sempre. uma obra-prima.\n",
      "\n",
      "married to the mob foi uma das primeiras fitas vhs que tive junto com coming to america e grease. eu ainda tenho boas lembrancas desse filme depois de todos esses anos. inferno, eu ainda tenho o vhs deste filme em boas condicoes.a historia: policial disfarcado mike downeymatthew modineis enviado para espionar angela de marcomichelle pfeiffer a esposa do membro da mafia assassinada frank \"pepino\" de marcoalec baldwin. mais tarde, ele se apaixona por ela depois que ele percebe que ela e inocente em tudo isso. angela nao so tem que lidar com os indesejados avancos do chefe da mafia tony \"o tigre\" russodean stockwell, ela tambem tem que lidar com sua ciumenta esposa connie russomercedes ruehl.married to the mob e engracado e ainda mantem o seu interesse quando nao esta tentando seja engracado. eu gosto dos pequenos jabs que toma na mafia lifethe ciumento mafia esposa, o chefe da mafia que nao percebe que ele nao e um ima de garota etc e voce gosta dos personagens de angela de marco e mike downey. foi a ultima fase engracada de johnathan demme antes de ele ficar serio e te dar tesouros como philadelphia e silence of the lambsbest thriller de todos os tempos. se voce esta com vontade de comedia, married to the mob e um goleiro. e melhor do que o lixo que passa para a comedia hoje em diaepic movie, date movie, conheca os spartans, disaster movie etc.\n",
      "\n",
      "de volta ao frio e arrepiante inicio dos anos 90, um programa chamado \"family matters\" foi ao ar e se tornou um classico instantaneo. o truque era comprar um manual em situacoes familiares padrao e suas solucoes e inserir algumas tentativas de fazer comentarios sarcasticos nele. um adoravel pequeno roubo e errado, pais sao um show da direita. entao, isso funcionou bem, entao bickley-warren tinha um novo plano ambicioso: fazer exatamente o mesmo show novamente. entretanto, a diferenca e: \"family matters\" teve urkel. \"step by step\" tem o cara daqueles \"kickboxer\" - sequels ninguem viu. ele diz coisas como \"dudette\" e \"the dane-meister\", e de alguma forma o publico ainda nao deve odia-lo. quero dizer a serio \"dudette\"? como voce pode conseguir isso atraves dos seus labios? o resto das pessoas eram na maioria versoes brancas de todo o winslow-bunch, combinadas com alguns personagens mais ou menos nulos, como o cara burro jt. bem, eddie, a garota esperta laura, e uma garota bonita que passa seus dias parecendo bonita na teoria. o desenvolvimento do personagem foi horrivel nesse programa. grover e o cookie monster tem mais profundidade que a familia lambert. todo mundo apenas ordenhava seus estereotipos pelo que eles valiam. eles werent vale muito.powered por uma enorme fita de riso e alegria roubada de algo engracado, este show foi ao ar por um enorme 7 anos, o que foi humilhante para a competicao.embora, voce vai ter que notar que este e o momento em que sitcoms familiares foram praticamente todos os grandes sucessos, todo mundo apenas ignorou sua merda porque bem, foi nos anos 90, mais um show de merda nao doeu.\n",
      "\n",
      "olhar intransigente para um suburbio na viena do seculo xxi misturando as historias de seis grupos de personagens do ex-documentarista u.seidl e uma peca provocativa, minimalista e intensa de cinema de observacao.depois da divulgacao mundial dos reality shows do big brother, hundstage leva voyeurismo moderno a um nivel inquietante e profundo. dificil de gostar, mas a parte nao digna do cinema de arte europeu pode parecer cruel e decadente, mas consegue transmitir o sentimento niilista alienado da sociedade moderna de uma maneira louvavel. uma obrigacao para os amantes do cinema mundial.\n",
      "\n",
      "nao costumo dizer que nao vale a pena assistir a um filme, mas isso e certamente uma circunstancia extenuante. a unica verdadeira vantagem para este filme e cornelia sharpe, parecendo bastante atraente, e o fato de que este filme e realmente curto. o enredo no filme e incrivelmente chato e praticamente nao chega a lugar nenhum ao longo do filme. nenhum dos personagens e nem de longe interessante e nao ha razao para se preocupar com ninguem. eu nao sei por que diabos sean connery concordou em fazer esse filme, mas ele definitivamente deveria ter repassado esse aqui. a unica razao pela qual eu pude ver esse filme e se voce e um fa obstinado de sean connery e simplesmente quer ver tudo o que ele fez. salve este para o ultimo though.well, se voce por algum milagre acabar vendo isso apesar do meu comentario ou qualquer um dos outros comentarios sobre este site, entao eu espero que voce goste mais do que eu fiz. obrigado pela leitura.\n",
      "\n"
     ]
    }
   ],
   "source": [
    "for linha in df_treinamento.sample(45, random_state=314).itertuples():\n",
    "    print(linha.texto + \"\\n\")"
   ]
  },
  {
   "cell_type": "markdown",
   "metadata": {},
   "source": [
    "Alguns indicativos interessantes que podem indicar algum sentimento, \"positivo\" ou \"negativo\":\n",
    "- Existência de palavras positivas \"bom\" seguido de \"mas\" pode indicar um sentimento negativo.\n",
    "- Existência de termos como \"infelizmente\", \"decepciona\" ou \"decepcionado\" pode indicar um sentimento negativo.\n",
    "- Expressões como \"vale a pena\" e \"must see\" (expressão em inglês para recomendações positivas), indicam um sentimento positivo.\n",
    "- Expressão \"deve ver\", \"maravilha\" e \"hilário\" indicam um sentimento positivo.\n",
    "- \"horrivel\", \"terrivel\", \"frustrante\", \"decepcionante\" e \"lamentável\" indicam um sentimento negativo.\n",
    "- \"Mais engracados\", \"maiores sitcom\", \"excelente\", \"diversão\" = positivo\n",
    "- \"obsoleto\" = negativo\n",
    "- \"sem inspiracao\" = negativo"
   ]
  },
  {
   "cell_type": "markdown",
   "metadata": {},
   "source": [
    "### 1.2 - Desenvolvendo as LFs\n",
    "\n",
    "Agora podemos começar a escrever nossas funções de rotulagem.\n",
    "\n",
    "// TO DO\n",
    "\n",
    "... INFORMAR O USO DO SNORKEL ..."
   ]
  },
  {
   "cell_type": "code",
   "execution_count": 7,
   "metadata": {},
   "outputs": [],
   "source": [
    "# Possíveis opiniões para as funções de rotulagem\n",
    "POSITIVO = 1\n",
    "NEGATIVO = 0\n",
    "ABSTENCAO = -1"
   ]
  },
  {
   "cell_type": "code",
   "execution_count": 8,
   "metadata": {},
   "outputs": [],
   "source": [
    "import re \n",
    "\n",
    "regex_a = re.compile(r'(?<!\\bnão\\s)\\bgostei|gostou|gostar|bom|boa\\b', re.IGNORECASE)\n",
    "regex_b = re.compile(r'nao gost', re.IGNORECASE)\n",
    "regex_c = re.compile(r'(?:mais|maiores) serie|sitcom', re.IGNORECASE)\n",
    "regex_d = re.compile(r'vale a pena', re.IGNORECASE)\n",
    "regex_e = re.compile(r'obsolet', re.IGNORECASE)\n",
    "regex_f = re.compile(r'(?<!\\bnão\\s)\\brecomend\\b', re.IGNORECASE)\n",
    "regex_g = re.compile(r'nao recomend', re.IGNORECASE)\n",
    "regex_h = re.compile(r'nunca mais', re.IGNORECASE)\n",
    "regex_i = re.compile(r'(?:sem|nao (:?tem|e|est)) inspi', re.IGNORECASE)\n",
    "regex_j = re.compile(r'ruim|pessim[oa]|terrivel|horrivel|frustrante|decepc|lamentavel', re.IGNORECASE)\n",
    "regex_k = re.compile(r'\\bbo[ma]\\b', re.IGNORECASE)\n",
    "regex_l = re.compile(r'infeliz|horri|terri', re.IGNORECASE)"
   ]
  },
  {
   "cell_type": "code",
   "execution_count": 10,
   "metadata": {},
   "outputs": [],
   "source": [
    "from snorkel.labeling import labeling_function\n",
    "\n",
    "@labeling_function()\n",
    "def lf_regex_a(x):\n",
    "    if regex_a.search(x.texto):\n",
    "        return POSITIVO\n",
    "    else:\n",
    "        return NEGATIVO\n",
    "\n",
    "@labeling_function()\n",
    "def lf_regex_b(x):\n",
    "    return POSITIVO if regex_b.search(x.texto) else ABSTENCAO\n",
    "\n",
    "@labeling_function()\n",
    "def lf_regex_c(x):\n",
    "    return POSITIVO if regex_c.search(x.texto) else ABSTENCAO\n",
    "\n",
    "@labeling_function()\n",
    "def lf_regex_d(x):\n",
    "    return POSITIVO if regex_d.search(x.texto) else ABSTENCAO\n",
    "\n",
    "@labeling_function()\n",
    "def lf_regex_e(x):\n",
    "    return NEGATIVO if regex_e.search(x.texto) else ABSTENCAO\n",
    "\n",
    "@labeling_function()\n",
    "def lf_regex_f(x):\n",
    "    if regex_f.search(x.texto):\n",
    "        return POSITIVO\n",
    "    else:\n",
    "        return NEGATIVO\n",
    "\n",
    "@labeling_function()\n",
    "def lf_regex_g(x):\n",
    "    return NEGATIVO if regex_g.search(x.texto) else ABSTENCAO\n",
    "\n",
    "@labeling_function()\n",
    "def lf_regex_h(x):\n",
    "    return NEGATIVO if regex_h.search(x.texto) else ABSTENCAO\n",
    "\n",
    "@labeling_function()\n",
    "def lf_regex_i(x):\n",
    "    return NEGATIVO if regex_i.search(x.texto) else ABSTENCAO\n",
    "\n",
    "@labeling_function()\n",
    "def lf_regex_j(x):\n",
    "    return NEGATIVO if regex_j.search(x.texto) else ABSTENCAO\n",
    "\n",
    "@labeling_function()\n",
    "def lf_regex_k(x):\n",
    "    return POSITIVO if regex_k.search(x.texto) else ABSTENCAO\n",
    "\n",
    "@labeling_function()\n",
    "def lf_regex_l(x):\n",
    "    return NEGATIVO if regex_l.search(x.texto) else ABSTENCAO"
   ]
  },
  {
   "cell_type": "markdown",
   "metadata": {},
   "source": [
    "Agora, será aplicado as LFs criadas anteriormentes na nossa base."
   ]
  },
  {
   "cell_type": "code",
   "execution_count": 11,
   "metadata": {},
   "outputs": [
    {
     "name": "stderr",
     "output_type": "stream",
     "text": [
      "100%|██████████| 42842/42842 [00:25<00:00, 1682.83it/s]\n"
     ]
    }
   ],
   "source": [
    "from snorkel.labeling import PandasLFApplier\n",
    "\n",
    "lfs = [lf_regex_a, lf_regex_b, lf_regex_c, lf_regex_d, lf_regex_e, lf_regex_f, lf_regex_g, lf_regex_h, lf_regex_i, lf_regex_j, lf_regex_k, lf_regex_l]\n",
    "\n",
    "applier = PandasLFApplier(lfs=lfs)\n",
    "L_treinamento = applier.apply(df=df_treinamento)"
   ]
  },
  {
   "cell_type": "code",
   "execution_count": 12,
   "metadata": {},
   "outputs": [
    {
     "data": {
      "text/plain": [
       "array([[ 1, -1, -1, ..., -1,  1, -1],\n",
       "       [ 1, -1, -1, ..., -1, -1, -1],\n",
       "       [ 0, -1, -1, ..., -1, -1, -1],\n",
       "       ...,\n",
       "       [ 0, -1, -1, ..., -1, -1, -1],\n",
       "       [ 1, -1, -1, ..., -1,  1, -1],\n",
       "       [ 0, -1, -1, ..., -1, -1, -1]])"
      ]
     },
     "execution_count": 12,
     "metadata": {},
     "output_type": "execute_result"
    }
   ],
   "source": [
    "L_treinamento"
   ]
  },
  {
   "cell_type": "code",
   "execution_count": 13,
   "metadata": {},
   "outputs": [
    {
     "name": "stdout",
     "output_type": "stream",
     "text": [
      "(42842, 12)\n"
     ]
    }
   ],
   "source": [
    "print(L_treinamento.shape)"
   ]
  },
  {
   "cell_type": "markdown",
   "metadata": {},
   "source": [
    "### 1.3 - Avaliando a performance\n",
    "\n",
    "Vamos avaliar a cobertura das nossas LFs"
   ]
  },
  {
   "cell_type": "code",
   "execution_count": 15,
   "metadata": {},
   "outputs": [
    {
     "name": "stdout",
     "output_type": "stream",
     "text": [
      "Cobertura das LFs: [1.         0.04392885 0.00534522 0.05571635 0.0026376  1.\n",
      " 0.00985015 0.00826292 0.0052752  0.31473787 0.36023061 0.24968489]\n"
     ]
    }
   ],
   "source": [
    "coverage =  (L_treinamento != ABSTENCAO).mean(axis=0)\n",
    "print(f'Cobertura das LFs: {coverage}')"
   ]
  },
  {
   "cell_type": "markdown",
   "metadata": {},
   "source": [
    "Vamos usar a LFAnalysis que é um conjunto de funções presentes no Snorkel que fornece informações interessantes."
   ]
  },
  {
   "cell_type": "code",
   "execution_count": 16,
   "metadata": {},
   "outputs": [
    {
     "data": {
      "text/html": [
       "<div>\n",
       "<style scoped>\n",
       "    .dataframe tbody tr th:only-of-type {\n",
       "        vertical-align: middle;\n",
       "    }\n",
       "\n",
       "    .dataframe tbody tr th {\n",
       "        vertical-align: top;\n",
       "    }\n",
       "\n",
       "    .dataframe thead th {\n",
       "        text-align: right;\n",
       "    }\n",
       "</style>\n",
       "<table border=\"1\" class=\"dataframe\">\n",
       "  <thead>\n",
       "    <tr style=\"text-align: right;\">\n",
       "      <th></th>\n",
       "      <th>j</th>\n",
       "      <th>Polarity</th>\n",
       "      <th>Coverage</th>\n",
       "      <th>Overlaps</th>\n",
       "      <th>Conflicts</th>\n",
       "    </tr>\n",
       "  </thead>\n",
       "  <tbody>\n",
       "    <tr>\n",
       "      <th>lf_regex_a</th>\n",
       "      <td>0</td>\n",
       "      <td>[0, 1]</td>\n",
       "      <td>1.000000</td>\n",
       "      <td>1.000000</td>\n",
       "      <td>0.501377</td>\n",
       "    </tr>\n",
       "    <tr>\n",
       "      <th>lf_regex_b</th>\n",
       "      <td>1</td>\n",
       "      <td>[1]</td>\n",
       "      <td>0.043929</td>\n",
       "      <td>0.043929</td>\n",
       "      <td>0.043929</td>\n",
       "    </tr>\n",
       "    <tr>\n",
       "      <th>lf_regex_c</th>\n",
       "      <td>2</td>\n",
       "      <td>[1]</td>\n",
       "      <td>0.005345</td>\n",
       "      <td>0.005345</td>\n",
       "      <td>0.005345</td>\n",
       "    </tr>\n",
       "    <tr>\n",
       "      <th>lf_regex_d</th>\n",
       "      <td>3</td>\n",
       "      <td>[1]</td>\n",
       "      <td>0.055716</td>\n",
       "      <td>0.055716</td>\n",
       "      <td>0.055716</td>\n",
       "    </tr>\n",
       "    <tr>\n",
       "      <th>lf_regex_e</th>\n",
       "      <td>4</td>\n",
       "      <td>[0]</td>\n",
       "      <td>0.002638</td>\n",
       "      <td>0.002638</td>\n",
       "      <td>0.001237</td>\n",
       "    </tr>\n",
       "    <tr>\n",
       "      <th>lf_regex_f</th>\n",
       "      <td>5</td>\n",
       "      <td>[0]</td>\n",
       "      <td>1.000000</td>\n",
       "      <td>1.000000</td>\n",
       "      <td>0.501377</td>\n",
       "    </tr>\n",
       "    <tr>\n",
       "      <th>lf_regex_g</th>\n",
       "      <td>6</td>\n",
       "      <td>[0]</td>\n",
       "      <td>0.009850</td>\n",
       "      <td>0.009850</td>\n",
       "      <td>0.005579</td>\n",
       "    </tr>\n",
       "    <tr>\n",
       "      <th>lf_regex_h</th>\n",
       "      <td>7</td>\n",
       "      <td>[0]</td>\n",
       "      <td>0.008263</td>\n",
       "      <td>0.008263</td>\n",
       "      <td>0.004178</td>\n",
       "    </tr>\n",
       "    <tr>\n",
       "      <th>lf_regex_i</th>\n",
       "      <td>8</td>\n",
       "      <td>[0]</td>\n",
       "      <td>0.005275</td>\n",
       "      <td>0.005275</td>\n",
       "      <td>0.002848</td>\n",
       "    </tr>\n",
       "    <tr>\n",
       "      <th>lf_regex_j</th>\n",
       "      <td>9</td>\n",
       "      <td>[0]</td>\n",
       "      <td>0.314738</td>\n",
       "      <td>0.314738</td>\n",
       "      <td>0.169927</td>\n",
       "    </tr>\n",
       "    <tr>\n",
       "      <th>lf_regex_k</th>\n",
       "      <td>10</td>\n",
       "      <td>[1]</td>\n",
       "      <td>0.360231</td>\n",
       "      <td>0.360231</td>\n",
       "      <td>0.360231</td>\n",
       "    </tr>\n",
       "    <tr>\n",
       "      <th>lf_regex_l</th>\n",
       "      <td>11</td>\n",
       "      <td>[0]</td>\n",
       "      <td>0.249685</td>\n",
       "      <td>0.249685</td>\n",
       "      <td>0.129943</td>\n",
       "    </tr>\n",
       "  </tbody>\n",
       "</table>\n",
       "</div>"
      ],
      "text/plain": [
       "             j Polarity  Coverage  Overlaps  Conflicts\n",
       "lf_regex_a   0   [0, 1]  1.000000  1.000000   0.501377\n",
       "lf_regex_b   1      [1]  0.043929  0.043929   0.043929\n",
       "lf_regex_c   2      [1]  0.005345  0.005345   0.005345\n",
       "lf_regex_d   3      [1]  0.055716  0.055716   0.055716\n",
       "lf_regex_e   4      [0]  0.002638  0.002638   0.001237\n",
       "lf_regex_f   5      [0]  1.000000  1.000000   0.501377\n",
       "lf_regex_g   6      [0]  0.009850  0.009850   0.005579\n",
       "lf_regex_h   7      [0]  0.008263  0.008263   0.004178\n",
       "lf_regex_i   8      [0]  0.005275  0.005275   0.002848\n",
       "lf_regex_j   9      [0]  0.314738  0.314738   0.169927\n",
       "lf_regex_k  10      [1]  0.360231  0.360231   0.360231\n",
       "lf_regex_l  11      [0]  0.249685  0.249685   0.129943"
      ]
     },
     "execution_count": 16,
     "metadata": {},
     "output_type": "execute_result"
    }
   ],
   "source": [
    "from snorkel.labeling import LFAnalysis\n",
    "\n",
    "LFAnalysis(L=L_treinamento, lfs=lfs).lf_summary()"
   ]
  },
  {
   "cell_type": "code",
   "execution_count": 18,
   "metadata": {},
   "outputs": [
    {
     "name": "stdout",
     "output_type": "stream",
     "text": [
      "1.0\n"
     ]
    }
   ],
   "source": [
    "print(LFAnalysis(L=L_treinamento, lfs=lfs).label_coverage())"
   ]
  },
  {
   "cell_type": "markdown",
   "metadata": {},
   "source": [
    "Conseguimos cobrir 100%, mas nossas funções de rotulagem tiveram bastante conflito."
   ]
  },
  {
   "cell_type": "markdown",
   "metadata": {},
   "source": [
    "### 1.4 - Comparando com o conjunto de desenvolvimento\n",
    "\n",
    "Agora vamos comparar os resultados que tivemos com o nosso conjunto de desenvolvimento."
   ]
  },
  {
   "cell_type": "code",
   "execution_count": 19,
   "metadata": {},
   "outputs": [
    {
     "name": "stderr",
     "output_type": "stream",
     "text": [
      "100%|██████████| 400/400 [00:00<00:00, 1629.15it/s]\n"
     ]
    }
   ],
   "source": [
    "L_dev = applier.apply(df=df_dev)"
   ]
  },
  {
   "cell_type": "code",
   "execution_count": 20,
   "metadata": {},
   "outputs": [
    {
     "name": "stdout",
     "output_type": "stream",
     "text": [
      "(400, 12)\n"
     ]
    }
   ],
   "source": [
    "print(L_dev.shape)"
   ]
  },
  {
   "cell_type": "code",
   "execution_count": 21,
   "metadata": {},
   "outputs": [
    {
     "data": {
      "text/html": [
       "<div>\n",
       "<style scoped>\n",
       "    .dataframe tbody tr th:only-of-type {\n",
       "        vertical-align: middle;\n",
       "    }\n",
       "\n",
       "    .dataframe tbody tr th {\n",
       "        vertical-align: top;\n",
       "    }\n",
       "\n",
       "    .dataframe thead th {\n",
       "        text-align: right;\n",
       "    }\n",
       "</style>\n",
       "<table border=\"1\" class=\"dataframe\">\n",
       "  <thead>\n",
       "    <tr style=\"text-align: right;\">\n",
       "      <th></th>\n",
       "      <th>j</th>\n",
       "      <th>Polarity</th>\n",
       "      <th>Coverage</th>\n",
       "      <th>Overlaps</th>\n",
       "      <th>Conflicts</th>\n",
       "      <th>Correct</th>\n",
       "      <th>Incorrect</th>\n",
       "      <th>Emp. Acc.</th>\n",
       "    </tr>\n",
       "  </thead>\n",
       "  <tbody>\n",
       "    <tr>\n",
       "      <th>lf_regex_a</th>\n",
       "      <td>0</td>\n",
       "      <td>[0, 1]</td>\n",
       "      <td>1.0000</td>\n",
       "      <td>1.0000</td>\n",
       "      <td>0.4950</td>\n",
       "      <td>203</td>\n",
       "      <td>197</td>\n",
       "      <td>0.507500</td>\n",
       "    </tr>\n",
       "    <tr>\n",
       "      <th>lf_regex_b</th>\n",
       "      <td>1</td>\n",
       "      <td>[1]</td>\n",
       "      <td>0.0300</td>\n",
       "      <td>0.0300</td>\n",
       "      <td>0.0300</td>\n",
       "      <td>6</td>\n",
       "      <td>6</td>\n",
       "      <td>0.500000</td>\n",
       "    </tr>\n",
       "    <tr>\n",
       "      <th>lf_regex_c</th>\n",
       "      <td>2</td>\n",
       "      <td>[1]</td>\n",
       "      <td>0.0100</td>\n",
       "      <td>0.0100</td>\n",
       "      <td>0.0100</td>\n",
       "      <td>2</td>\n",
       "      <td>2</td>\n",
       "      <td>0.500000</td>\n",
       "    </tr>\n",
       "    <tr>\n",
       "      <th>lf_regex_d</th>\n",
       "      <td>3</td>\n",
       "      <td>[1]</td>\n",
       "      <td>0.0375</td>\n",
       "      <td>0.0375</td>\n",
       "      <td>0.0375</td>\n",
       "      <td>6</td>\n",
       "      <td>9</td>\n",
       "      <td>0.400000</td>\n",
       "    </tr>\n",
       "    <tr>\n",
       "      <th>lf_regex_e</th>\n",
       "      <td>4</td>\n",
       "      <td>[0]</td>\n",
       "      <td>0.0050</td>\n",
       "      <td>0.0050</td>\n",
       "      <td>0.0025</td>\n",
       "      <td>2</td>\n",
       "      <td>0</td>\n",
       "      <td>1.000000</td>\n",
       "    </tr>\n",
       "    <tr>\n",
       "      <th>lf_regex_f</th>\n",
       "      <td>5</td>\n",
       "      <td>[0]</td>\n",
       "      <td>1.0000</td>\n",
       "      <td>1.0000</td>\n",
       "      <td>0.4950</td>\n",
       "      <td>203</td>\n",
       "      <td>197</td>\n",
       "      <td>0.507500</td>\n",
       "    </tr>\n",
       "    <tr>\n",
       "      <th>lf_regex_g</th>\n",
       "      <td>6</td>\n",
       "      <td>[0]</td>\n",
       "      <td>0.0075</td>\n",
       "      <td>0.0075</td>\n",
       "      <td>0.0075</td>\n",
       "      <td>3</td>\n",
       "      <td>0</td>\n",
       "      <td>1.000000</td>\n",
       "    </tr>\n",
       "    <tr>\n",
       "      <th>lf_regex_h</th>\n",
       "      <td>7</td>\n",
       "      <td>[0]</td>\n",
       "      <td>0.0100</td>\n",
       "      <td>0.0100</td>\n",
       "      <td>0.0050</td>\n",
       "      <td>2</td>\n",
       "      <td>2</td>\n",
       "      <td>0.500000</td>\n",
       "    </tr>\n",
       "    <tr>\n",
       "      <th>lf_regex_i</th>\n",
       "      <td>8</td>\n",
       "      <td>[0]</td>\n",
       "      <td>0.0025</td>\n",
       "      <td>0.0025</td>\n",
       "      <td>0.0025</td>\n",
       "      <td>1</td>\n",
       "      <td>0</td>\n",
       "      <td>1.000000</td>\n",
       "    </tr>\n",
       "    <tr>\n",
       "      <th>lf_regex_j</th>\n",
       "      <td>9</td>\n",
       "      <td>[0]</td>\n",
       "      <td>0.3125</td>\n",
       "      <td>0.3125</td>\n",
       "      <td>0.1750</td>\n",
       "      <td>104</td>\n",
       "      <td>21</td>\n",
       "      <td>0.832000</td>\n",
       "    </tr>\n",
       "    <tr>\n",
       "      <th>lf_regex_k</th>\n",
       "      <td>10</td>\n",
       "      <td>[1]</td>\n",
       "      <td>0.3550</td>\n",
       "      <td>0.3550</td>\n",
       "      <td>0.3550</td>\n",
       "      <td>70</td>\n",
       "      <td>72</td>\n",
       "      <td>0.492958</td>\n",
       "    </tr>\n",
       "    <tr>\n",
       "      <th>lf_regex_l</th>\n",
       "      <td>11</td>\n",
       "      <td>[0]</td>\n",
       "      <td>0.2175</td>\n",
       "      <td>0.2175</td>\n",
       "      <td>0.1025</td>\n",
       "      <td>65</td>\n",
       "      <td>22</td>\n",
       "      <td>0.747126</td>\n",
       "    </tr>\n",
       "  </tbody>\n",
       "</table>\n",
       "</div>"
      ],
      "text/plain": [
       "             j Polarity  Coverage  Overlaps  Conflicts  Correct  Incorrect  \\\n",
       "lf_regex_a   0   [0, 1]    1.0000    1.0000     0.4950      203        197   \n",
       "lf_regex_b   1      [1]    0.0300    0.0300     0.0300        6          6   \n",
       "lf_regex_c   2      [1]    0.0100    0.0100     0.0100        2          2   \n",
       "lf_regex_d   3      [1]    0.0375    0.0375     0.0375        6          9   \n",
       "lf_regex_e   4      [0]    0.0050    0.0050     0.0025        2          0   \n",
       "lf_regex_f   5      [0]    1.0000    1.0000     0.4950      203        197   \n",
       "lf_regex_g   6      [0]    0.0075    0.0075     0.0075        3          0   \n",
       "lf_regex_h   7      [0]    0.0100    0.0100     0.0050        2          2   \n",
       "lf_regex_i   8      [0]    0.0025    0.0025     0.0025        1          0   \n",
       "lf_regex_j   9      [0]    0.3125    0.3125     0.1750      104         21   \n",
       "lf_regex_k  10      [1]    0.3550    0.3550     0.3550       70         72   \n",
       "lf_regex_l  11      [0]    0.2175    0.2175     0.1025       65         22   \n",
       "\n",
       "            Emp. Acc.  \n",
       "lf_regex_a   0.507500  \n",
       "lf_regex_b   0.500000  \n",
       "lf_regex_c   0.500000  \n",
       "lf_regex_d   0.400000  \n",
       "lf_regex_e   1.000000  \n",
       "lf_regex_f   0.507500  \n",
       "lf_regex_g   1.000000  \n",
       "lf_regex_h   0.500000  \n",
       "lf_regex_i   1.000000  \n",
       "lf_regex_j   0.832000  \n",
       "lf_regex_k   0.492958  \n",
       "lf_regex_l   0.747126  "
      ]
     },
     "execution_count": 21,
     "metadata": {},
     "output_type": "execute_result"
    }
   ],
   "source": [
    "LFAnalysis(L=L_dev, lfs=lfs).lf_summary(Y=df_dev.sentimento.values)"
   ]
  },
  {
   "cell_type": "markdown",
   "metadata": {},
   "source": [
    "### 1.5 - Algumas visualizações\n",
    "\n",
    "// TO DO\n"
   ]
  },
  {
   "cell_type": "code",
   "execution_count": null,
   "metadata": {},
   "outputs": [],
   "source": [
    "normalized_conflict_matrix = LFAnalysis(L=L_train, lfs=lfs).lf_conflicts(normalize_by_overlaps=True)\n",
    "normalized_conflict_matrix = pd.DataFrame([normalized_conflict_matrix], columns=[lf.name for lf in lfs]).T\n",
    "normalized_conflict_matrix.columns = ['normalized_conflict']\n",
    "normalized_conflict_matrix.sort_values(by='normalized_conflict', ascending=False)\n",
    "\n",
    "conflict_matrix = LFAnalysis(L=L_train, lfs=lfs).lf_conflicts()\n",
    "conflict_matrix = pd.DataFrame([conflict_matrix], columns=[lf.name for lf in lfs]).T\n",
    "conflict_matrix.columns = ['conflict']\n",
    "conflict_matrix.sort_values(by='conflict', ascending=False)\n",
    "\n",
    "final_cm = pd.concat([conflict_matrix, normalized_conflict_matrix], axis=1)\n",
    "final_cm"
   ]
  },
  {
   "cell_type": "markdown",
   "metadata": {},
   "source": [
    "### 1.6 - Usando uma LF que usa um modelo já treinado\n",
    "\n",
    "A ideia é usar TransferLearning."
   ]
  }
 ],
 "metadata": {
  "kernelspec": {
   "display_name": "Python 3",
   "language": "python",
   "name": "python3"
  },
  "language_info": {
   "codemirror_mode": {
    "name": "ipython",
    "version": 3
   },
   "file_extension": ".py",
   "mimetype": "text/x-python",
   "name": "python",
   "nbconvert_exporter": "python",
   "pygments_lexer": "ipython3",
   "version": "3.12.1"
  }
 },
 "nbformat": 4,
 "nbformat_minor": 2
}
